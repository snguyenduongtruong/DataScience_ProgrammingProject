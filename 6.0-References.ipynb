{
 "cells": [
  {
   "cell_type": "markdown",
   "metadata": {},
   "source": [
    "### Đồ án môn học\n",
    "- **Lab 2:** (Nhập môn KHDL): Thu thập dữ liệu, Tiền xử lý, Khám phá dữ liệu, Đặt câu hỏi và tiến hành phân tích để hiểu thêm về dữ liệu. \n",
    "### Lecture slides, project instructions for data science programming | HCMUS 2023-2024:\n",
    " https://drive.google.com/drive/folders/1FyzNTCs_xpx-CUVBw_VwXlEt73tf8ywX\n"
   ]
  }
 ],
 "metadata": {
  "language_info": {
   "name": "python"
  }
 },
 "nbformat": 4,
 "nbformat_minor": 2
}
