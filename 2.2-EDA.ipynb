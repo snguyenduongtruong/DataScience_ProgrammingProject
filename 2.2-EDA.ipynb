{
 "cells": [
  {
   "cell_type": "markdown",
   "metadata": {},
   "source": [
    "# Exploratory data analysis"
   ]
  },
  {
   "cell_type": "markdown",
   "metadata": {},
   "source": [
    "### 1. Import"
   ]
  },
  {
   "cell_type": "code",
   "execution_count": 1,
   "metadata": {},
   "outputs": [],
   "source": [
    "import os\n",
    "import sys\n",
    "\n",
    "module_path = os.path.abspath(os.path.join('..'))\n",
    "if module_path not in sys.path:\n",
    "    sys.path.append(module_path)\n",
    "    \n",
    "import warnings\n",
    "warnings.filterwarnings('ignore')\n",
    "\n",
    "import numpy as np\n",
    "import pandas as pd\n",
    "import matplotlib.pyplot as plt\n",
    "\n",
    "import seaborn as sns\n",
    "from scipy.stats import skew, kurtosis\n",
    "from sklearn.preprocessing import StandardScaler\n",
    "\n",
    "pd.set_option(\"display.float_format\", \"{:.1f}\".format)"
   ]
  },
  {
   "cell_type": "markdown",
   "metadata": {},
   "source": [
    "### 2. Exploring your data"
   ]
  },
  {
   "cell_type": "markdown",
   "metadata": {},
   "source": [
    "#### Read cleaned data from file"
   ]
  },
  {
   "cell_type": "code",
   "execution_count": 2,
   "metadata": {},
   "outputs": [
    {
     "data": {
      "text/html": [
       "<div>\n",
       "<style scoped>\n",
       "    .dataframe tbody tr th:only-of-type {\n",
       "        vertical-align: middle;\n",
       "    }\n",
       "\n",
       "    .dataframe tbody tr th {\n",
       "        vertical-align: top;\n",
       "    }\n",
       "\n",
       "    .dataframe thead th {\n",
       "        text-align: right;\n",
       "    }\n",
       "</style>\n",
       "<table border=\"1\" class=\"dataframe\">\n",
       "  <thead>\n",
       "    <tr style=\"text-align: right;\">\n",
       "      <th></th>\n",
       "      <th>Development Name</th>\n",
       "      <th>Borough</th>\n",
       "      <th>Location</th>\n",
       "      <th>Funding Source</th>\n",
       "      <th>Vendor Name</th>\n",
       "      <th>Revenue Month</th>\n",
       "      <th>Service Start Date</th>\n",
       "      <th>Service End Date</th>\n",
       "      <th># days</th>\n",
       "      <th>Current Charges</th>\n",
       "      <th>Consumption (Therms)</th>\n",
       "    </tr>\n",
       "  </thead>\n",
       "  <tbody>\n",
       "    <tr>\n",
       "      <th>0</th>\n",
       "      <td>ADAMS</td>\n",
       "      <td>BRONX</td>\n",
       "      <td>BLD 04</td>\n",
       "      <td>FEDERAL</td>\n",
       "      <td>CONSOLIDATED EDISON COMPANY OF NY</td>\n",
       "      <td>2010-01-01</td>\n",
       "      <td>2009-12-24</td>\n",
       "      <td>2010-01-26</td>\n",
       "      <td>33</td>\n",
       "      <td>78293.0</td>\n",
       "      <td>136632.0</td>\n",
       "    </tr>\n",
       "    <tr>\n",
       "      <th>1</th>\n",
       "      <td>ADAMS</td>\n",
       "      <td>BRONX</td>\n",
       "      <td>BLD 04</td>\n",
       "      <td>FEDERAL</td>\n",
       "      <td>HESS CORPORATION (905243) - 2</td>\n",
       "      <td>2010-01-01</td>\n",
       "      <td>2009-12-25</td>\n",
       "      <td>2010-01-26</td>\n",
       "      <td>32</td>\n",
       "      <td>133779.5</td>\n",
       "      <td>136632.0</td>\n",
       "    </tr>\n",
       "    <tr>\n",
       "      <th>2</th>\n",
       "      <td>ALBANY/ALBANY II</td>\n",
       "      <td>BROOKLYN</td>\n",
       "      <td>ALBANY BLD 04</td>\n",
       "      <td>FEDERAL</td>\n",
       "      <td>National Grid NYC</td>\n",
       "      <td>2010-01-01</td>\n",
       "      <td>2009-12-29</td>\n",
       "      <td>2010-01-28</td>\n",
       "      <td>30</td>\n",
       "      <td>44335.2</td>\n",
       "      <td>153899.2</td>\n",
       "    </tr>\n",
       "    <tr>\n",
       "      <th>3</th>\n",
       "      <td>ALBANY/ALBANY II</td>\n",
       "      <td>BROOKLYN</td>\n",
       "      <td>ALBANY BLD 04</td>\n",
       "      <td>FEDERAL</td>\n",
       "      <td>National Grid NYC</td>\n",
       "      <td>2010-01-01</td>\n",
       "      <td>2009-12-29</td>\n",
       "      <td>2010-01-28</td>\n",
       "      <td>30</td>\n",
       "      <td>22034.9</td>\n",
       "      <td>76488.8</td>\n",
       "    </tr>\n",
       "    <tr>\n",
       "      <th>4</th>\n",
       "      <td>AMSTERDAM</td>\n",
       "      <td>MANHATTAN</td>\n",
       "      <td>BLD 02</td>\n",
       "      <td>FEDERAL</td>\n",
       "      <td>CONSOLIDATED EDISON COMPANY OF NY</td>\n",
       "      <td>2010-01-01</td>\n",
       "      <td>2009-12-24</td>\n",
       "      <td>2010-01-26</td>\n",
       "      <td>33</td>\n",
       "      <td>95456.6</td>\n",
       "      <td>169137.0</td>\n",
       "    </tr>\n",
       "  </tbody>\n",
       "</table>\n",
       "</div>"
      ],
      "text/plain": [
       "   Development Name    Borough       Location Funding Source  \\\n",
       "0             ADAMS      BRONX         BLD 04        FEDERAL   \n",
       "1             ADAMS      BRONX         BLD 04        FEDERAL   \n",
       "2  ALBANY/ALBANY II   BROOKLYN  ALBANY BLD 04        FEDERAL   \n",
       "3  ALBANY/ALBANY II   BROOKLYN  ALBANY BLD 04        FEDERAL   \n",
       "4         AMSTERDAM  MANHATTAN         BLD 02        FEDERAL   \n",
       "\n",
       "                         Vendor Name Revenue Month Service Start Date  \\\n",
       "0  CONSOLIDATED EDISON COMPANY OF NY    2010-01-01         2009-12-24   \n",
       "1      HESS CORPORATION (905243) - 2    2010-01-01         2009-12-25   \n",
       "2                  National Grid NYC    2010-01-01         2009-12-29   \n",
       "3                  National Grid NYC    2010-01-01         2009-12-29   \n",
       "4  CONSOLIDATED EDISON COMPANY OF NY    2010-01-01         2009-12-24   \n",
       "\n",
       "  Service End Date  # days  Current Charges  Consumption (Therms)  \n",
       "0       2010-01-26      33          78293.0              136632.0  \n",
       "1       2010-01-26      32         133779.5              136632.0  \n",
       "2       2010-01-28      30          44335.2              153899.2  \n",
       "3       2010-01-28      30          22034.9               76488.8  \n",
       "4       2010-01-26      33          95456.6              169137.0  "
      ]
     },
     "execution_count": 2,
     "metadata": {},
     "output_type": "execute_result"
    }
   ],
   "source": [
    "cleaned_df = pd.read_csv(\"./Data/PROCESSED_heating-gas-consumption-and-cost.csv\")\n",
    "cleaned_df.head()"
   ]
  },
  {
   "cell_type": "markdown",
   "metadata": {},
   "source": [
    "#### How many rows and how many columns does the data have?"
   ]
  },
  {
   "cell_type": "code",
   "execution_count": 4,
   "metadata": {},
   "outputs": [
    {
     "name": "stdout",
     "output_type": "stream",
     "text": [
      "The number of row: 179595\n",
      "The number of column: 11\n",
      "Your data good!.\n"
     ]
    }
   ],
   "source": [
    "shape = cleaned_df.shape\n",
    "print(\"The number of row:\", cleaned_df.shape[0])\n",
    "print(\"The number of column:\", cleaned_df.shape[1])\n",
    "if shape[0] > 1000:\n",
    "    print(f\"Your data good!.\")\n",
    "else:\n",
    "    print(f\"Your raw data absolutely small. Please choose larger year interval.!\")"
   ]
  },
  {
   "cell_type": "markdown",
   "metadata": {},
   "source": [
    "#### Type of dataset."
   ]
  },
  {
   "cell_type": "code",
   "execution_count": 5,
   "metadata": {},
   "outputs": [
    {
     "name": "stdout",
     "output_type": "stream",
     "text": [
      "<class 'pandas.core.frame.DataFrame'>\n",
      "RangeIndex: 179595 entries, 0 to 179594\n",
      "Data columns (total 11 columns):\n",
      " #   Column                Non-Null Count   Dtype  \n",
      "---  ------                --------------   -----  \n",
      " 0   Development Name      179595 non-null  object \n",
      " 1   Borough               179595 non-null  object \n",
      " 2   Location              179595 non-null  object \n",
      " 3   Funding Source        179595 non-null  object \n",
      " 4   Vendor Name           179595 non-null  object \n",
      " 5   Revenue Month         179595 non-null  object \n",
      " 6   Service Start Date    179595 non-null  object \n",
      " 7   Service End Date      179595 non-null  object \n",
      " 8   # days                179595 non-null  int64  \n",
      " 9   Current Charges       179595 non-null  float64\n",
      " 10  Consumption (Therms)  179595 non-null  float64\n",
      "dtypes: float64(2), int64(1), object(8)\n",
      "memory usage: 15.1+ MB\n"
     ]
    }
   ],
   "source": [
    "cleaned_df.info()"
   ]
  },
  {
   "cell_type": "markdown",
   "metadata": {},
   "source": [
    "#### Convert the data type appropriately\n",
    "- `Revenue Month`, `Service Start Date`, `Service End Date`: datetime"
   ]
  },
  {
   "cell_type": "code",
   "execution_count": 7,
   "metadata": {},
   "outputs": [],
   "source": [
    "cleaned_df['Revenue Month'] = pd.to_datetime(cleaned_df['Revenue Month'], format='%Y-%m-%d')\n",
    "cleaned_df['Service Start Date'] = pd.to_datetime(cleaned_df['Service Start Date'], format='%Y-%m-%d')\n",
    "cleaned_df['Service End Date'] = pd.to_datetime(cleaned_df['Service End Date'], format='%Y-%m-%d')"
   ]
  },
  {
   "cell_type": "markdown",
   "metadata": {},
   "source": [
    "Summarize all descriptive statistics, variance, standard deviation, coefficient of variation, kurtosis, moments, covariance and correlation values"
   ]
  },
  {
   "cell_type": "code",
   "execution_count": 16,
   "metadata": {},
   "outputs": [
    {
     "name": "stdout",
     "output_type": "stream",
     "text": [
      "                        Mean  Median  Std Deviation     Variance  \\\n",
      "# days                  30.2    30.0            8.7         75.2   \n",
      "Current Charges      10519.6  1311.5        26460.9  700177383.8   \n",
      "Consumption (Therms) 21095.3  2450.0        49961.3 2496126700.7   \n",
      "\n",
      "                      Coeff of Variation  Skewness  Kurtosis  Moments  \\\n",
      "# days                              28.7      24.8    1114.7      2.3   \n",
      "Current Charges                    251.5       5.9      73.1  13967.8   \n",
      "Consumption (Therms)               236.8       5.3      79.6  28033.5   \n",
      "\n",
      "                      Cov_# days  Cov_Current Charges  \\\n",
      "# days                      75.2              13576.8   \n",
      "Current Charges          13576.8          700177383.8   \n",
      "Consumption (Therms)     24776.5         1241172302.5   \n",
      "\n",
      "                      Cov_Consumption (Therms)  Corr_# days  \\\n",
      "# days                                 24776.5          1.0   \n",
      "Current Charges                   1241172302.5          0.1   \n",
      "Consumption (Therms)              2496126700.7          0.1   \n",
      "\n",
      "                      Corr_Current Charges  Corr_Consumption (Therms)  \n",
      "# days                                 0.1                        0.1  \n",
      "Current Charges                        1.0                        0.9  \n",
      "Consumption (Therms)                   0.9                        1.0  \n"
     ]
    }
   ],
   "source": [
    "df_copy = cleaned_df[['# days', 'Current Charges', 'Consumption (Therms)']]\n",
    "# Tính toán các thông số thống kê\n",
    "descriptive_stats = df_copy.describe()\n",
    "\n",
    "# Phương sai và độ lệch chuẩn\n",
    "variance = df_copy.var()\n",
    "std_dev = df_copy.std()\n",
    "\n",
    "# Hệ số biến động\n",
    "coeff_of_variation = (std_dev / descriptive_stats.loc['mean']) * 100\n",
    "\n",
    "# Skewness\n",
    "skewness = skew(df_copy)\n",
    "\n",
    "# Kurtosis\n",
    "kurt = kurtosis(df_copy)\n",
    "\n",
    "# Moments\n",
    "moments = df_copy.mad()\n",
    "\n",
    "# Covariance và Correlation\n",
    "covariance = df_copy.cov()\n",
    "correlation = df_copy.corr()\n",
    "\n",
    "combined_stats = pd.DataFrame({\n",
    "    'Mean': descriptive_stats.loc['mean'],\n",
    "    'Median': descriptive_stats.loc['50%'],\n",
    "    'Std Deviation': std_dev,\n",
    "    'Variance': variance,\n",
    "    'Coeff of Variation': coeff_of_variation,\n",
    "    'Skewness': skewness,\n",
    "    'Kurtosis': kurt,\n",
    "    'Moments': moments\n",
    "})\n",
    "\n",
    "combined_stats = pd.concat([combined_stats, covariance.add_prefix('Cov_'), correlation.add_prefix('Corr_')], axis=1)\n",
    "\n",
    "print(combined_stats)\n"
   ]
  },
  {
   "cell_type": "markdown",
   "metadata": {},
   "source": [
    "Considering the available features within the training dataset, we want to identify and analyse the relationships between them, and then determine which features within the dataset significantly contribute to our solution goal. By using calculation and visualisation, Python allows us to create a correlation matrix, which is a table that represents the correlation coefficients between different variables."
   ]
  },
  {
   "cell_type": "code",
   "execution_count": 17,
   "metadata": {},
   "outputs": [
    {
     "data": {
      "image/png": "[encoded data removed]",
      "text/plain": [
       "<Figure size 1200x800 with 2 Axes>"
      ]
     },
     "metadata": {},
     "output_type": "display_data"
    }
   ],
   "source": [
    "correlation_matrix = cleaned_df.corr()\n",
    "\n",
    "plt.figure(figsize=(12, 8))\n",
    "sns.heatmap(correlation_matrix, annot=False, cmap=\"coolwarm\", fmt=\".2f\", linewidths=0.5)\n",
    "plt.title(\"Correlation Matrix for the Dataset\")\n",
    "plt.show()"
   ]
  }
 ],
 "metadata": {
  "kernelspec": {
   "display_name": "base",
   "language": "python",
   "name": "python3"
  },
  "language_info": {
   "codemirror_mode": {
    "name": "ipython",
    "version": 3
   },
   "file_extension": ".py",
   "mimetype": "text/x-python",
   "name": "python",
   "nbconvert_exporter": "python",
   "pygments_lexer": "ipython3",
   "version": "3.10.9"
  }
 },
 "nbformat": 4,
 "nbformat_minor": 2
}
