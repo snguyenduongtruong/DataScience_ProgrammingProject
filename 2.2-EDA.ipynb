{
 "cells": [
  {
   "cell_type": "markdown",
   "metadata": {},
   "source": [
    "# Exploratory data analysis"
   ]
  },
  {
   "cell_type": "markdown",
   "metadata": {},
   "source": [
    "### 1. Import"
   ]
  },
  {
   "cell_type": "code",
   "execution_count": 1,
   "metadata": {},
   "outputs": [],
   "source": [
    "import os\n",
    "import sys\n",
    "\n",
    "module_path = os.path.abspath(os.path.join('..'))\n",
    "if module_path not in sys.path:\n",
    "    sys.path.append(module_path)\n",
    "    \n",
    "import warnings\n",
    "warnings.filterwarnings('ignore')\n",
    "\n",
    "import numpy as np\n",
    "import pandas as pd\n",
    "import matplotlib.pyplot as plt\n",
    "\n",
    "import seaborn as sns\n",
    "from scipy.stats import skew, kurtosis\n",
    "from sklearn.preprocessing import StandardScaler\n",
    "\n",
    "pd.set_option(\"display.float_format\", \"{:.1f}\".format)"
   ]
  },
  {
   "cell_type": "markdown",
   "metadata": {},
   "source": [
    "### 2. Exploring your data"
   ]
  },
  {
   "cell_type": "markdown",
   "metadata": {},
   "source": [
    "#### a. Read cleaned data from file"
   ]
  },
  {
   "cell_type": "code",
   "execution_count": 2,
   "metadata": {},
   "outputs": [
    {
     "data": {
      "text/html": [
       "<div>\n",
       "<style scoped>\n",
       "    .dataframe tbody tr th:only-of-type {\n",
       "        vertical-align: middle;\n",
       "    }\n",
       "\n",
       "    .dataframe tbody tr th {\n",
       "        vertical-align: top;\n",
       "    }\n",
       "\n",
       "    .dataframe thead th {\n",
       "        text-align: right;\n",
       "    }\n",
       "</style>\n",
       "<table border=\"1\" class=\"dataframe\">\n",
       "  <thead>\n",
       "    <tr style=\"text-align: right;\">\n",
       "      <th></th>\n",
       "      <th>Development Name</th>\n",
       "      <th>Borough</th>\n",
       "      <th>Location</th>\n",
       "      <th>Funding Source</th>\n",
       "      <th>Vendor Name</th>\n",
       "      <th>Revenue Month</th>\n",
       "      <th>Service Start Date</th>\n",
       "      <th>Service End Date</th>\n",
       "      <th># days</th>\n",
       "      <th>Current Charges</th>\n",
       "      <th>Consumption (Therms)</th>\n",
       "    </tr>\n",
       "  </thead>\n",
       "  <tbody>\n",
       "    <tr>\n",
       "      <th>0</th>\n",
       "      <td>ADAMS</td>\n",
       "      <td>BRONX</td>\n",
       "      <td>BLD 04</td>\n",
       "      <td>FEDERAL</td>\n",
       "      <td>CONSOLIDATED EDISON COMPANY OF NY</td>\n",
       "      <td>2010-01-01</td>\n",
       "      <td>2009-12-24</td>\n",
       "      <td>2010-01-26</td>\n",
       "      <td>33</td>\n",
       "      <td>78293.0</td>\n",
       "      <td>136632.0</td>\n",
       "    </tr>\n",
       "    <tr>\n",
       "      <th>1</th>\n",
       "      <td>ALBANY/ALBANY II</td>\n",
       "      <td>BROOKLYN</td>\n",
       "      <td>ALBANY BLD 04</td>\n",
       "      <td>FEDERAL</td>\n",
       "      <td>NATIONAL GRID NYC</td>\n",
       "      <td>2010-01-01</td>\n",
       "      <td>2009-12-29</td>\n",
       "      <td>2010-01-28</td>\n",
       "      <td>30</td>\n",
       "      <td>44335.2</td>\n",
       "      <td>153899.2</td>\n",
       "    </tr>\n",
       "    <tr>\n",
       "      <th>2</th>\n",
       "      <td>ALBANY/ALBANY II</td>\n",
       "      <td>BROOKLYN</td>\n",
       "      <td>ALBANY BLD 04</td>\n",
       "      <td>FEDERAL</td>\n",
       "      <td>NATIONAL GRID NYC</td>\n",
       "      <td>2010-01-01</td>\n",
       "      <td>2009-12-29</td>\n",
       "      <td>2010-01-28</td>\n",
       "      <td>30</td>\n",
       "      <td>22034.9</td>\n",
       "      <td>76488.8</td>\n",
       "    </tr>\n",
       "    <tr>\n",
       "      <th>3</th>\n",
       "      <td>AMSTERDAM</td>\n",
       "      <td>MANHATTAN</td>\n",
       "      <td>BLD 02</td>\n",
       "      <td>FEDERAL</td>\n",
       "      <td>CONSOLIDATED EDISON COMPANY OF NY</td>\n",
       "      <td>2010-01-01</td>\n",
       "      <td>2009-12-24</td>\n",
       "      <td>2010-01-26</td>\n",
       "      <td>33</td>\n",
       "      <td>95456.6</td>\n",
       "      <td>169137.0</td>\n",
       "    </tr>\n",
       "    <tr>\n",
       "      <th>4</th>\n",
       "      <td>AMSTERDAM AVENUE</td>\n",
       "      <td>MANHATTAN</td>\n",
       "      <td>BLD 01</td>\n",
       "      <td>FEDERAL</td>\n",
       "      <td>CONSOLIDATED EDISON COMPANY OF NY</td>\n",
       "      <td>2010-01-01</td>\n",
       "      <td>2009-12-24</td>\n",
       "      <td>2010-01-26</td>\n",
       "      <td>33</td>\n",
       "      <td>14607.7</td>\n",
       "      <td>26301.0</td>\n",
       "    </tr>\n",
       "  </tbody>\n",
       "</table>\n",
       "</div>"
      ],
      "text/plain": [
       "   Development Name    Borough       Location Funding Source  \\\n",
       "0             ADAMS      BRONX         BLD 04        FEDERAL   \n",
       "1  ALBANY/ALBANY II   BROOKLYN  ALBANY BLD 04        FEDERAL   \n",
       "2  ALBANY/ALBANY II   BROOKLYN  ALBANY BLD 04        FEDERAL   \n",
       "3         AMSTERDAM  MANHATTAN         BLD 02        FEDERAL   \n",
       "4  AMSTERDAM AVENUE  MANHATTAN         BLD 01        FEDERAL   \n",
       "\n",
       "                         Vendor Name Revenue Month Service Start Date  \\\n",
       "0  CONSOLIDATED EDISON COMPANY OF NY    2010-01-01         2009-12-24   \n",
       "1                  NATIONAL GRID NYC    2010-01-01         2009-12-29   \n",
       "2                  NATIONAL GRID NYC    2010-01-01         2009-12-29   \n",
       "3  CONSOLIDATED EDISON COMPANY OF NY    2010-01-01         2009-12-24   \n",
       "4  CONSOLIDATED EDISON COMPANY OF NY    2010-01-01         2009-12-24   \n",
       "\n",
       "  Service End Date  # days  Current Charges  Consumption (Therms)  \n",
       "0       2010-01-26      33          78293.0              136632.0  \n",
       "1       2010-01-28      30          44335.2              153899.2  \n",
       "2       2010-01-28      30          22034.9               76488.8  \n",
       "3       2010-01-26      33          95456.6              169137.0  \n",
       "4       2010-01-26      33          14607.7               26301.0  "
      ]
     },
     "execution_count": 2,
     "metadata": {},
     "output_type": "execute_result"
    }
   ],
   "source": [
    "cleaned_df = pd.read_csv(\"./Data/PROCESSED_heating-gas-consumption-and-cost.csv\")\n",
    "cleaned_df.head()"
   ]
  },
  {
   "cell_type": "markdown",
   "metadata": {},
   "source": [
    "#### b. How many rows and how many columns does the data have?"
   ]
  },
  {
   "cell_type": "code",
   "execution_count": 3,
   "metadata": {},
   "outputs": [
    {
     "name": "stdout",
     "output_type": "stream",
     "text": [
      "The number of row: 92199\n",
      "The number of column: 11\n",
      "Your data good!.\n"
     ]
    }
   ],
   "source": [
    "shape = cleaned_df.shape\n",
    "print(\"The number of row:\", cleaned_df.shape[0])\n",
    "print(\"The number of column:\", cleaned_df.shape[1])\n",
    "if shape[0] > 1000:\n",
    "    print(f\"Your data good!.\")\n",
    "else:\n",
    "    print(f\"Your raw data absolutely small. Please choose larger year interval.!\")"
   ]
  },
  {
   "cell_type": "markdown",
   "metadata": {},
   "source": [
    "#### c. Type of dataset."
   ]
  },
  {
   "cell_type": "code",
   "execution_count": 5,
   "metadata": {},
   "outputs": [
    {
     "name": "stdout",
     "output_type": "stream",
     "text": [
      "<class 'pandas.core.frame.DataFrame'>\n",
      "RangeIndex: 92199 entries, 0 to 92198\n",
      "Data columns (total 11 columns):\n",
      " #   Column                Non-Null Count  Dtype  \n",
      "---  ------                --------------  -----  \n",
      " 0   Development Name      92199 non-null  object \n",
      " 1   Borough               92199 non-null  object \n",
      " 2   Location              92199 non-null  object \n",
      " 3   Funding Source        92199 non-null  object \n",
      " 4   Vendor Name           92199 non-null  object \n",
      " 5   Revenue Month         92199 non-null  object \n",
      " 6   Service Start Date    92199 non-null  object \n",
      " 7   Service End Date      92199 non-null  object \n",
      " 8   # days                92199 non-null  int64  \n",
      " 9   Current Charges       92199 non-null  float64\n",
      " 10  Consumption (Therms)  92199 non-null  float64\n",
      "dtypes: float64(2), int64(1), object(8)\n",
      "memory usage: 7.7+ MB\n"
     ]
    }
   ],
   "source": [
    "cleaned_df.info()"
   ]
  },
  {
   "cell_type": "markdown",
   "metadata": {},
   "source": [
    "#### d. Convert the data type appropriately\n",
    "- `Revenue Month`, `Service Start Date`, `Service End Date`: datetime"
   ]
  },
  {
   "cell_type": "code",
   "execution_count": 6,
   "metadata": {},
   "outputs": [],
   "source": [
    "cleaned_df['Revenue Month'] = pd.to_datetime(cleaned_df['Revenue Month'], format='%Y-%m-%d')\n",
    "cleaned_df['Service Start Date'] = pd.to_datetime(cleaned_df['Service Start Date'], format='%Y-%m-%d')\n",
    "cleaned_df['Service End Date'] = pd.to_datetime(cleaned_df['Service End Date'], format='%Y-%m-%d')"
   ]
  },
  {
   "cell_type": "markdown",
   "metadata": {},
   "source": [
    "#### e. Calculate all descriptive statistics\n",
    "- **Mean** trung bình\n",
    "- **Median** trung vị\n",
    "- **Variance** phương sai\n",
    "- **Standard deviation** độ lệch chuẩn\n",
    "- **Coefficient of variation** (hệ số biến thiên: tỷ lệ giữa độ lệch chuẩn và trung bình)\n",
    "- **Skewness** (độ lệch, độ xiên: mô tả sự biến dạng sự bất đối xứng trong một phân phối hình chuông đối xứng hay phân phối chuẩn)\n",
    "- **Kurtosis** (độ nhọn: mô tả hình dạng đuôi của phân phối)\n",
    "- **Moments** (đo lường định lượng mô tả hình dạng và đặc điểm của một phân phối xác suất)\n",
    "- **Covariance and correlation values** (Hiệp phương sai và hệ số tương quan. Hệ số tương quan là một đo lường chuẩn hóa của hiệp phương sai, nằm trong khoảng từ -1 đến 1. Giá trị 1 cho thấy mối quan hệ tuyến tính dương hoàn hảo, -1 cho thấy mối quan hệ tuyến tính âm hoàn hảo và 0 cho thấy không có mối quan hệ tuyến tính.)"
   ]
  },
  {
   "cell_type": "code",
   "execution_count": 7,
   "metadata": {},
   "outputs": [
    {
     "name": "stdout",
     "output_type": "stream",
     "text": [
      "                        Mean  Median  Std Deviation     Variance  \\\n",
      "# days                  30.6    30.0            8.8         76.6   \n",
      "Current Charges      10012.6  1341.8        25583.3  654503201.7   \n",
      "Consumption (Therms) 20889.1  2405.0        49320.0 2432458653.1   \n",
      "\n",
      "                      Coeff of Variation  Skewness  Kurtosis  Moments  \\\n",
      "# days                              28.6      25.1    1063.1      2.3   \n",
      "Current Charges                    255.5       5.9      66.7  13228.7   \n",
      "Consumption (Therms)               236.1       5.3      80.7  27720.2   \n",
      "\n",
      "                      Cov_# days  Cov_Current Charges  \\\n",
      "# days                      76.6              11939.5   \n",
      "Current Charges          11939.5          654503201.7   \n",
      "Consumption (Therms)     23630.3         1172299634.6   \n",
      "\n",
      "                      Cov_Consumption (Therms)  Corr_# days  \\\n",
      "# days                                 23630.3          1.0   \n",
      "Current Charges                   1172299634.6          0.1   \n",
      "Consumption (Therms)              2432458653.1          0.1   \n",
      "\n",
      "                      Corr_Current Charges  Corr_Consumption (Therms)  \n",
      "# days                                 0.1                        0.1  \n",
      "Current Charges                        1.0                        0.9  \n",
      "Consumption (Therms)                   0.9                        1.0  \n"
     ]
    }
   ],
   "source": [
    "df_copy = cleaned_df[['# days', 'Current Charges', 'Consumption (Therms)']]\n",
    "# Calculate statistical coefficients\n",
    "descriptive_stats = df_copy.describe()\n",
    "\n",
    "# Variance, standard deviations\n",
    "variance = df_copy.var()\n",
    "std_dev = df_copy.std()\n",
    "coeff_of_variation = (std_dev / descriptive_stats.loc['mean']) * 100\n",
    "\n",
    "# Skewness\n",
    "skewness = skew(df_copy)\n",
    "\n",
    "# Kurtosis\n",
    "kurt = kurtosis(df_copy)\n",
    "\n",
    "# Moments\n",
    "moments = df_copy.apply(lambda x: (x - x.mean()).abs().mean())\n",
    "\n",
    "# Covariance và Correlation\n",
    "covariance = df_copy.cov()\n",
    "correlation = df_copy.corr()\n",
    "\n",
    "combined_stats = pd.DataFrame({\n",
    "    'Mean': descriptive_stats.loc['mean'],\n",
    "    'Median': descriptive_stats.loc['50%'],\n",
    "    'Std Deviation': std_dev,\n",
    "    'Variance': variance,\n",
    "    'Coeff of Variation': coeff_of_variation,\n",
    "    'Skewness': skewness,\n",
    "    'Kurtosis': kurt,\n",
    "    'Moments': moments\n",
    "})\n",
    "\n",
    "combined_stats = pd.concat([combined_stats, covariance.add_prefix('Cov_'), correlation.add_prefix('Corr_')], axis=1)\n",
    "\n",
    "print(combined_stats)\n"
   ]
  },
  {
   "cell_type": "markdown",
   "metadata": {},
   "source": [
    "#### f. Considering the available features within the training dataset\n",
    "Xác định và phân tích mối quan hệ giữa chúng, sau đó xác định những tính năng nào trong tập dữ liệu đóng góp đáng kể cho mục tiêu giải pháp của chúng tôi. Bằng cách sử dụng tính toán và trực quan hóa, Python cho phép chúng ta tạo ma trận tương quan, đây là bảng biểu thị các hệ số tương quan giữa các biến khác nhau."
   ]
  },
  {
   "cell_type": "code",
   "execution_count": 9,
   "metadata": {},
   "outputs": [
    {
     "data": {
      "text/html": [
       "<div>\n",
       "<style scoped>\n",
       "    .dataframe tbody tr th:only-of-type {\n",
       "        vertical-align: middle;\n",
       "    }\n",
       "\n",
       "    .dataframe tbody tr th {\n",
       "        vertical-align: top;\n",
       "    }\n",
       "\n",
       "    .dataframe thead th {\n",
       "        text-align: right;\n",
       "    }\n",
       "</style>\n",
       "<table border=\"1\" class=\"dataframe\">\n",
       "  <thead>\n",
       "    <tr style=\"text-align: right;\">\n",
       "      <th></th>\n",
       "      <th>Development Name</th>\n",
       "      <th>Borough</th>\n",
       "      <th>Location</th>\n",
       "      <th>Funding Source</th>\n",
       "      <th>Vendor Name</th>\n",
       "      <th>Revenue Month</th>\n",
       "      <th>Service Start Date</th>\n",
       "      <th>Service End Date</th>\n",
       "      <th># days</th>\n",
       "      <th>Current Charges</th>\n",
       "      <th>Consumption (Therms)</th>\n",
       "    </tr>\n",
       "  </thead>\n",
       "  <tbody>\n",
       "    <tr>\n",
       "      <th>0</th>\n",
       "      <td>ADAMS</td>\n",
       "      <td>BRONX</td>\n",
       "      <td>BLD 04</td>\n",
       "      <td>FEDERAL</td>\n",
       "      <td>CONSOLIDATED EDISON COMPANY OF NY</td>\n",
       "      <td>2010-01-01</td>\n",
       "      <td>2009-12-24</td>\n",
       "      <td>2010-01-26</td>\n",
       "      <td>33</td>\n",
       "      <td>78293.0</td>\n",
       "      <td>136632.0</td>\n",
       "    </tr>\n",
       "    <tr>\n",
       "      <th>1</th>\n",
       "      <td>ALBANY/ALBANY II</td>\n",
       "      <td>BROOKLYN</td>\n",
       "      <td>ALBANY BLD 04</td>\n",
       "      <td>FEDERAL</td>\n",
       "      <td>NATIONAL GRID NYC</td>\n",
       "      <td>2010-01-01</td>\n",
       "      <td>2009-12-29</td>\n",
       "      <td>2010-01-28</td>\n",
       "      <td>30</td>\n",
       "      <td>44335.2</td>\n",
       "      <td>153899.2</td>\n",
       "    </tr>\n",
       "    <tr>\n",
       "      <th>2</th>\n",
       "      <td>ALBANY/ALBANY II</td>\n",
       "      <td>BROOKLYN</td>\n",
       "      <td>ALBANY BLD 04</td>\n",
       "      <td>FEDERAL</td>\n",
       "      <td>NATIONAL GRID NYC</td>\n",
       "      <td>2010-01-01</td>\n",
       "      <td>2009-12-29</td>\n",
       "      <td>2010-01-28</td>\n",
       "      <td>30</td>\n",
       "      <td>22034.9</td>\n",
       "      <td>76488.8</td>\n",
       "    </tr>\n",
       "    <tr>\n",
       "      <th>3</th>\n",
       "      <td>AMSTERDAM</td>\n",
       "      <td>MANHATTAN</td>\n",
       "      <td>BLD 02</td>\n",
       "      <td>FEDERAL</td>\n",
       "      <td>CONSOLIDATED EDISON COMPANY OF NY</td>\n",
       "      <td>2010-01-01</td>\n",
       "      <td>2009-12-24</td>\n",
       "      <td>2010-01-26</td>\n",
       "      <td>33</td>\n",
       "      <td>95456.6</td>\n",
       "      <td>169137.0</td>\n",
       "    </tr>\n",
       "    <tr>\n",
       "      <th>4</th>\n",
       "      <td>AMSTERDAM AVENUE</td>\n",
       "      <td>MANHATTAN</td>\n",
       "      <td>BLD 01</td>\n",
       "      <td>FEDERAL</td>\n",
       "      <td>CONSOLIDATED EDISON COMPANY OF NY</td>\n",
       "      <td>2010-01-01</td>\n",
       "      <td>2009-12-24</td>\n",
       "      <td>2010-01-26</td>\n",
       "      <td>33</td>\n",
       "      <td>14607.7</td>\n",
       "      <td>26301.0</td>\n",
       "    </tr>\n",
       "    <tr>\n",
       "      <th>...</th>\n",
       "      <td>...</td>\n",
       "      <td>...</td>\n",
       "      <td>...</td>\n",
       "      <td>...</td>\n",
       "      <td>...</td>\n",
       "      <td>...</td>\n",
       "      <td>...</td>\n",
       "      <td>...</td>\n",
       "      <td>...</td>\n",
       "      <td>...</td>\n",
       "      <td>...</td>\n",
       "    </tr>\n",
       "    <tr>\n",
       "      <th>92194</th>\n",
       "      <td>WYCKOFF GARDENS</td>\n",
       "      <td>BROOKLYN</td>\n",
       "      <td>BLD 03</td>\n",
       "      <td>FEDERAL</td>\n",
       "      <td>NATIONAL GRID NYC</td>\n",
       "      <td>2021-06-01</td>\n",
       "      <td>2021-05-25</td>\n",
       "      <td>2021-06-25</td>\n",
       "      <td>31</td>\n",
       "      <td>1419.3</td>\n",
       "      <td>3615.0</td>\n",
       "    </tr>\n",
       "    <tr>\n",
       "      <th>92195</th>\n",
       "      <td>WYCKOFF GARDENS</td>\n",
       "      <td>BROOKLYN</td>\n",
       "      <td>BLD 03</td>\n",
       "      <td>FEDERAL</td>\n",
       "      <td>NATIONAL GRID NYC</td>\n",
       "      <td>2021-10-01</td>\n",
       "      <td>2021-09-24</td>\n",
       "      <td>2021-10-29</td>\n",
       "      <td>35</td>\n",
       "      <td>1036.3</td>\n",
       "      <td>1619.0</td>\n",
       "    </tr>\n",
       "    <tr>\n",
       "      <th>92196</th>\n",
       "      <td>WYCKOFF GARDENS</td>\n",
       "      <td>BROOKLYN</td>\n",
       "      <td>BLD 03</td>\n",
       "      <td>FEDERAL</td>\n",
       "      <td>NATIONAL GRID NYC</td>\n",
       "      <td>2021-11-01</td>\n",
       "      <td>2021-10-29</td>\n",
       "      <td>2021-12-01</td>\n",
       "      <td>33</td>\n",
       "      <td>2505.8</td>\n",
       "      <td>6768.0</td>\n",
       "    </tr>\n",
       "    <tr>\n",
       "      <th>92197</th>\n",
       "      <td>WYCKOFF GARDENS</td>\n",
       "      <td>BROOKLYN</td>\n",
       "      <td>BLD 03</td>\n",
       "      <td>FEDERAL</td>\n",
       "      <td>NATIONAL GRID NYC</td>\n",
       "      <td>2021-12-01</td>\n",
       "      <td>2021-12-21</td>\n",
       "      <td>2022-01-06</td>\n",
       "      <td>16</td>\n",
       "      <td>20992.6</td>\n",
       "      <td>50105.0</td>\n",
       "    </tr>\n",
       "    <tr>\n",
       "      <th>92198</th>\n",
       "      <td>WYCKOFF GARDENS</td>\n",
       "      <td>BROOKLYN</td>\n",
       "      <td>BLD 03</td>\n",
       "      <td>FEDERAL</td>\n",
       "      <td>NATIONAL GRID NYC</td>\n",
       "      <td>2022-01-01</td>\n",
       "      <td>2022-01-25</td>\n",
       "      <td>2022-02-03</td>\n",
       "      <td>9</td>\n",
       "      <td>21399.6</td>\n",
       "      <td>66923.0</td>\n",
       "    </tr>\n",
       "  </tbody>\n",
       "</table>\n",
       "<p>92199 rows × 11 columns</p>\n",
       "</div>"
      ],
      "text/plain": [
       "       Development Name    Borough       Location Funding Source  \\\n",
       "0                 ADAMS      BRONX         BLD 04        FEDERAL   \n",
       "1      ALBANY/ALBANY II   BROOKLYN  ALBANY BLD 04        FEDERAL   \n",
       "2      ALBANY/ALBANY II   BROOKLYN  ALBANY BLD 04        FEDERAL   \n",
       "3             AMSTERDAM  MANHATTAN         BLD 02        FEDERAL   \n",
       "4      AMSTERDAM AVENUE  MANHATTAN         BLD 01        FEDERAL   \n",
       "...                 ...        ...            ...            ...   \n",
       "92194   WYCKOFF GARDENS   BROOKLYN         BLD 03        FEDERAL   \n",
       "92195   WYCKOFF GARDENS   BROOKLYN         BLD 03        FEDERAL   \n",
       "92196   WYCKOFF GARDENS   BROOKLYN         BLD 03        FEDERAL   \n",
       "92197   WYCKOFF GARDENS   BROOKLYN         BLD 03        FEDERAL   \n",
       "92198   WYCKOFF GARDENS   BROOKLYN         BLD 03        FEDERAL   \n",
       "\n",
       "                             Vendor Name Revenue Month Service Start Date  \\\n",
       "0      CONSOLIDATED EDISON COMPANY OF NY    2010-01-01         2009-12-24   \n",
       "1                      NATIONAL GRID NYC    2010-01-01         2009-12-29   \n",
       "2                      NATIONAL GRID NYC    2010-01-01         2009-12-29   \n",
       "3      CONSOLIDATED EDISON COMPANY OF NY    2010-01-01         2009-12-24   \n",
       "4      CONSOLIDATED EDISON COMPANY OF NY    2010-01-01         2009-12-24   \n",
       "...                                  ...           ...                ...   \n",
       "92194                  NATIONAL GRID NYC    2021-06-01         2021-05-25   \n",
       "92195                  NATIONAL GRID NYC    2021-10-01         2021-09-24   \n",
       "92196                  NATIONAL GRID NYC    2021-11-01         2021-10-29   \n",
       "92197                  NATIONAL GRID NYC    2021-12-01         2021-12-21   \n",
       "92198                  NATIONAL GRID NYC    2022-01-01         2022-01-25   \n",
       "\n",
       "      Service End Date  # days  Current Charges  Consumption (Therms)  \n",
       "0           2010-01-26      33          78293.0              136632.0  \n",
       "1           2010-01-28      30          44335.2              153899.2  \n",
       "2           2010-01-28      30          22034.9               76488.8  \n",
       "3           2010-01-26      33          95456.6              169137.0  \n",
       "4           2010-01-26      33          14607.7               26301.0  \n",
       "...                ...     ...              ...                   ...  \n",
       "92194       2021-06-25      31           1419.3                3615.0  \n",
       "92195       2021-10-29      35           1036.3                1619.0  \n",
       "92196       2021-12-01      33           2505.8                6768.0  \n",
       "92197       2022-01-06      16          20992.6               50105.0  \n",
       "92198       2022-02-03       9          21399.6               66923.0  \n",
       "\n",
       "[92199 rows x 11 columns]"
      ]
     },
     "execution_count": 9,
     "metadata": {},
     "output_type": "execute_result"
    }
   ],
   "source": [
    "cleaned_df"
   ]
  },
  {
   "cell_type": "code",
   "execution_count": 11,
   "metadata": {},
   "outputs": [
    {
     "data": {
      "image/png": "[encoded data removed]",
      "text/plain": [
       "<Figure size 1200x800 with 2 Axes>"
      ]
     },
     "metadata": {},
     "output_type": "display_data"
    }
   ],
   "source": [
    "correlation_matrix = cleaned_df.corr(numeric_only=True)\n",
    "\n",
    "plt.figure(figsize=(12, 8))\n",
    "sns.heatmap(correlation_matrix, annot=False, cmap=\"coolwarm\", fmt=\".2f\", linewidths=0.5)\n",
    "plt.title(\"Correlation Matrix for the Dataset\")\n",
    "plt.show()"
   ]
  },
  {
   "cell_type": "markdown",
   "metadata": {},
   "source": [
    "#### g. Categorical Variables Analysis"
   ]
  },
  {
   "cell_type": "code",
   "execution_count": 12,
   "metadata": {},
   "outputs": [
    {
     "data": {
      "image/png": "[encoded data removed]",
      "text/plain": [
       "<Figure size 640x480 with 1 Axes>"
      ]
     },
     "metadata": {},
     "output_type": "display_data"
    }
   ],
   "source": [
    "# Biểu đồ tần suất cho biến phân loại\n",
    "ax = sns.countplot(x='Funding Source', data=cleaned_df)\n",
    "plt.xticks(rotation=45)\n",
    "for p in ax.patches:\n",
    "    ax.annotate(f'{p.get_height()}', (p.get_x() + p.get_width() / 2., p.get_height()), ha='center', va='baseline')\n",
    "plt.show()"
   ]
  },
  {
   "cell_type": "markdown",
   "metadata": {},
   "source": [
    "### Biểu đồ chuỗi thời gian (Time Series Plot):\n",
    "Để hiểu xu hướng, biến động theo thời gian, vẽ biểu đồ chuỗi thời gian của biến số mong muốn. Với dữ liệu thời gian, biểu đồ này sẽ hiển thị thay đổi của biến theo thời gian."
   ]
  },
  {
   "cell_type": "markdown",
   "metadata": {},
   "source": [
    "#### Phân tích theo chu kỳ thời gian:\n",
    "Nếu có thông tin về ngày, tiếp tục phân tích dữ liệu theo các chu kỳ thời gian khác nhau như ngày, tuần, tháng, quý, năm để xem có xu hướng, biến động nào trong dữ liệu không."
   ]
  },
  {
   "cell_type": "code",
   "execution_count": 15,
   "metadata": {},
   "outputs": [
    {
     "data": {
      "image/png": "[encoded data removed]",
      "text/plain": [
       "<Figure size 640x480 with 1 Axes>"
      ]
     },
     "metadata": {},
     "output_type": "display_data"
    }
   ],
   "source": [
    "cleaned_df_sorted = cleaned_df.sort_values(by='Service Start Date')\n",
    "cleaned_df_sorted = cleaned_df_sorted[cleaned_df_sorted['Service Start Date'].dt.year >= 2014]\n",
    "\n",
    "plt.plot(cleaned_df_sorted['Service Start Date'], cleaned_df_sorted['Current Charges'])\n",
    "plt.xlabel('Service Start Date')\n",
    "plt.ylabel('Current Charges')\n",
    "plt.title('Current Charges Over Time')\n",
    "plt.xticks(rotation=45)  \n",
    "plt.tight_layout()      \n",
    "plt.show()\n"
   ]
  }
 ],
 "metadata": {
  "kernelspec": {
   "display_name": "Python 3",
   "language": "python",
   "name": "python3"
  },
  "language_info": {
   "codemirror_mode": {
    "name": "ipython",
    "version": 3
   },
   "file_extension": ".py",
   "mimetype": "text/x-python",
   "name": "python",
   "nbconvert_exporter": "python",
   "pygments_lexer": "ipython3",
   "version": "3.12.3"
  }
 },
 "nbformat": 4,
 "nbformat_minor": 2
}
