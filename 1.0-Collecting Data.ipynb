{
 "cells": [
  {
   "cell_type": "markdown",
   "metadata": {},
   "source": [
    "## 1. Chủ đề, nguồn dữ liệu"
   ]
  },
  {
   "cell_type": "markdown",
   "metadata": {},
   "source": [
    "### **Chủ đề**"
   ]
  },
  {
   "cell_type": "markdown",
   "metadata": {},
   "source": [
    "- **Heating-gas Consumption and Cost** là bộ dữ liệu thể hiện nhu cầu tiêu thụ và chi phí khí đốt sưởi ấm trong thành phố qua các năm từ 2010 - tháng 2/2022. Đây là một tài nguyên quan trọng đối với các nhà sản xuất, nhà phân phối khí gas, vì nó giúp họ hiểu rõ hơn về nhu cầu của thị trường và đưa ra những chiến lược kinh doanh phù hợp, đặc biệt là ở các khu vực có khí hậu mùa đông lạnh giá.\n",
    "   + Mức tiêu thụ khí gas sưởi ấm có thể được xác định bằng cách đo lường lượng khí gas được sử dụng để sưởi ấm các tòa nhà, nhà ở,... Mức tiêu thụ này có thể thay đổi theo thời gian, do các yếu tố như thời tiết, giá cả khí gas, sự phát triển của công nghệ,...\n",
    "   + Chi phí khí gas sưởi ấm là tổng số tiền mà người tiêu dùng phải trả để sử dụng khí gas sưởi ấm. Chi phí này được tính dựa trên giá cả khí gas và mức tiêu thụ khí gas.\n",
    "\n",
    "- Việc quan tâm đến **Heating-gas Consumption and Cost** giúp các nhà sản xuất, nhà phân phối khí gas có thể:\n",
    "  + Nắm bắt nhu cầu của thị trường, bởi vì mức tiêu thụ và chi phí khí gas sưởi ấm là những chỉ số phản ánh nhu cầu của thị trường đối với khí gas sưởi ấm. Việc theo dõi các chỉ số này giúp họ hiểu rõ hơn về các vấn đề tiêu thụ trong thị trường và đưa ra những chiến lược kinh doanh phù hợp cho từng khu vực dân cư, từng khoảng thời gian trong năm.\n",
    "  + Điều chỉnh giá cả khí gas dựa trên mức độ tiêu thụ và chi phí trên mỗi đơn vị khí gas sưởi ấm. Nếu mức tiêu thụ khí gas tăng cao, giá cả khí gas có thể tăng lên để thu được lợi nhuận cao hơn. Ngược lại, nếu mức tiêu thụ khí gas giảm (nhất là vào mùa hè), giá cả khí gas có thể giảm xuống để thu hút khách hàng.\n",
    "  + Nâng cao hiệu quả sử dụng khí gas, bằng cách phát triển các sản phẩm, dịch vụ tiết kiệm năng lượng."
   ]
  },
  {
   "cell_type": "markdown",
   "metadata": {},
   "source": [
    "### **Nguồn dữ liệu**"
   ]
  },
  {
   "cell_type": "markdown",
   "metadata": {},
   "source": [
    "- Bộ dữ liệu được tìm thấy tại link: https://data.world/city-of-ny/it56-eyq4\n",
    "\n",
    "- Trang web https://data.world/ là một nền tảng chia sẻ dữ liệu mở. Nó cho phép người dùng tìm kiếm, khám phá và sử dụng dữ liệu công khai từ nhiều nguồn khác nhau, bao gồm các tổ chức chính phủ, doanh nghiệp, tổ chức phi lợi nhuận và cá nhân. Trang web được thành lập vào năm 2014 bởi Dan Whalen và Michael C. Quinn, hiện có hơn 100 triệu điểm dữ liệu từ hơn 1 triệu nguồn.\n",
    "\n",
    "- Trang web https://data.world/ cung cấp một số tính năng hữu ích cho người dùng, bao gồm:\n",
    "  + Công cụ tìm kiếm mạnh mẽ cho phép người dùng tìm kiếm dữ liệu theo chủ đề, loại, nguồn và các tiêu chí khác.\n",
    "  + Trình khám phá dữ liệu cho phép người dùng xem trước dữ liệu trước khi tải xuống.\n",
    "  + Các công cụ phân tích dữ liệu cho phép người dùng phân tích dữ liệu và tạo biểu đồ và đồ thị."
   ]
  },
  {
   "cell_type": "markdown",
   "metadata": {},
   "source": [
    "- Link https://data.cityofnewyork.us/Housing-Development/Heating-Gas-Consumption-And-Cost-2010-Feb-2023-/it56-eyq4 chứa dữ liệu về mức tiêu thụ khí đốt sưởi ấm và chi phí của các tòa nhà nhà ở thuộc sở hữu của chính phủ ở Thành phố New York. \n",
    "\n",
    "  + Dữ liệu này có sẵn dưới dạng tệp CSV. Người dùng có thể tải xuống dữ liệu từ trang web NYC Open Data.\n",
    "  + Dữ liệu được thu thập từ các tòa nhà nhà ở thuộc sở hữu của chính phủ, bao gồm các tòa nhà chung cư, nhà ở xã hội, nhà ở dành cho người cao tuổi, v.v.\n",
    "  + Dữ liệu chỉ bao gồm mức tiêu thụ khí đốt sưởi ấm, không bao gồm mức tiêu thụ khí đốt cho mục đích khác, chẳng hạn như nấu ăn.\n",
    "  + Dữ liệu được thu thập theo tháng, nhưng không có dữ liệu về mức tiêu thụ khí đốt cho từng ngày trong tháng."
   ]
  },
  {
   "cell_type": "markdown",
   "metadata": {},
   "source": [
    "## 2. Sự cho phép của tác giả"
   ]
  },
  {
   "cell_type": "markdown",
   "metadata": {},
   "source": [
    "- Đây là thông tin về dataset của tác giả\n",
    "\n",
    "**About this dataset**"
   ]
  },
  {
   "cell_type": "markdown",
   "metadata": {},
   "source": [
    "| Syntax           | Description |\n",
    "| :---             |    :----:   |\n",
    "| SHARED WITH      | Everyone    |\n",
    "| CREATED          | 5 years ago by [@dataworldadmin](https://data.world/dataworldadmin)    |\n",
    "| SIZE             | 48.9 MB     |\n",
    "| TAGS             | [housing development](https://data.world/search?q=tag:%22housing-development%22)    |\n",
    "|     LICENSE      | Other    |\n",
    "|DICTIONARY| 1 file, 25 columns, 0 tables, [view](https://data.world/city-of-ny/it56-eyq4/workspace/data-dictionary)|   "
   ]
  },
  {
   "cell_type": "markdown",
   "metadata": {},
   "source": [
    "- Như vậy, bộ dữ liệu này được tác giả đăng công khai và mọi người có thể truy cập và download cho mục đích riêng."
   ]
  },
  {
   "cell_type": "markdown",
   "metadata": {},
   "source": [
    "## 3. Tác giả đã thu thập dữ liệu như thế nào?"
   ]
  },
  {
   "cell_type": "markdown",
   "metadata": {},
   "source": [
    "- Dưới đây là thông tin do tác giả cung cấp, ở phần **Overview**:\n",
    "\n",
    "\"DESCRIPTION\n",
    "\n",
    "Monthly consumption and cost data by borough and development.\n",
    "\n",
    "SUMMARY\n",
    "\n",
    "Monthly consumption and cost data by borough and development. Data set includes utility vendor and meter information.\n",
    "\n",
    "Source: https://data.cityofnewyork.us/d/it56-eyq4\n",
    "\n",
    "Last updated at https://data.cityofnewyork.us/data.json : 2022-05-13\n",
    "\n",
    "Attribution is encouraged by New York City. Please visit New York City's [open data portal for more information about the Terms of Use](https://opendata.cityofnewyork.us/overview/#termsofuse).\"\n"
   ]
  },
  {
   "cell_type": "markdown",
   "metadata": {},
   "source": [
    "- Như vậy tác giả thu thập dữ liệu từ link https://data.cityofnewyork.us/d/it56-eyq4 \n",
    "- Trang web https://opendata.cityofnewyork.us/ là trang web chính thức của Cơ quan Dữ liệu Mở Thành phố New York (NYC Open Data). Trang web này cung cấp truy cập miễn phí vào dữ liệu mở của Thành phố New York.\n",
    "\n",
    "- Dữ liệu mở được cung cấp miễn phí cho công chúng để sử dụng và tái sử dụng. Chúng có thể được sử dụng cho nhiều mục đích khác nhau, bao gồm:\n",
    "\n",
    "  + Báo chí và truyền thông\n",
    "  + Nghiên cứu và học tập\n",
    "  + Phát triển kinh doanh\n",
    "  + Thúc đẩy sự minh bạch và trách nhiệm giải trình của chính phủ"
   ]
  }
 ],
 "metadata": {
  "language_info": {
   "name": "python"
  }
 },
 "nbformat": 4,
 "nbformat_minor": 2
}
