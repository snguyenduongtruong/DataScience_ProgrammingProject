{
 "cells": [
  {
   "cell_type": "markdown",
   "metadata": {},
   "source": [
    "## 1. Import"
   ]
  },
  {
   "cell_type": "code",
   "execution_count": 1,
   "metadata": {},
   "outputs": [],
   "source": [
    "import numpy as np \n",
    "import pandas as pd\n",
    "import matplotlib as plt\n",
    "import datetime as dt\n",
    "import collections"
   ]
  },
  {
   "cell_type": "markdown",
   "metadata": {},
   "source": [
    "## 2. Tiền xử lý dữ liệu"
   ]
  },
  {
   "cell_type": "markdown",
   "metadata": {},
   "source": [
    "### Đọc dữ liệu thô từ file trong folder ./data/"
   ]
  },
  {
   "cell_type": "code",
   "execution_count": 2,
   "metadata": {},
   "outputs": [
    {
     "data": {
      "text/html": [
       "<div>\n",
       "<style scoped>\n",
       "    .dataframe tbody tr th:only-of-type {\n",
       "        vertical-align: middle;\n",
       "    }\n",
       "\n",
       "    .dataframe tbody tr th {\n",
       "        vertical-align: top;\n",
       "    }\n",
       "\n",
       "    .dataframe thead th {\n",
       "        text-align: right;\n",
       "    }\n",
       "</style>\n",
       "<table border=\"1\" class=\"dataframe\">\n",
       "  <thead>\n",
       "    <tr style=\"text-align: right;\">\n",
       "      <th></th>\n",
       "      <th>Development Name</th>\n",
       "      <th>Borough</th>\n",
       "      <th>Account Name</th>\n",
       "      <th>Location</th>\n",
       "      <th>Meter AMR</th>\n",
       "      <th>Meter Scope</th>\n",
       "      <th>TDS #</th>\n",
       "      <th>EDP</th>\n",
       "      <th>RC Code</th>\n",
       "      <th>Funding Source</th>\n",
       "      <th>...</th>\n",
       "      <th>Service End Date</th>\n",
       "      <th># days</th>\n",
       "      <th>Meter Number</th>\n",
       "      <th>Estimated</th>\n",
       "      <th>Current Charges</th>\n",
       "      <th>Rate Class</th>\n",
       "      <th>Bill Analyzed</th>\n",
       "      <th>Consumption (Therms)</th>\n",
       "      <th>ES Commodity</th>\n",
       "      <th>Underlying Utility</th>\n",
       "    </tr>\n",
       "  </thead>\n",
       "  <tbody>\n",
       "    <tr>\n",
       "      <th>0</th>\n",
       "      <td>BETANCES I</td>\n",
       "      <td>BRONX</td>\n",
       "      <td>BETANCES I</td>\n",
       "      <td>NaN</td>\n",
       "      <td>NONE</td>\n",
       "      <td>NaN</td>\n",
       "      <td>211.0</td>\n",
       "      <td>326</td>\n",
       "      <td>B021100</td>\n",
       "      <td>FEDERAL</td>\n",
       "      <td>...</td>\n",
       "      <td>01/31/2010</td>\n",
       "      <td>53.0</td>\n",
       "      <td>2545269</td>\n",
       "      <td>N</td>\n",
       "      <td>0.00</td>\n",
       "      <td>NaN</td>\n",
       "      <td>Yes</td>\n",
       "      <td>0.00</td>\n",
       "      <td>UTILITY GAS</td>\n",
       "      <td>ConEd</td>\n",
       "    </tr>\n",
       "    <tr>\n",
       "      <th>1</th>\n",
       "      <td>ADAMS</td>\n",
       "      <td>BRONX</td>\n",
       "      <td>ADAMS</td>\n",
       "      <td>BLD 04</td>\n",
       "      <td>NONE</td>\n",
       "      <td>BLD 1-7</td>\n",
       "      <td>118.0</td>\n",
       "      <td>248</td>\n",
       "      <td>B011800</td>\n",
       "      <td>FEDERAL</td>\n",
       "      <td>...</td>\n",
       "      <td>01/26/2010</td>\n",
       "      <td>33.0</td>\n",
       "      <td>3299599</td>\n",
       "      <td>N</td>\n",
       "      <td>78292.97</td>\n",
       "      <td>Trans Res MultiDwell Heat Dual</td>\n",
       "      <td>Yes</td>\n",
       "      <td>136632.00</td>\n",
       "      <td>UTILITY GAS</td>\n",
       "      <td>ConEd</td>\n",
       "    </tr>\n",
       "    <tr>\n",
       "      <th>2</th>\n",
       "      <td>ADAMS</td>\n",
       "      <td>BRONX</td>\n",
       "      <td>ADAMS</td>\n",
       "      <td>BLD 04</td>\n",
       "      <td>Not Applicable</td>\n",
       "      <td>NaN</td>\n",
       "      <td>118.0</td>\n",
       "      <td>248</td>\n",
       "      <td>B011800</td>\n",
       "      <td>FEDERAL</td>\n",
       "      <td>...</td>\n",
       "      <td>01/26/2010</td>\n",
       "      <td>32.0</td>\n",
       "      <td>3.95416E+14</td>\n",
       "      <td>N</td>\n",
       "      <td>133779.54</td>\n",
       "      <td>NaN</td>\n",
       "      <td>Yes</td>\n",
       "      <td>136632.00</td>\n",
       "      <td>BROKERED GAS</td>\n",
       "      <td>ConEd</td>\n",
       "    </tr>\n",
       "    <tr>\n",
       "      <th>3</th>\n",
       "      <td>ALBANY/ALBANY II</td>\n",
       "      <td>BROOKLYN</td>\n",
       "      <td>ALBANY/ALBANY II</td>\n",
       "      <td>ALBANY BLD 04</td>\n",
       "      <td>AMR</td>\n",
       "      <td>BLD 1-6</td>\n",
       "      <td>31.0</td>\n",
       "      <td>524</td>\n",
       "      <td>K003100</td>\n",
       "      <td>FEDERAL</td>\n",
       "      <td>...</td>\n",
       "      <td>01/28/2010</td>\n",
       "      <td>30.0</td>\n",
       "      <td>08372362-66.8%</td>\n",
       "      <td>N</td>\n",
       "      <td>44335.21</td>\n",
       "      <td>T3 Tran Mult Fam</td>\n",
       "      <td>Yes</td>\n",
       "      <td>153899.18</td>\n",
       "      <td>UTILITY GAS</td>\n",
       "      <td>NatGrid NYC</td>\n",
       "    </tr>\n",
       "    <tr>\n",
       "      <th>4</th>\n",
       "      <td>ALBANY/ALBANY II</td>\n",
       "      <td>BROOKLYN</td>\n",
       "      <td>ALBANY/ALBANY II</td>\n",
       "      <td>ALBANY BLD 04</td>\n",
       "      <td>AMR</td>\n",
       "      <td>BLD 7-9</td>\n",
       "      <td>85.0</td>\n",
       "      <td>524</td>\n",
       "      <td>K008500</td>\n",
       "      <td>FEDERAL</td>\n",
       "      <td>...</td>\n",
       "      <td>01/28/2010</td>\n",
       "      <td>30.0</td>\n",
       "      <td>08372362-33.2%</td>\n",
       "      <td>N</td>\n",
       "      <td>22034.86</td>\n",
       "      <td>T3 Tran Mult Fam</td>\n",
       "      <td>Yes</td>\n",
       "      <td>76488.82</td>\n",
       "      <td>UTILITY GAS</td>\n",
       "      <td>NatGrid NYC</td>\n",
       "    </tr>\n",
       "    <tr>\n",
       "      <th>...</th>\n",
       "      <td>...</td>\n",
       "      <td>...</td>\n",
       "      <td>...</td>\n",
       "      <td>...</td>\n",
       "      <td>...</td>\n",
       "      <td>...</td>\n",
       "      <td>...</td>\n",
       "      <td>...</td>\n",
       "      <td>...</td>\n",
       "      <td>...</td>\n",
       "      <td>...</td>\n",
       "      <td>...</td>\n",
       "      <td>...</td>\n",
       "      <td>...</td>\n",
       "      <td>...</td>\n",
       "      <td>...</td>\n",
       "      <td>...</td>\n",
       "      <td>...</td>\n",
       "      <td>...</td>\n",
       "      <td>...</td>\n",
       "      <td>...</td>\n",
       "    </tr>\n",
       "    <tr>\n",
       "      <th>214630</th>\n",
       "      <td>WYCKOFF GARDENS</td>\n",
       "      <td>BROOKLYN</td>\n",
       "      <td>WYCKOFF GARDENS</td>\n",
       "      <td>BLD 03</td>\n",
       "      <td>Not Applicable</td>\n",
       "      <td>NaN</td>\n",
       "      <td>163.0</td>\n",
       "      <td>272</td>\n",
       "      <td>K016300</td>\n",
       "      <td>FEDERAL</td>\n",
       "      <td>...</td>\n",
       "      <td>05/25/2021</td>\n",
       "      <td>27.0</td>\n",
       "      <td>178911501</td>\n",
       "      <td>N</td>\n",
       "      <td>20283.93</td>\n",
       "      <td>NaN</td>\n",
       "      <td>Yes</td>\n",
       "      <td>48561.00</td>\n",
       "      <td>BROKERED GAS</td>\n",
       "      <td>NatGrid NYC</td>\n",
       "    </tr>\n",
       "    <tr>\n",
       "      <th>214631</th>\n",
       "      <td>WYCKOFF GARDENS</td>\n",
       "      <td>BROOKLYN</td>\n",
       "      <td>WYCKOFF GARDENS</td>\n",
       "      <td>BLD 03</td>\n",
       "      <td>Not Applicable</td>\n",
       "      <td>NaN</td>\n",
       "      <td>163.0</td>\n",
       "      <td>272</td>\n",
       "      <td>K016300</td>\n",
       "      <td>FEDERAL</td>\n",
       "      <td>...</td>\n",
       "      <td>06/25/2021</td>\n",
       "      <td>30.0</td>\n",
       "      <td>178911501</td>\n",
       "      <td>N</td>\n",
       "      <td>1509.99</td>\n",
       "      <td>NaN</td>\n",
       "      <td>Yes</td>\n",
       "      <td>3615.00</td>\n",
       "      <td>BROKERED GAS</td>\n",
       "      <td>NatGrid NYC</td>\n",
       "    </tr>\n",
       "    <tr>\n",
       "      <th>214632</th>\n",
       "      <td>WYCKOFF GARDENS</td>\n",
       "      <td>BROOKLYN</td>\n",
       "      <td>WYCKOFF GARDENS</td>\n",
       "      <td>BLD 03</td>\n",
       "      <td>Not Applicable</td>\n",
       "      <td>NaN</td>\n",
       "      <td>163.0</td>\n",
       "      <td>272</td>\n",
       "      <td>K016300</td>\n",
       "      <td>FEDERAL</td>\n",
       "      <td>...</td>\n",
       "      <td>07/27/2021</td>\n",
       "      <td>31.0</td>\n",
       "      <td>178911501</td>\n",
       "      <td>NaN</td>\n",
       "      <td>0.00</td>\n",
       "      <td>NaN</td>\n",
       "      <td>Yes</td>\n",
       "      <td>0.00</td>\n",
       "      <td>BROKERED GAS</td>\n",
       "      <td>NatGrid NYC</td>\n",
       "    </tr>\n",
       "    <tr>\n",
       "      <th>214633</th>\n",
       "      <td>WYCKOFF GARDENS</td>\n",
       "      <td>BROOKLYN</td>\n",
       "      <td>WYCKOFF GARDENS</td>\n",
       "      <td>BLD 03</td>\n",
       "      <td>Not Applicable</td>\n",
       "      <td>NaN</td>\n",
       "      <td>163.0</td>\n",
       "      <td>272</td>\n",
       "      <td>K016300</td>\n",
       "      <td>FEDERAL</td>\n",
       "      <td>...</td>\n",
       "      <td>01/06/2022</td>\n",
       "      <td>162.0</td>\n",
       "      <td>178911501</td>\n",
       "      <td>N</td>\n",
       "      <td>184610.42</td>\n",
       "      <td>NaN</td>\n",
       "      <td>Yes</td>\n",
       "      <td>435135.10</td>\n",
       "      <td>BROKERED GAS</td>\n",
       "      <td>NatGrid NYC</td>\n",
       "    </tr>\n",
       "    <tr>\n",
       "      <th>214634</th>\n",
       "      <td>WYCKOFF GARDENS</td>\n",
       "      <td>BROOKLYN</td>\n",
       "      <td>WYCKOFF GARDENS</td>\n",
       "      <td>BLD 03</td>\n",
       "      <td>Not Applicable</td>\n",
       "      <td>NaN</td>\n",
       "      <td>163.0</td>\n",
       "      <td>272</td>\n",
       "      <td>K016300</td>\n",
       "      <td>FEDERAL</td>\n",
       "      <td>...</td>\n",
       "      <td>02/03/2022</td>\n",
       "      <td>27.0</td>\n",
       "      <td>178911501</td>\n",
       "      <td>N</td>\n",
       "      <td>43790.60</td>\n",
       "      <td>NaN</td>\n",
       "      <td>Yes</td>\n",
       "      <td>101077.00</td>\n",
       "      <td>BROKERED GAS</td>\n",
       "      <td>NatGrid NYC</td>\n",
       "    </tr>\n",
       "  </tbody>\n",
       "</table>\n",
       "<p>214635 rows × 25 columns</p>\n",
       "</div>"
      ],
      "text/plain": [
       "        Development Name   Borough      Account Name       Location  \\\n",
       "0             BETANCES I     BRONX        BETANCES I            NaN   \n",
       "1                  ADAMS     BRONX             ADAMS         BLD 04   \n",
       "2                  ADAMS     BRONX             ADAMS         BLD 04   \n",
       "3       ALBANY/ALBANY II  BROOKLYN  ALBANY/ALBANY II  ALBANY BLD 04   \n",
       "4       ALBANY/ALBANY II  BROOKLYN  ALBANY/ALBANY II  ALBANY BLD 04   \n",
       "...                  ...       ...               ...            ...   \n",
       "214630   WYCKOFF GARDENS  BROOKLYN   WYCKOFF GARDENS         BLD 03   \n",
       "214631   WYCKOFF GARDENS  BROOKLYN   WYCKOFF GARDENS         BLD 03   \n",
       "214632   WYCKOFF GARDENS  BROOKLYN   WYCKOFF GARDENS         BLD 03   \n",
       "214633   WYCKOFF GARDENS  BROOKLYN   WYCKOFF GARDENS         BLD 03   \n",
       "214634   WYCKOFF GARDENS  BROOKLYN   WYCKOFF GARDENS         BLD 03   \n",
       "\n",
       "             Meter AMR Meter Scope  TDS #  EDP  RC Code Funding Source  ...  \\\n",
       "0                 NONE         NaN  211.0  326  B021100        FEDERAL  ...   \n",
       "1                 NONE     BLD 1-7  118.0  248  B011800        FEDERAL  ...   \n",
       "2       Not Applicable         NaN  118.0  248  B011800        FEDERAL  ...   \n",
       "3                  AMR     BLD 1-6   31.0  524  K003100        FEDERAL  ...   \n",
       "4                  AMR     BLD 7-9   85.0  524  K008500        FEDERAL  ...   \n",
       "...                ...         ...    ...  ...      ...            ...  ...   \n",
       "214630  Not Applicable         NaN  163.0  272  K016300        FEDERAL  ...   \n",
       "214631  Not Applicable         NaN  163.0  272  K016300        FEDERAL  ...   \n",
       "214632  Not Applicable         NaN  163.0  272  K016300        FEDERAL  ...   \n",
       "214633  Not Applicable         NaN  163.0  272  K016300        FEDERAL  ...   \n",
       "214634  Not Applicable         NaN  163.0  272  K016300        FEDERAL  ...   \n",
       "\n",
       "       Service End Date # days    Meter Number Estimated Current Charges  \\\n",
       "0            01/31/2010   53.0         2545269         N            0.00   \n",
       "1            01/26/2010   33.0         3299599         N        78292.97   \n",
       "2            01/26/2010   32.0     3.95416E+14         N       133779.54   \n",
       "3            01/28/2010   30.0  08372362-66.8%         N        44335.21   \n",
       "4            01/28/2010   30.0  08372362-33.2%         N        22034.86   \n",
       "...                 ...    ...             ...       ...             ...   \n",
       "214630       05/25/2021   27.0       178911501         N        20283.93   \n",
       "214631       06/25/2021   30.0       178911501         N         1509.99   \n",
       "214632       07/27/2021   31.0       178911501       NaN            0.00   \n",
       "214633       01/06/2022  162.0       178911501         N       184610.42   \n",
       "214634       02/03/2022   27.0       178911501         N        43790.60   \n",
       "\n",
       "                            Rate Class  Bill Analyzed Consumption (Therms)  \\\n",
       "0                                  NaN            Yes                 0.00   \n",
       "1       Trans Res MultiDwell Heat Dual            Yes            136632.00   \n",
       "2                                  NaN            Yes            136632.00   \n",
       "3                     T3 Tran Mult Fam            Yes            153899.18   \n",
       "4                     T3 Tran Mult Fam            Yes             76488.82   \n",
       "...                                ...            ...                  ...   \n",
       "214630                             NaN            Yes             48561.00   \n",
       "214631                             NaN            Yes              3615.00   \n",
       "214632                             NaN            Yes                 0.00   \n",
       "214633                             NaN            Yes            435135.10   \n",
       "214634                             NaN            Yes            101077.00   \n",
       "\n",
       "        ES Commodity  Underlying Utility  \n",
       "0        UTILITY GAS               ConEd  \n",
       "1        UTILITY GAS               ConEd  \n",
       "2       BROKERED GAS               ConEd  \n",
       "3        UTILITY GAS         NatGrid NYC  \n",
       "4        UTILITY GAS         NatGrid NYC  \n",
       "...              ...                 ...  \n",
       "214630  BROKERED GAS         NatGrid NYC  \n",
       "214631  BROKERED GAS         NatGrid NYC  \n",
       "214632  BROKERED GAS         NatGrid NYC  \n",
       "214633  BROKERED GAS         NatGrid NYC  \n",
       "214634  BROKERED GAS         NatGrid NYC  \n",
       "\n",
       "[214635 rows x 25 columns]"
      ]
     },
     "execution_count": 2,
     "metadata": {},
     "output_type": "execute_result"
    }
   ],
   "source": [
    "gas_df = pd.read_csv(\"Data/heating-gas-consumption-and-cost-2010-feb-2022-1.csv\")\n",
    "gas_df"
   ]
  },
  {
   "cell_type": "markdown",
   "metadata": {},
   "source": [
    "### Dữ liệu thô có bao nhiêu hàng và bao nhiêu cột?"
   ]
  },
  {
   "cell_type": "code",
   "execution_count": 3,
   "metadata": {},
   "outputs": [
    {
     "name": "stdout",
     "output_type": "stream",
     "text": [
      "Số dòng: 214635\n",
      "Số dòng: 25\n",
      "Your data good!.\n"
     ]
    }
   ],
   "source": [
    "shape = gas_df.shape\n",
    "print(\"Số dòng:\", gas_df.shape[0])\n",
    "print(\"Số dòng:\", gas_df.shape[1])\n",
    "if shape[0] > 1000:\n",
    "    print(f\"Your data good!.\")\n",
    "else:\n",
    "    print(f\"Your raw data absolutely small. Please choose larger year interval.!\")"
   ]
  },
  {
   "cell_type": "markdown",
   "metadata": {},
   "source": [
    "### Mỗi hàng có ý nghĩa gì? Có vấn đề gì nếu các hàng có ý nghĩa khác nhau?"
   ]
  },
  {
   "cell_type": "markdown",
   "metadata": {},
   "source": [
    "- Mỗi hàng đại diện cho một bản ghi dữ liệu riêng biệt. Các bản ghi này chứa thông tin về một đối tượng hoặc thực thể cụ thể, được xác định bởi các giá trị trong các cột tương ứng: 'Development Name', 'Borough', ...\n",
    "\n",
    "- Có các hàng có ý nghĩa khác nhau trong một dataframe phụ thuộc vào mục đích sử dụng của nó. Ví dụ, trong một khung dữ liệu chứa thông tin về quốc gia, có thể có các hàng đại diện cho các nhà cung cấp, nhà sản xuất khí gas, mức độ tiêu thụ khí gas và tổng tiền phải thanh toán, ... Trong trường hợp này, các hàng sẽ có ý nghĩa khác nhau, vì các thông tin được lưu trữ cho các nhà cung cấp, nhà sản xuất khí gas, mức độ tiêu thụ khí gas và tổng tiền phải thanh toán,... sẽ khác nhau."
   ]
  },
  {
   "cell_type": "markdown",
   "metadata": {},
   "source": [
    "### Dữ liệu thô có hàng trùng lặp không?"
   ]
  },
  {
   "cell_type": "markdown",
   "metadata": {},
   "source": [
    "Tính số hàng có trùng lặp toàn bộ thông tin và lưu nó vào biến `num_duplicate_rows`"
   ]
  },
  {
   "cell_type": "code",
   "execution_count": 4,
   "metadata": {},
   "outputs": [
    {
     "name": "stdout",
     "output_type": "stream",
     "text": [
      "Your raw data have 19674 duplicated lines. Please de-deduplicate your raw data.!\n"
     ]
    }
   ],
   "source": [
    "num_duplicated_rows = gas_df.duplicated().sum()\n",
    "if num_duplicated_rows == 0:\n",
    "    print(f\"Your raw data have no duplicated line.!\")\n",
    "else:\n",
    "    if num_duplicated_rows > 1:\n",
    "        ext = \"lines\"\n",
    "    else:\n",
    "        ext = \"line\"\n",
    "    print(f\"Your raw data have {num_duplicated_rows} duplicated \" + ext + \". Please de-deduplicate your raw data.!\")"
   ]
  },
  {
   "cell_type": "code",
   "execution_count": 5,
   "metadata": {},
   "outputs": [
    {
     "name": "stdout",
     "output_type": "stream",
     "text": [
      "Your raw data have no duplicated line.!\n"
     ]
    }
   ],
   "source": [
    "# De-deduplicate raw data\n",
    "# (Optional)\n",
    "gas_df = gas_df.drop_duplicates()\n",
    "# RETEST\n",
    "num_duplicated_rows = gas_df.duplicated().sum()\n",
    "if num_duplicated_rows == 0:\n",
    "    print(f\"Your raw data have no duplicated line.!\")"
   ]
  },
  {
   "cell_type": "markdown",
   "metadata": {},
   "source": [
    "### Mỗi cột có ý nghĩa gì?"
   ]
  },
  {
   "cell_type": "code",
   "execution_count": 6,
   "metadata": {},
   "outputs": [
    {
     "name": "stdout",
     "output_type": "stream",
     "text": [
      "Index(['Development Name', 'Borough', 'Account Name', 'Location', 'Meter AMR',\n",
      "       'Meter Scope', 'TDS #', 'EDP', 'RC Code', 'Funding Source', 'AMP #',\n",
      "       'Vendor Name', 'UMIS BILL ID', 'Revenue Month', 'Service Start Date',\n",
      "       'Service End Date', '# days', 'Meter Number', 'Estimated',\n",
      "       'Current Charges', 'Rate Class', 'Bill Analyzed',\n",
      "       'Consumption (Therms)', 'ES Commodity', 'Underlying Utility'],\n",
      "      dtype='object')\n"
     ]
    }
   ],
   "source": [
    "print(gas_df.columns)"
   ]
  },
  {
   "cell_type": "markdown",
   "metadata": {},
   "source": [
    "**Ý nghĩa các cột dữ liệu:**\n",
    "- `Development Name`: nhà phát triển gas tiêu dùng\n",
    "- `Borough`: đơn vị hành chính của một thành phố lớn (quận, thị xã, thành phố trực thuộc)\n",
    "- `Account Name`: nhà phát triển gas tiêu dùng\n",
    "- `Location`: vị trí địa lý của người dùng\n",
    "- `Meter AMR`: người dùng có lắp đặt công nghệ cho phép tự động đọc chỉ số đồng hồ đo khí gas từ xa hay không\n",
    "- `Meter Scope`: công cụ được sử dụng để kiểm tra, hiệu chuẩn và sửa chữa đồng hồ đo khí gas\n",
    "- `TDS #`: tổng lượng chất rắn hòa tan trong khí gas\n",
    "- `EDP`: hệ thống phát hiện và ngăn chặn sự cố khí gas\n",
    "- `RC Code`: mã quy định về an toàn sử dụng khí gas.\n",
    "- `Funding Source`: nguồn tài trợ cho các dự án khí gas tiêu dùng\n",
    "- `AMP #`: mã người tiêu dùng có dùng công nghệ cho phép tự động đọc chỉ số đồng hồ đo khí gas từ xa\n",
    "- `Vendor Name`:  đơn vị cung cấp gas cho các hộ gia đình và doanh nghiệp.\n",
    "- `UMIS BILL ID`: mã hóa đơn thanh toán \n",
    "- `Revenue Month`: tháng thanh toán\n",
    "- `Service Start Date`: ngày bắt đầu dùng khí gas tương ứng với 1 hóa đơn\n",
    "- `Service End Date`: ngày kết thúc dùng khí gas tương ứng với 1 hóa đơn\n",
    "- `# days`: số ngày tiêu dùng gas của mỗi hóa đơn\n",
    "- `Meter Number`: tổng số tiêu dùng gas của mỗi hóa đơn\n",
    "- `Estimated`: ước lượng hay không?\n",
    "- `Current Charges`: chi phí gas hiện tại mà khách hàng phải thanh toán\n",
    "- `Rate Class`: phân loại khách hàng dựa trên nhu cầu sử dụng gas\n",
    "- `Bill Analyzed`: được xác nhận đã thanh toán hóa đơn\n",
    "- `Consumption (Therms)`: lượng gas tiêu thụ được tính bằng đơn vị therm\n",
    "- `ES Commodity`: loại hợp đồng\n",
    "- `Underlying Utility`: cơ sở để xác định giá"
   ]
  },
  {
   "cell_type": "markdown",
   "metadata": {},
   "source": [
    "### Mỗi cột hiện có kiểu dữ liệu gì? Có cột nào có kiểu dữ liệu không phù hợp để xử lý tiếp không?"
   ]
  },
  {
   "cell_type": "code",
   "execution_count": 7,
   "metadata": {},
   "outputs": [
    {
     "name": "stdout",
     "output_type": "stream",
     "text": [
      "<class 'pandas.core.frame.DataFrame'>\n",
      "Int64Index: 194961 entries, 0 to 214634\n",
      "Data columns (total 25 columns):\n",
      " #   Column                Non-Null Count   Dtype  \n",
      "---  ------                --------------   -----  \n",
      " 0   Development Name      193553 non-null  object \n",
      " 1   Borough               194961 non-null  object \n",
      " 2   Account Name          194961 non-null  object \n",
      " 3   Location              191585 non-null  object \n",
      " 4   Meter AMR             194503 non-null  object \n",
      " 5   Meter Scope           37643 non-null   object \n",
      " 6   TDS #                 191953 non-null  float64\n",
      " 7   EDP                   194961 non-null  int64  \n",
      " 8   RC Code               194961 non-null  object \n",
      " 9   Funding Source        194961 non-null  object \n",
      " 10  AMP #                 192740 non-null  object \n",
      " 11  Vendor Name           194961 non-null  object \n",
      " 12  UMIS BILL ID          194961 non-null  int64  \n",
      " 13  Revenue Month         194961 non-null  object \n",
      " 14  Service Start Date    194953 non-null  object \n",
      " 15  Service End Date      194953 non-null  object \n",
      " 16  # days                194953 non-null  float64\n",
      " 17  Meter Number          194961 non-null  object \n",
      " 18  Estimated             190123 non-null  object \n",
      " 19  Current Charges       194961 non-null  float64\n",
      " 20  Rate Class            98607 non-null   object \n",
      " 21  Bill Analyzed         194961 non-null  object \n",
      " 22  Consumption (Therms)  194961 non-null  float64\n",
      " 23  ES Commodity          194961 non-null  object \n",
      " 24  Underlying Utility    194779 non-null  object \n",
      "dtypes: float64(4), int64(2), object(19)\n",
      "memory usage: 38.7+ MB\n",
      "None\n"
     ]
    }
   ],
   "source": [
    "print(gas_df.info())"
   ]
  },
  {
   "cell_type": "markdown",
   "metadata": {},
   "source": [
    "- Dựa trên ý nghĩa của các cột dữ liệu, mình thấy 2 cột `Account Name` và `Development Name` có ý nghĩa tương tự nhau (nhà phát triển, sản xuất gas tiêu dùng), và khi quan sát, mình thấy giá trị 2 cột này có các giá trị là như nhau. Do đó, để tinh gọn dataframe, mình nên xóa đi cột `Account Name`."
   ]
  },
  {
   "cell_type": "code",
   "execution_count": 8,
   "metadata": {},
   "outputs": [],
   "source": [
    "if 'Account Name' in gas_df.columns:\n",
    "    del gas_df['Account Name']"
   ]
  },
  {
   "cell_type": "markdown",
   "metadata": {},
   "source": [
    "- Bởi vì mục đích chính của chúng mình là phân tích lương tiêu thụ và chi phí của mỗi hộ khi tiêu dùng khí gas, mình quyết định xóa đi 3 cột về đồng hồ đo khí gas: `Meter AMR`, `Meter Scope`, `AMP #`, trên tinh thần là tinh gọn dữ liệu đến mức tối ưu nhất."
   ]
  },
  {
   "cell_type": "code",
   "execution_count": 9,
   "metadata": {},
   "outputs": [],
   "source": [
    "del gas_df[\"Meter AMR\"]\n",
    "del gas_df['Meter Scope']\n",
    "del gas_df['AMP #']"
   ]
  },
  {
   "cell_type": "markdown",
   "metadata": {},
   "source": [
    "- Các chỉ số liên quan đến an toàn khí gas như: `EDP`, `TDS #`, `RC Code`  cũng không liên quan đến vấn đề mình nên khám phá, do đó nên loại bỏ chúng."
   ]
  },
  {
   "cell_type": "code",
   "execution_count": 10,
   "metadata": {},
   "outputs": [],
   "source": [
    "del gas_df['EDP']\n",
    "del gas_df['TDS #']\n",
    "del gas_df['RC Code']"
   ]
  },
  {
   "cell_type": "markdown",
   "metadata": {},
   "source": [
    "- Đối với các chỉ số ước tính trên đồng hồ đo gas, bởi vì mình đã có 2 cột dữ liệu tin cậy về chi phí và mức tiêu thụ là `Current Charges` và `Consumption (Therms)`, có thể gặp khó khăn khi phân tích 2 cột có độ tương tự về mặt ý nghĩa nhưng lại mâu thuẫn về mặt giá trị. Nên loại bỏ 2 cột là `Meter Number`, `Estimated`."
   ]
  },
  {
   "cell_type": "code",
   "execution_count": 11,
   "metadata": {},
   "outputs": [],
   "source": [
    "del gas_df['Meter Number']\n",
    "del gas_df['Estimated']"
   ]
  },
  {
   "cell_type": "markdown",
   "metadata": {},
   "source": [
    "- `ES Commodity` và `Underlying Utility` liên quan đến cơ sở pháp lý. Các cột dữ liệu này nằm ngoài mục tiêu ta cần phân tích. tốt nhất là tinh gọn dữ liệu hơn bằng cách xóa bỏ chúng."
   ]
  },
  {
   "cell_type": "code",
   "execution_count": 12,
   "metadata": {},
   "outputs": [],
   "source": [
    "del gas_df['ES Commodity']\n",
    "del gas_df['Underlying Utility']"
   ]
  },
  {
   "cell_type": "markdown",
   "metadata": {},
   "source": [
    "- Các thông số trên hóa đơn như `Bill Analyzed`, `Rate Class`, `UMIS BILL ID` không có giá trị đáng kể cho bài toán phân tích dữ liệu được đề cập, tốt nhất là xóa chúng."
   ]
  },
  {
   "cell_type": "code",
   "execution_count": 13,
   "metadata": {},
   "outputs": [],
   "source": [
    "del gas_df['Bill Analyzed']"
   ]
  },
  {
   "cell_type": "code",
   "execution_count": 14,
   "metadata": {},
   "outputs": [],
   "source": [
    "del gas_df['Rate Class']"
   ]
  },
  {
   "cell_type": "code",
   "execution_count": 15,
   "metadata": {},
   "outputs": [],
   "source": [
    "del gas_df['UMIS BILL ID']"
   ]
  },
  {
   "cell_type": "markdown",
   "metadata": {},
   "source": [
    "### Dữ liệu thu thập được có hợp lý không?"
   ]
  },
  {
   "cell_type": "markdown",
   "metadata": {},
   "source": [
    "Chúng ta có một thắc mắc liệu rằng số liệu thu thập được có hợp lý hay không? Các cột dữ liệu dạng số như `# days`, `Current Charges`, `Consumption (Therms)` có chứa giá trị âm ở trong hay không?"
   ]
  },
  {
   "cell_type": "code",
   "execution_count": 16,
   "metadata": {},
   "outputs": [
    {
     "name": "stdout",
     "output_type": "stream",
     "text": [
      "-335.0\n",
      "-54559.03\n",
      "0.0\n"
     ]
    }
   ],
   "source": [
    "print(gas_df['# days'].min())\n",
    "print(gas_df['Current Charges'].min())\n",
    "print(gas_df['Consumption (Therms)'].min())"
   ]
  },
  {
   "cell_type": "markdown",
   "metadata": {},
   "source": [
    "- Như vậy, các cột dữ liệu dạng số có chứa số âm và số 0, về các ý nghĩa thực tế của `# days`, `Current Charges`, `Consumption (Therms)`, thì các giá trị âm này là vô lý.\n",
    "- Do đó, mình nên xóa các hàng có giá trị âm và số 0 (vì dữ liệu 0 này được xem như là missing value, không có giá trị để phân tích)"
   ]
  },
  {
   "cell_type": "code",
   "execution_count": 17,
   "metadata": {},
   "outputs": [],
   "source": [
    "gas_df = gas_df[gas_df['# days'] > 0]\n",
    "gas_df = gas_df[gas_df['Current Charges'] > 0]\n",
    "gas_df = gas_df[gas_df['Consumption (Therms)'] > 0]\n"
   ]
  },
  {
   "cell_type": "markdown",
   "metadata": {},
   "source": [
    "\n",
    "### Xử lý dữ liệu bị thiếu & Chuyển đổi kiểu dữ liệu"
   ]
  },
  {
   "cell_type": "markdown",
   "metadata": {},
   "source": [
    "##### Mình bắt đầu xử lý dữ liệu bị thiếu. Chạy hàm `isnull()` để bạn có thể tổng quan về dữ liệu của mình có giá trị thiếu hay không, và tính tỷ lệ dữ liệu missing của mỗi cột."
   ]
  },
  {
   "cell_type": "code",
   "execution_count": 18,
   "metadata": {},
   "outputs": [
    {
     "data": {
      "text/plain": [
       "Development Name        0.006749\n",
       "Borough                 0.000000\n",
       "Location                0.017297\n",
       "Funding Source          0.000000\n",
       "Vendor Name             0.000000\n",
       "Revenue Month           0.000000\n",
       "Service Start Date      0.000000\n",
       "Service End Date        0.000000\n",
       "# days                  0.000000\n",
       "Current Charges         0.000000\n",
       "Consumption (Therms)    0.000000\n",
       "dtype: float64"
      ]
     },
     "execution_count": 18,
     "metadata": {},
     "output_type": "execute_result"
    }
   ],
   "source": [
    "missing_ratio = gas_df.isna().sum() / gas_df.shape[0]\n",
    "missing_ratio"
   ]
  },
  {
   "cell_type": "code",
   "execution_count": 19,
   "metadata": {},
   "outputs": [
    {
     "name": "stdout",
     "output_type": "stream",
     "text": [
      "Development Name         True\n",
      "Borough                 False\n",
      "Location                 True\n",
      "Funding Source          False\n",
      "Vendor Name             False\n",
      "Revenue Month           False\n",
      "Service Start Date      False\n",
      "Service End Date        False\n",
      "# days                  False\n",
      "Current Charges         False\n",
      "Consumption (Therms)    False\n",
      "dtype: bool\n"
     ]
    }
   ],
   "source": [
    "df_isnull = gas_df.isnull()\n",
    "print(df_isnull.any())"
   ]
  },
  {
   "cell_type": "markdown",
   "metadata": {},
   "source": [
    "Dataframe có một tỷ lệ nhỏ missing vale ở 2 cột là `Development Name` và `Location`. Bởi vì tỷ lệ giá trị thiếu nhỏ, và các cột dữ liệu dạng chữ khó có thể fill một cách khách quan, sát thực tế, mình quyết định loại bỏ các hàng chứa giá trị missing value."
   ]
  },
  {
   "cell_type": "code",
   "execution_count": 20,
   "metadata": {},
   "outputs": [
    {
     "name": "stdout",
     "output_type": "stream",
     "text": [
      "Development Name        False\n",
      "Borough                 False\n",
      "Location                False\n",
      "Funding Source          False\n",
      "Vendor Name             False\n",
      "Revenue Month           False\n",
      "Service Start Date      False\n",
      "Service End Date        False\n",
      "# days                  False\n",
      "Current Charges         False\n",
      "Consumption (Therms)    False\n",
      "dtype: bool\n"
     ]
    }
   ],
   "source": [
    "gas_df = gas_df.dropna()\n",
    "df_isnull = gas_df.isnull()\n",
    "print(df_isnull.any())"
   ]
  },
  {
   "cell_type": "markdown",
   "metadata": {},
   "source": [
    "##### Tiếp theo, bắt đầu xử lý kiểu dữ liệu chưa phù hợp. Chạy hàm `info()` để bạn có thể tổng quan về dữ liệu của mình."
   ]
  },
  {
   "cell_type": "code",
   "execution_count": 21,
   "metadata": {},
   "outputs": [
    {
     "name": "stdout",
     "output_type": "stream",
     "text": [
      "<class 'pandas.core.frame.DataFrame'>\n",
      "Int64Index: 179595 entries, 1 to 214634\n",
      "Data columns (total 11 columns):\n",
      " #   Column                Non-Null Count   Dtype  \n",
      "---  ------                --------------   -----  \n",
      " 0   Development Name      179595 non-null  object \n",
      " 1   Borough               179595 non-null  object \n",
      " 2   Location              179595 non-null  object \n",
      " 3   Funding Source        179595 non-null  object \n",
      " 4   Vendor Name           179595 non-null  object \n",
      " 5   Revenue Month         179595 non-null  object \n",
      " 6   Service Start Date    179595 non-null  object \n",
      " 7   Service End Date      179595 non-null  object \n",
      " 8   # days                179595 non-null  float64\n",
      " 9   Current Charges       179595 non-null  float64\n",
      " 10  Consumption (Therms)  179595 non-null  float64\n",
      "dtypes: float64(3), object(8)\n",
      "memory usage: 16.4+ MB\n",
      "None\n"
     ]
    }
   ],
   "source": [
    "print(gas_df.info())"
   ]
  },
  {
   "cell_type": "markdown",
   "metadata": {},
   "source": [
    "Quan sát các cột `Revenue Month`, `Service Start Date`, `Service End Date` đang ở định dạng object. Tuy nhiên, chúng thực ra phải ở dạng ngày-tháng-năm. Do đó, mình phải chuyển chúng về kiểu datetime."
   ]
  },
  {
   "cell_type": "code",
   "execution_count": 22,
   "metadata": {},
   "outputs": [],
   "source": [
    "gas_df['Revenue Month'] = pd.to_datetime(gas_df['Revenue Month'], format=\"%Y-%m\")\n",
    "gas_df['Service Start Date'] = gas_df['Service Start Date'].astype(\"datetime64\")\n",
    "gas_df['Service End Date'] = gas_df['Service End Date'].astype(\"datetime64\")"
   ]
  },
  {
   "cell_type": "markdown",
   "metadata": {},
   "source": [
    "Cột dữ liệu `# days` nên ở dạng số nguyên thay vì số thực."
   ]
  },
  {
   "cell_type": "code",
   "execution_count": 23,
   "metadata": {},
   "outputs": [],
   "source": [
    "gas_df['# days'] = gas_df['# days'].astype(\"int64\")"
   ]
  },
  {
   "cell_type": "markdown",
   "metadata": {},
   "source": [
    "Kiểm tra xem cột `# days` có bằng với hiệu của `Service End Date` và `Service Start Date` không?"
   ]
  },
  {
   "cell_type": "code",
   "execution_count": 24,
   "metadata": {},
   "outputs": [
    {
     "data": {
      "text/plain": [
       "True"
      ]
     },
     "execution_count": 24,
     "metadata": {},
     "output_type": "execute_result"
    }
   ],
   "source": [
    "def check_days_column_equality(df):\n",
    "    mask = df['Service End Date'].notnull() & df['Service Start Date'].notnull()  \n",
    "    check = df.loc[mask, '# days'] == (df.loc[mask, 'Service End Date'] - df.loc[mask, 'Service Start Date']).dt.days\n",
    "    return check.all()\n",
    "         \n",
    "check_days_column_equality(gas_df)"
   ]
  },
  {
   "cell_type": "markdown",
   "metadata": {},
   "source": [
    "Kết quả cho đúng nghĩa là số ngày tiêu dùng gas bằng hiệu thời gian kết thúc hoá đơn và thời gian bắt đầu hoá đơn"
   ]
  },
  {
   "cell_type": "markdown",
   "metadata": {},
   "source": [
    "##### Sau khi chạy lệnh .info(), các kiểu dữ liệu của các cột đã hợp lý hơn."
   ]
  },
  {
   "cell_type": "code",
   "execution_count": 25,
   "metadata": {},
   "outputs": [
    {
     "name": "stdout",
     "output_type": "stream",
     "text": [
      "<class 'pandas.core.frame.DataFrame'>\n",
      "Int64Index: 179595 entries, 1 to 214634\n",
      "Data columns (total 11 columns):\n",
      " #   Column                Non-Null Count   Dtype         \n",
      "---  ------                --------------   -----         \n",
      " 0   Development Name      179595 non-null  object        \n",
      " 1   Borough               179595 non-null  object        \n",
      " 2   Location              179595 non-null  object        \n",
      " 3   Funding Source        179595 non-null  object        \n",
      " 4   Vendor Name           179595 non-null  object        \n",
      " 5   Revenue Month         179595 non-null  datetime64[ns]\n",
      " 6   Service Start Date    179595 non-null  datetime64[ns]\n",
      " 7   Service End Date      179595 non-null  datetime64[ns]\n",
      " 8   # days                179595 non-null  int64         \n",
      " 9   Current Charges       179595 non-null  float64       \n",
      " 10  Consumption (Therms)  179595 non-null  float64       \n",
      "dtypes: datetime64[ns](3), float64(2), int64(1), object(5)\n",
      "memory usage: 16.4+ MB\n",
      "None\n"
     ]
    }
   ],
   "source": [
    "print(gas_df.info())"
   ]
  },
  {
   "cell_type": "markdown",
   "metadata": {},
   "source": [
    "### Với mỗi cột có các kiểu dữ liệu numeric, các giá trị được phân bổ như thế nào?"
   ]
  },
  {
   "cell_type": "markdown",
   "metadata": {},
   "source": [
    "Đối với các cột có các kiểu dữ liệu numeric, tính:\n",
    "- Giá trị nhỏ nhất (min)\n",
    "- Tứ phân vị dưới (phân vị 25)\n",
    "- Trung vị (phân vị 50)\n",
    "- Tứ phân vị trên (phân vị 75)\n",
    "- Giá trị lớn nhất (max)\n",
    "\n",
    "Mình sẽ lưu kết quả vào DataFrame `numeric_col_gas_profile`, trong đó:\n",
    "- Tên các cột là tên các cột số trong `gas_df`\n",
    "- Tên các hàng:  “min”, “low_quartile”, “median”, “upper_quartile”, “max”"
   ]
  },
  {
   "cell_type": "code",
   "execution_count": 26,
   "metadata": {},
   "outputs": [
    {
     "data": {
      "text/html": [
       "<div>\n",
       "<style scoped>\n",
       "    .dataframe tbody tr th:only-of-type {\n",
       "        vertical-align: middle;\n",
       "    }\n",
       "\n",
       "    .dataframe tbody tr th {\n",
       "        vertical-align: top;\n",
       "    }\n",
       "\n",
       "    .dataframe thead th {\n",
       "        text-align: right;\n",
       "    }\n",
       "</style>\n",
       "<table border=\"1\" class=\"dataframe\">\n",
       "  <thead>\n",
       "    <tr style=\"text-align: right;\">\n",
       "      <th></th>\n",
       "      <th># days</th>\n",
       "      <th>Current Charges</th>\n",
       "      <th>Consumption (Therms)</th>\n",
       "    </tr>\n",
       "  </thead>\n",
       "  <tbody>\n",
       "    <tr>\n",
       "      <th>min</th>\n",
       "      <td>1.0</td>\n",
       "      <td>0.080</td>\n",
       "      <td>0.18</td>\n",
       "    </tr>\n",
       "    <tr>\n",
       "      <th>25%</th>\n",
       "      <td>29.0</td>\n",
       "      <td>426.515</td>\n",
       "      <td>807.00</td>\n",
       "    </tr>\n",
       "    <tr>\n",
       "      <th>50%</th>\n",
       "      <td>30.0</td>\n",
       "      <td>1311.520</td>\n",
       "      <td>2450.00</td>\n",
       "    </tr>\n",
       "    <tr>\n",
       "      <th>75%</th>\n",
       "      <td>31.0</td>\n",
       "      <td>6765.390</td>\n",
       "      <td>14383.00</td>\n",
       "    </tr>\n",
       "    <tr>\n",
       "      <th>max</th>\n",
       "      <td>761.0</td>\n",
       "      <td>982291.310</td>\n",
       "      <td>2351667.00</td>\n",
       "    </tr>\n",
       "  </tbody>\n",
       "</table>\n",
       "</div>"
      ],
      "text/plain": [
       "     # days  Current Charges  Consumption (Therms)\n",
       "min     1.0            0.080                  0.18\n",
       "25%    29.0          426.515                807.00\n",
       "50%    30.0         1311.520               2450.00\n",
       "75%    31.0         6765.390              14383.00\n",
       "max   761.0       982291.310            2351667.00"
      ]
     },
     "execution_count": 26,
     "metadata": {},
     "output_type": "execute_result"
    }
   ],
   "source": [
    "numeric_col_df =  gas_df.select_dtypes (include = ['int64', 'float64'])\n",
    "\n",
    "numeric_col_gas_profile = numeric_col_df.quantile([0, 0.25, 0.5, 0.75, 1])\n",
    "numeric_col_gas_profile.index = ['min', '25%', '50%', '75%', 'max']\n",
    "numeric_col_gas_profile"
   ]
  },
  {
   "cell_type": "markdown",
   "metadata": {},
   "source": [
    "### Với mỗi cột có các kiểu dữ liệu non-numeric, các giá trị được phân bổ như thế nào?"
   ]
  },
  {
   "cell_type": "markdown",
   "metadata": {},
   "source": [
    "Đối với các cột có kiểu dữ liệu object, tính:\n",
    "- Số lượng chuỗi ký tự khác biệt (không xét đến các giá trị bị thiếu)\n",
    "- Số lần xuất hiện của mỗi chuỗi được sắp xếp theo chiều giảm dần :  dùng collection để lưu trữ, key là chuỗi, giá trị là số lần xuất hiện tương ứng. Với cột tương ứng với từng loại, cách thực hiện tương tự như trên.\n",
    "\n",
    "Lưu kết quả vào DataFrame `cat_col_info_gas_df`, trong đó:\n",
    "- Tên các cột có các kiểu 'object', 'category' trong `gas_df`\n",
    "- Tên các dòng là: “num_values”, “distribution”"
   ]
  },
  {
   "cell_type": "code",
   "execution_count": 27,
   "metadata": {},
   "outputs": [
    {
     "name": "stdout",
     "output_type": "stream",
     "text": [
      "Development Name : numbers of unique values:  374 , including:  Counter({'SAMUEL (CITY)': 10953, 'BUSHWICK II (GROUPS B & D)': 7214, 'BUSHWICK II (GROUPS A & C)': 6928, 'FENIMORE-LEFFERTS': 5025, 'BORINQUEN PLAZA I': 2475, 'CLAREMONT REHAB (GROUP 4)': 2395, 'TAPSCOTT STREET REHAB': 2327, 'EAST NEW YORK CITY LINE': 2236, 'HOWARD AVENUE-PARK PLACE': 2236, 'FHA REPOSSESSED HOUSES (GROUP IX)': 2167, 'BORINQUEN PLAZA II': 1956, 'STERLING PLACE REHABS (STERLING-BUFFALO)': 1956, 'SACK WERN': 1858, 'UNION AVENUE-EAST 166TH STREET': 1627, 'REHAB PROGRAM (DOUGLASS REHABS)': 1411, 'REHAB PROGRAM (TAFT REHABS)': 1410, 'HUNTS POINT AVENUE REHAB': 1385, 'HOWARD AVENUE': 1381, 'EAST 165TH STREET-BRYANT AVENUE': 1379, 'LOWER EAST SIDE II': 1376, 'WILLIAMSBURG': 1367, 'STERLING PLACE REHABS (SAINT JOHNS-STERLING)': 1359, 'BUSHWICK II CDA (GROUP E)': 1356, 'CLAREMONT REHAB (GROUP 3)': 1353, 'CLAREMONT REHAB (GROUP 2)': 1344, 'LOWER EAST SIDE I INFILL': 1328, 'SAMUEL (MHOP) I': 1233, 'RUTGERS': 1218, 'PARK ROCK REHAB': 1120, 'CROWN HEIGHTS': 1106, 'EAST 173RD STREET-VYSE AVENUE': 1102, 'OCEAN HILL-BROWNSVILLE': 1100, 'SOUTH BRONX AREA (SITE 402)': 1086, 'RED HOOK EAST': 1071, 'BETANCES VI': 1049, 'WASHINGTON HEIGHTS REHAB PHASE III': 1040, 'RED HOOK WEST': 1035, 'UNIVERSITY AVENUE REHAB': 1002, 'WASHINGTON HEIGHTS REHAB (GROUPS 1&2)': 966, 'QUEENSBRIDGE NORTH': 959, 'BETANCES V': 945, 'BERRY STREET-SOUTH 9TH STREET': 944, 'HARRISON AVENUE REHAB (GROUP B)': 939, 'BETANCES IV': 851, 'FIRST HOUSES': 849, 'SUTTER AVENUE-UNION STREET': 840, 'BEDFORD-STUYVESANT REHAB': 839, 'RALPH AVENUE REHAB': 836, 'BELMONT-SUTTER AREA': 834, 'LENOX ROAD-ROCKAWAY PARKWAY': 833, 'STUYVESANT GARDENS I': 826, 'BOYNTON AVENUE REHAB': 819, 'WEST FARMS ROAD REHAB': 819, 'STEBBINS AVENUE-HEWITT PLACE': 815, 'CLAREMONT REHAB (GROUP 5)': 805, 'INGERSOLL': 801, 'ARMSTRONG I': 799, 'CLASON POINT GARDENS': 797, 'CLAREMONT PARKWAY-FRANKLIN AVENUE': 757, 'HOPE GARDENS': 746, 'MANHATTANVILLE REHAB (GROUP 2)': 744, 'TAFT': 739, 'QUEENSBRIDGE SOUTH': 719, 'RANDOLPH': 704, 'FRANKLIN AVENUE II CONVENTIONAL': 582, 'HIGHBRIDGE REHABS (NELSON AVENUE)': 582, 'FRANKLIN AVENUE I CONVENTIONAL': 576, 'HIGHBRIDGE REHABS (ANDERSON AVENUE)': 567, 'CAREY GARDENS': 565, 'CLINTON': 556, 'LONGFELLOW AVENUE REHAB': 552, 'SHELTON HOUSE': 551, 'LATIMER GARDENS': 550, 'MELROSE': 550, 'LOWER EAST SIDE III': 548, 'BAY VIEW': 546, 'BOSTON ROAD PLAZA': 545, 'STAPLETON': 532, 'VANDALIA AVENUE': 496, 'BROWN': 487, 'BRYANT AVENUE-EAST 174TH STREET': 487, 'WASHINGTON HEIGHTS REHAB PHASE IV (D)': 486, 'EAGLE AVENUE-EAST 163RD STREET': 482, 'HOE AVENUE-EAST 173RD STREET': 480, 'LEAVITT STREET-34TH AVENUE': 479, 'ARMSTRONG II': 472, 'MARCY AVENUE-GREENE AVENUE SITE A': 472, 'COLLEGE AVENUE-EAST 165TH STREET': 469, 'WASHINGTON HEIGHTS REHAB PHASE IV (C)': 466, 'GLEBE AVENUE-WESTCHESTER AVENUE': 464, 'MANHATTANVILLE REHAB (GROUP 3)': 459, 'REID APARTMENTS': 459, 'BETANCES II': 447, 'LONG ISLAND BAPTIST HOUSES': 447, 'VLADECK': 440, 'PUBLIC SCHOOL 139 (CONVERSION)': 439, 'LOW HOUSES': 422, 'CONEY ISLAND I (SITE 1B)': 405, 'SOTOMAYOR HOUSES': 397, 'REHAB PROGRAM (WISE REHAB)': 396, 'HERNANDEZ': 386, 'ROBINSON': 381, 'ASTORIA': 348, 'CORSI HOUSES': 337, 'WSUR (BROWNSTONES)': 334, 'WEST BRIGHTON I': 332, 'DREW-HAMILTON': 325, 'SURFSIDE GARDENS': 322, 'HAMMEL': 321, 'WEST BRIGHTON II': 321, '104-14 TAPSCOTT STREET': 315, 'SMITH': 307, 'OCEAN BAY APARTMENTS (OCEANSIDE)': 307, 'LINDEN': 305, 'BOULEVARD': 304, 'FHA REPOSSESSED HOUSES (GROUP VI)': 303, '45 ALLEN STREET': 300, 'UPACA (SITE 5)': 298, 'MELTZER TOWER': 295, 'CYPRESS HILLS': 294, 'WEST TREMONT AVENUE-SEDGWICK AVENUE AREA': 294, 'BETANCES II, 18': 294, 'WHITMAN': 292, 'MORRIS I/MORRIS II/MORRISANIA': 291, 'LOWER EAST SIDE REHAB (GROUP 5)': 290, 'CASSIDY-LAFAYETTE': 285, \"MARINER'S HARBOR\": 283, 'AMSTERDAM': 281, 'BREUKELEN': 281, 'GOWANUS': 281, 'PARKSIDE': 281, 'WAGNER': 281, 'ATLANTIC TERMINAL SITE 4B': 280, 'BREVOORT': 280, 'CONLON LIHFE TOWER': 280, 'GLENMORE PLAZA': 280, 'GLENWOOD': 280, 'INTERNATIONAL TOWER': 280, 'JOHNSON': 280, 'LAFAYETTE': 280, 'MANHATTANVILLE': 280, 'MARLBORO': 280, 'POLO GROUNDS TOWERS': 280, 'RICHMOND TERRACE': 280, 'SARATOGA VILLAGE': 280, 'STUYVESANT GARDENS II': 280, 'BROWNSVILLE': 279, 'HOWARD': 279, 'TODT HILL': 279, 'AUDUBON': 278, 'BAILEY AVENUE-WEST 193RD STREET': 278, 'BAISLEY PARK': 278, 'BUTLER': 278, 'CARVER': 278, 'DYCKMAN': 278, 'RAVENSWOOD': 278, 'UNION AVENUE-EAST 163RD STREET': 278, 'UPACA (SITE 6)': 278, 'GOMPERS': 277, 'JACKSON': 277, 'MITCHEL': 277, 'MONROE': 277, 'POMONOK': 277, 'BLAND': 276, 'DOUGLASS ADDITION': 276, 'FOREST': 276, 'HUGHES APARTMENTS': 276, 'ISAACS': 276, 'OCEAN HILL APARTMENTS': 276, 'PALMETTO GARDENS': 276, 'PELHAM PARKWAY': 276, 'SAINT NICHOLAS': 276, 'SOUTH BEACH': 276, 'TWIN PARKS EAST (SITE 9)': 276, 'WEBSTER': 276, 'BETHUNE GARDENS': 275, 'BRACETTI PLAZA': 275, 'COOPER PARK': 275, 'DAVIDSON': 275, 'FIORENTINO PLAZA': 275, 'REHAB PROGRAM (COLLEGE POINT)': 275, 'EAST RIVER': 275, 'BERRY': 274, 'BOSTON SECOR': 274, 'FORT INDEPENDENCE STREET-HEATH AVENUE': 274, 'JEFFERSON': 274, 'LEHMAN VILLAGE': 274, 'MARBLE HILL': 274, 'GRANT': 273, 'SOUNDVIEW': 273, 'STANTON STREET': 273, 'SEWARD PARK EXTENSION': 272, 'TELLER AVENUE-EAST 166TH STREET': 272, 'PENNSYLVANIA AVENUE-WORTMAN AVENUE': 271, 'TILDEN': 271, 'WOODSIDE': 271, 'HOLMES TOWERS': 270, 'MIDDLETOWN PLAZA': 270, 'GARVEY (GROUP A)': 269, 'SEDGWICK': 269, 'TOMPKINS': 269, 'CASTLE HILL': 268, 'RANGEL': 268, 'RUTLAND TOWERS': 268, 'CHELSEA': 267, 'WHITE': 267, 'EAST 152ND STREET-COURTLANDT AVENUE': 266, 'WEST FARMS SQUARE CONVENTIONAL': 266, 'GUN HILL': 265, 'TAYLOR STREET-WYTHE AVENUE': 265, 'UNITY PLAZA (ALL)/LI BAPTIST HOUSES (BLD 2-4)': 264, 'WOODSON': 263, 'CONEY ISLAND I (SITE 8)': 262, 'CONEY ISLAND': 261, 'BARUCH': 261, 'ADAMS': 260, 'GRAVESEND': 259, 'MORRISANIA AIR RIGHTS': 258, 'MURPHY': 258, 'EASTCHESTER GARDENS': 257, 'HARRISON AVENUE REHAB (GROUP A)': 257, 'LINCOLN': 256, '335 EAST 111TH STREET': 256, 'ROOSEVELT II': 250, 'MARSHALL PLAZA': 248, 'HARBORVIEW TERRACE': 247, 'MARCY': 246, 'SAMUEL (MHOP) II': 246, 'WASHINGTON': 246, 'FORT WASHINGTON AVENUE REHAB': 245, 'CARLETON MANOR': 242, 'KING TOWERS': 242, 'PATTERSON': 242, 'SAMUEL (MHOP) III': 242, 'WILSON': 242, 'FHA REPOSSESSED HOUSES (GROUP III)': 238, 'MARCY AVENUE-GREENE AVENUE SITE B': 236, 'BAYCHESTER': 234, 'FHA REPOSSESSED HOUSES (GROUP I)': 233, 'TWO BRIDGES URA (SITE 7)': 232, 'BEACH 41ST STREET-BEACH CHANNEL DRIVE': 232, 'LEXINGTON': 231, 'WALD': 228, 'WEEKSVILLE GARDENS': 228, 'GRAMPION': 226, 'REDFERN': 222, 'EDENWALD': 221, 'MCKINLEY': 218, 'FARRAGUT': 217, 'MOTT HAVEN': 217, 'NEW LANE AREA': 216, 'EAST 180TH STREET-MONTEREY AVENUE': 215, 'WYCKOFF GARDENS': 209, 'BETANCES II, 13': 208, 'HABER': 204, 'WILLIAMS PLAZA': 204, 'HIGHBRIDGE GARDENS': 203, 'THROGGS NECK': 195, 'BARUCH/BARUCH HOUSES ADDITION': 194, 'BRONX RIVER/BRONX RIVER ADDITION': 194, 'DOUGLASS I/DOUGLASS II': 194, 'FRANKLIN AVENUE III CONVENTIONAL': 194, 'HARLEM RIVER II/HARLEM RIVER': 194, 'LA GUARDIA/LA GUARDIA ADDITION': 194, 'MILL BROOK/MILL BROOK EXTENSION': 194, 'VLADECK/VLADECK II': 194, 'VAN DYKE I/VAN DYKE II': 192, 'MORRIS PARK SENIOR CITIZENS HOME': 191, 'RIIS/RIIS II': 190, 'TWIN PARKS WEST (SITES 1 & 2)': 189, 'NDF - PSA 6, 2770 F DOUGLASS BLVD': 186, 'RANDALL AVENUE-BALCOM AVENUE': 186, \"O'DWYER GARDENS\": 184, 'CONEY ISLAND I (SITES 4 & 5)': 182, '1010 EAST 178TH STREET': 182, '303 VERNON AVENUE': 181, 'BUSHWICK/HYLAN': 180, 'ROOSEVELT I/ROOSEVELT II': 180, 'SHEEPSHEAD BAY/NOSTRAND': 180, 'SOUTH JAMAICA II/SOUTH JAMAICA I': 180, 'WHITMAN/WHITMAN CHILD CENTER': 180, 'WEST BRIGHTON I/WEST BRIGHTON II': 178, 'RIIS': 178, 'RIIS II': 178, \"SAINT MARY'S PARK\": 178, '154 WEST 84TH STREET': 178, 'DOUGLASS I': 175, 'DOUGLASS II': 175, 'VAN DYKE I': 175, 'VAN DYKE II': 175, 'BUSHWICK': 174, 'HYLAN': 174, 'SOUTH JAMAICA I': 173, 'SOUTH JAMAICA II': 173, 'KINGSBOROUGH/KINGSBOROUGH EXTENSION': 172, 'SHEEPSHEAD BAY': 172, 'NOSTRAND': 172, 'MORRIS I': 171, 'MORRISANIA': 171, 'MORRIS II': 171, '1162-1176 WASHINGTON AVENUE': 170, 'OCEAN BAY APARTMENTS (BAYSIDE)': 169, 'KINGSBOROUGH': 169, 'KINGSBOROUGH EXTENSION': 169, 'FOREST HILLS COOP (108TH STREET-62ND DRIVE)': 168, 'BRONX RIVER': 168, 'BRONX RIVER ADDITION': 168, 'HARLEM RIVER': 168, 'HARLEM RIVER II': 168, 'UNITY PLAZA (SITES 4-27)': 168, 'UNITY PLAZA (SITES 17,24,25A)': 168, '131 SAINT NICHOLAS AVENUE': 168, 'LA GUARDIA': 167, 'LA GUARDIA ADDITION': 167, 'BETANCES II (BLD 3)/BETANCES III (BLD 4-5)': 166, 'SUMNER': 165, '830 AMSTERDAM AVENUE': 164, 'VLADECK II': 164, 'EAST 111TH STREET': 163, 'ROOSEVELT I': 162, 'PINK': 161, 'ELLIOTT': 160, 'CHELSEA ADDITION': 160, 'INDEPENDENCE': 159, 'METRO NORTH PLAZA': 159, 'ALBANY': 158, 'ALBANY II': 158, 'FHA REPOSSESSED HOUSES (GROUP X)': 157, 'ALBANY/ALBANY II': 156, 'NDF - PSA 4, 130 AVENUE C': 155, 'TAPSCOTT STREET': 155, 'MILL BROOK': 154, 'MILL BROOK EXTENSION': 154, 'BETANCES III, 9A': 153, 'PARK AVENUE-EAST 122ND, 123RD STREETS': 145, '572 WARREN STREET': 140, 'BETANCES V (BLD 2)/BETANCES IV (BLD 3,5)': 138, 'MOORE': 138, 'FHA REPOSSESSED HOUSES (GROUP IV)': 129, 'BETANCES III': 127, 'BETANCES II (BLD 2)/BETANCES III (BLD 6)': 124, 'THROGGS NECK ADDITION': 122, 'BETANCES II, 9A': 122, 'ELLIOTT/CHELSEA ADDITION': 106, 'BETANCES IV (BLD 1-2,4,6-8)': 97, 'SAINT MARYS PARK': 97, 'WEST 84TH STREET': 97, 'NDF - CENTRAL MAINTENANCE SHOP, 23 ASH ST': 96, 'NDF - PSA 1, 2860 WEST 23 ST': 96, 'NDF - PSA 2, 560 SUTTER AVE': 96, 'NDF - PSA 3, 25 CENTRAL AVE': 96, 'VERNON AVENUE': 96, 'WARREN STREET': 96, 'EAST 178TH STREET': 95, 'NDF - PSA 7, 737 MELROSE AVE': 92, 'AMSTERDAM AVENUE': 91, 'BARUCH HOUSES ADDITION': 91, 'BETANCES III, 13': 88, 'NDF - PSA 5, 221 EAST 123 ST': 83, 'CONEY ISLAND I (SITE 4 & 5)': 78, 'ODWYER GARDENS': 74, 'BETANCES II (BLD 4)': 70, 'WASHINGTON AVENUE': 70, 'NDF - BRONX OFFICE, 1200 WATERS PLACE': 68, 'BETANCES III, 18': 62, 'NDF - SI OFFICE, 140 RICHMOND TERR': 55, 'WEST SIDE URBAN RENEWAL (BROWNSTONES)': 54, 'WATSON AVENUE': 48, 'BETANCES II (BLD 1)': 30, 'BETANCES III (BLD 2-3)': 30, 'ALLEN STREET': 27, 'FHA REPOSSESSED HOUSES (GROUP II)': 23, 'WSUR (SITE B) 74 WEST 92ND STREET': 4, '1471 WATSON AVENUE': 2})\n",
      "Borough : numbers of unique values:  7 , including:  Counter({'BROOKLYN': 72708, 'MANHATTAN': 46202, 'BRONX': 45148, 'QUEENS': 8008, 'STATEN ISLAND': 3256, 'FHA': 3250, 'NON DEVELOPMENT FACILITY': 1023})\n",
      "Location : numbers of unique values:  127 , including:  Counter({'BLD 01': 39340, 'BLD 02': 19568, 'BLD 04': 15838, 'BLD 03': 15327, 'BLD 05': 9845, 'BLD 06': 7630, 'BLD 07': 5419, 'BLD 08': 4641, 'BLD 09': 3398, 'BLD 13': 2165, 'BLD 10': 1947, 'BLD 11': 1935, 'BLD 17': 1917, 'BLD 14': 1765, 'BLD 12': 1393, 'BLD 20': 1370, 'BLD 29': 1287, 'BLD 24': 1275, 'BLD 16': 1260, 'BLD 15': 1229, 'BLD 18': 1134, 'BLD 35': 1118, 'BLD 23': 1096, 'BLD 21': 1084, 'BLD 25': 1072, 'BLD 22': 992, 'BLD 32': 963, 'BLD 03 - Community Center': 827, 'MORRIS I BLD 10': 804, 'BLD 19': 803, 'BLD 42': 788, 'UNITY PLAZA BLD 03': 768, 'BLD 27': 731, 'BLD 36': 658, 'BLD 07 - Community Center': 621, 'BLD 34': 592, 'BLD 45': 551, 'BLD 38': 551, 'BLD 28': 550, 'BLD 33': 550, 'BLD 37': 548, 'BARUCH BLD 07': 546, 'RIIS BLD 13': 546, 'BLD 26': 545, 'DOUGLASS I BLD 11': 544, 'VAN DYKE I BLD 12': 542, 'BLD 30': 539, 'BLD 31': 539, 'BRONX RIVER BLD 07': 530, 'HARLEM RIVER II BLD 08': 530, 'BLD 40': 528, 'BUSHWICK BLD 02': 528, 'LA GUARDIA BLD 04': 528, 'BLD 46': 526, 'BLD 39': 526, 'SOUTH JAMAICA II BLD 19': 526, 'BLD 44': 524, 'BLD 41': 524, 'NOSTRAND BLD 17': 524, 'VLADECK BLD 02': 522, 'WEST BRIGHTON I BLD 06': 520, 'BLD 43': 519, 'BLD 47': 518, 'KINGSBOROUGH BLD 11': 510, 'ROOSEVELT I BLD 03': 504, 'MILL BROOK BLD 05': 502, 'ALBANY BLD 04': 472, 'BLD 02 - Community Center': 455, 'BLD 10 - Community Center': 445, 'ELLIOTT BLD 04': 426, 'BETANCES II BLD 03': 342, 'BLD 04 - Community Center': 314, 'BLD 49': 280, 'BLD 50': 280, 'BLD 36 - Community Center': 280, 'BLD 31 - Community Center': 276, 'BLD 4': 270, 'BLD 21 - Community Center': 267, 'BLD 25 - Community Center': 266, 'BLD 51 - Community Center': 266, 'BLD 48': 262, 'BETANCES IV BLD 03': 254, 'BETANCES II BLD 02': 248, 'BLD 09 - Community Center': 221, '458 ATKINS AVENUE': 212, '71 WAVERLY AVENUE': 211, '341 BERRIMAN STREET': 209, '353 BERRIMAN STREET': 208, '178-14 BAISLEY BOULEVARD': 207, '116-17 FARMERS BOULEVARD': 207, '100-38 FRANCIS LEWIS BOULEVARD': 206, '75 WAVERLY AVENUE': 204, '182 ADELPHI STREET': 202, '367 DOUGLASS STREET': 202, '116-31 FARMERS BOULEVARD': 200, '359 BERRIMAN STREET': 200, 'BLD 05 - Community Center': 188, 'BLD 1': 182, '349 BERRIMAN STREET': 178, 'BLD 26 - Community Center': 174, 'BLD48 - Community Center': 173, 'BLD 48 - Community Center': 168, 'BLD 2': 164, '143 GATES AVENUE': 164, 'BLD 06 - Community Center': 161, '153 BEACH 59TH STREET': 157, 'BLD 11 - Community Center': 150, 'BLD09 - Community Center': 140, 'BLD 08 - Community Center': 135, '140 EAST 91ST STREET': 132, 'BLD 32 - Community Center': 122, 'BLD07 - Community Center': 115, 'BLD 3': 105, 'BLD 27 - Community Center': 94, '305 ATKINS AVENUE': 45, 'BLD 5': 40, '115-21 135TH STREET': 32, '120-26 178TH STREET': 25, '110-16 207th Street': 23, '1504 BEACH 12TH STREET': 19, '340 Williams Avenue': 18, 'GEN': 17, 'Bldg #6- 325 Fountain Avenue': 14, 'BLD05 - Community Center': 10, '1502 BEACH 12TH STREET': 7, 'BLD 6': 6, 'BLD 7': 5})\n",
      "Funding Source : numbers of unique values:  6 , including:  Counter({'FEDERAL': 161385, 'MIXED FINANCE/LLC1': 15482, 'MIXED FINANCE/LLC2': 1464, 'NON-DEVELOPMENT': 1023, 'FEDERAL-COOP': 168, 'Federal': 73})\n",
      "Vendor Name : numbers of unique values:  10 , including:  Counter({'CONSOLIDATED EDISON COMPANY OF NY': 48299, 'National Grid NYC': 42998, 'DIRECT ENERGY BUSINESS (32179)': 39881, 'HESS CORPORATION (905243) - 2': 20685, 'EAST COAST POWER & GAS': 14396, 'Hudson Energy ServicesB': 6682, 'DIRECT ENERGY BUSINESS (905243)': 3950, 'EAST COAST POWER AND GAS (MRI)': 1751, 'National Grid LI': 902, 'Hudson Energy Services LI': 51})\n"
     ]
    },
    {
     "data": {
      "text/html": [
       "<div>\n",
       "<style scoped>\n",
       "    .dataframe tbody tr th:only-of-type {\n",
       "        vertical-align: middle;\n",
       "    }\n",
       "\n",
       "    .dataframe tbody tr th {\n",
       "        vertical-align: top;\n",
       "    }\n",
       "\n",
       "    .dataframe thead th {\n",
       "        text-align: right;\n",
       "    }\n",
       "</style>\n",
       "<table border=\"1\" class=\"dataframe\">\n",
       "  <thead>\n",
       "    <tr style=\"text-align: right;\">\n",
       "      <th></th>\n",
       "      <th>Development Name</th>\n",
       "      <th>Borough</th>\n",
       "      <th>Location</th>\n",
       "      <th>Funding Source</th>\n",
       "      <th>Vendor Name</th>\n",
       "    </tr>\n",
       "  </thead>\n",
       "  <tbody>\n",
       "    <tr>\n",
       "      <th>num_diff_vals</th>\n",
       "      <td>374</td>\n",
       "      <td>7</td>\n",
       "      <td>127</td>\n",
       "      <td>6</td>\n",
       "      <td>10</td>\n",
       "    </tr>\n",
       "    <tr>\n",
       "      <th>distribution</th>\n",
       "      <td>{'ADAMS': 260, 'ALBANY/ALBANY II': 156, 'AMSTE...</td>\n",
       "      <td>{'BRONX': 45148, 'BROOKLYN': 72708, 'MANHATTAN...</td>\n",
       "      <td>{'BLD 04': 15838, 'ALBANY BLD 04': 472, 'BLD 0...</td>\n",
       "      <td>{'FEDERAL': 161385, 'MIXED FINANCE/LLC1': 1548...</td>\n",
       "      <td>{'CONSOLIDATED EDISON COMPANY OF NY': 48299, '...</td>\n",
       "    </tr>\n",
       "  </tbody>\n",
       "</table>\n",
       "</div>"
      ],
      "text/plain": [
       "                                                Development Name  \\\n",
       "num_diff_vals                                                374   \n",
       "distribution   {'ADAMS': 260, 'ALBANY/ALBANY II': 156, 'AMSTE...   \n",
       "\n",
       "                                                         Borough  \\\n",
       "num_diff_vals                                                  7   \n",
       "distribution   {'BRONX': 45148, 'BROOKLYN': 72708, 'MANHATTAN...   \n",
       "\n",
       "                                                        Location  \\\n",
       "num_diff_vals                                                127   \n",
       "distribution   {'BLD 04': 15838, 'ALBANY BLD 04': 472, 'BLD 0...   \n",
       "\n",
       "                                                  Funding Source  \\\n",
       "num_diff_vals                                                  6   \n",
       "distribution   {'FEDERAL': 161385, 'MIXED FINANCE/LLC1': 1548...   \n",
       "\n",
       "                                                     Vendor Name  \n",
       "num_diff_vals                                                 10  \n",
       "distribution   {'CONSOLIDATED EDISON COMPANY OF NY': 48299, '...  "
      ]
     },
     "execution_count": 27,
     "metadata": {},
     "output_type": "execute_result"
    }
   ],
   "source": [
    "cat_col_info_gas = gas_df.select_dtypes (include = ['object', 'category'])\n",
    "cat_col_info_gas_df = pd.DataFrame(columns= cat_col_info_gas.columns)\n",
    "\n",
    "for column in cat_col_info_gas.columns:\n",
    "    frequencies = collections.Counter(cat_col_info_gas[column].to_list())\n",
    "    print(column, \": numbers of unique values: \", len(frequencies.keys()), \", including: \", frequencies)\n",
    "    cat_col_info_gas_df[column] = list([len(frequencies.keys()), frequencies])\n",
    "\n",
    "cat_col_info_gas_df.index = ['num_diff_vals', 'distribution']\n",
    "cat_col_info_gas_df"
   ]
  },
  {
   "cell_type": "markdown",
   "metadata": {},
   "source": [
    "Đối với các cột có kiểu dữ liệu datetime, tính:\n",
    "- Số lượng tháng-năm khác biệt (không xét đến các giá trị bị thiếu)\n",
    "- Số lần xuất hiện của mỗi tháng-năm được sắp xếp theo chiều giảm dần : dùng collection để lưu trữ, key là tháng-năm, giá trị là số lần xuất hiện tương ứng. Với cột tương ứng với từng loại, cách thực hiện tương tự như trên.\n",
    "\n",
    "Lưu kết quả vào DataFrame `date_col_info_gas_df`, trong đó:\n",
    "- Tên các cột có các kiểu dữ liệu 'datetime64[ns]' trong `gas_df`\n",
    "- Tên các dòng là: “num_values”, “distribution”"
   ]
  },
  {
   "cell_type": "code",
   "execution_count": 28,
   "metadata": {},
   "outputs": [
    {
     "name": "stdout",
     "output_type": "stream",
     "text": [
      "Revenue Month : numbers of unique values:  134 , including:  [('2022-02', 238), ('2022-01', 1122), ('2021-12', 1163), ('2021-11', 1133), ('2021-10', 1106), ('2021-09', 1093), ('2021-08', 1102), ('2021-07', 1093), ('2021-06', 1093), ('2021-05', 1139), ('2021-04', 1168), ('2021-03', 1156), ('2021-02', 2022), ('2021-01', 2002), ('2020-12', 1198), ('2020-11', 1295), ('2020-10', 1225), ('2020-09', 1204), ('2020-08', 1175), ('2020-07', 969), ('2020-06', 2054), ('2020-05', 1550), ('2020-04', 2206), ('2020-03', 2183), ('2020-02', 2128), ('2020-01', 2141), ('2019-12', 1247), ('2019-11', 1234), ('2019-10', 1225), ('2019-09', 1163), ('2019-08', 1128), ('2019-07', 1135), ('2019-06', 1169), ('2019-05', 1218), ('2019-04', 1247), ('2019-03', 1226), ('2019-02', 1233), ('2019-01', 1255), ('2018-12', 1248), ('2018-11', 1312), ('2018-10', 1382), ('2018-09', 1262), ('2018-08', 1246), ('2018-07', 1259), ('2018-06', 1614), ('2018-05', 1339), ('2018-04', 1350), ('2018-03', 1336), ('2018-02', 1336), ('2018-01', 1336), ('2017-12', 1354), ('2017-11', 1363), ('2017-10', 1323), ('2017-09', 1270), ('2017-08', 1262), ('2017-07', 1279), ('2017-06', 1321), ('2017-05', 1365), ('2017-04', 1387), ('2017-03', 1376), ('2017-02', 1374), ('2017-01', 1378), ('2016-12', 1375), ('2016-11', 1367), ('2016-10', 1378), ('2016-09', 1278), ('2016-08', 1281), ('2016-07', 1284), ('2016-06', 1350), ('2016-05', 1389), ('2016-04', 1370), ('2016-03', 1372), ('2016-02', 1362), ('2016-01', 1333), ('2015-12', 1358), ('2015-11', 1368), ('2015-10', 1376), ('2015-09', 1273), ('2015-08', 1256), ('2015-07', 1255), ('2015-06', 1322), ('2015-05', 1364), ('2015-04', 1383), ('2015-03', 1386), ('2015-02', 1381), ('2015-01', 1382), ('2014-12', 1413), ('2014-11', 1415), ('2014-10', 1413), ('2014-09', 1305), ('2014-08', 1285), ('2014-07', 1280), ('2014-06', 1677), ('2014-05', 1387), ('2014-04', 1398), ('2014-03', 1397), ('2014-02', 1384), ('2014-01', 1384), ('2012-12', 1374), ('2012-11', 1402), ('2012-10', 1406), ('2012-09', 1313), ('2012-08', 1298), ('2012-07', 1265), ('2012-06', 1310), ('2012-05', 1382), ('2012-04', 1390), ('2012-03', 1379), ('2012-02', 1383), ('2012-01', 1374), ('2011-12', 1383), ('2011-11', 1386), ('2011-10', 1334), ('2011-09', 1264), ('2011-08', 1255), ('2011-07', 1256), ('2011-06', 1283), ('2011-05', 1365), ('2011-04', 1371), ('2011-03', 1378), ('2011-02', 1370), ('2011-01', 1374), ('2010-12', 1379), ('2010-11', 1376), ('2010-10', 1374), ('2010-09', 1246), ('2010-08', 1235), ('2010-07', 1230), ('2010-06', 1252), ('2010-05', 1340), ('2010-04', 1345), ('2010-03', 1343), ('2010-02', 1342), ('2010-01', 1347)]\n",
      "Service Start Date : numbers of unique values:  141 , including:  [('2022-02', 1), ('2022-01', 266), ('2021-12', 1153), ('2021-11', 1124), ('2021-10', 1131), ('2021-09', 1133), ('2021-08', 1090), ('2021-07', 1057), ('2021-06', 1084), ('2021-05', 1105), ('2021-04', 1149), ('2021-03', 1148), ('2021-02', 1183), ('2021-01', 2017), ('2020-12', 2060), ('2020-11', 1168), ('2020-10', 1255), ('2020-09', 1231), ('2020-08', 1182), ('2020-07', 1285), ('2020-06', 1713), ('2020-05', 1243), ('2020-04', 1578), ('2020-03', 2166), ('2020-02', 2194), ('2020-01', 2139), ('2019-12', 2108), ('2019-11', 1228), ('2019-10', 1257), ('2019-09', 1213), ('2019-08', 1154), ('2019-07', 1121), ('2019-06', 1143), ('2019-05', 1170), ('2019-04', 1250), ('2019-03', 1241), ('2019-02', 1202), ('2019-01', 1245), ('2018-12', 1255), ('2018-11', 1276), ('2018-10', 1323), ('2018-09', 1346), ('2018-08', 1279), ('2018-07', 1239), ('2018-06', 1588), ('2018-05', 1262), ('2018-04', 1340), ('2018-03', 1338), ('2018-02', 1339), ('2018-01', 1335), ('2017-12', 1341), ('2017-11', 1361), ('2017-10', 1363), ('2017-09', 1324), ('2017-08', 1278), ('2017-07', 1266), ('2017-06', 1283), ('2017-05', 1318), ('2017-04', 1376), ('2017-03', 1367), ('2017-02', 1377), ('2017-01', 1372), ('2016-12', 1383), ('2016-11', 1374), ('2016-10', 1374), ('2016-09', 1363), ('2016-08', 1283), ('2016-07', 1286), ('2016-06', 1325), ('2016-05', 1313), ('2016-04', 1374), ('2016-03', 1376), ('2016-02', 1361), ('2016-01', 1338), ('2015-12', 1347), ('2015-11', 1374), ('2015-10', 1372), ('2015-09', 1365), ('2015-08', 1285), ('2015-07', 1248), ('2015-06', 1533), ('2015-05', 1048), ('2015-04', 1374), ('2015-03', 1390), ('2015-02', 1386), ('2015-01', 1379), ('2014-12', 1379), ('2014-11', 1417), ('2014-10', 1422), ('2014-09', 1406), ('2014-08', 1310), ('2014-07', 1629), ('2014-06', 1283), ('2014-05', 1330), ('2014-04', 1392), ('2014-03', 1391), ('2014-02', 1386), ('2014-01', 1777), ('2013-12', 982), ('2013-11', 1), ('2013-10', 2), ('2012-12', 20), ('2012-11', 1363), ('2012-10', 1411), ('2012-09', 1400), ('2012-08', 1305), ('2012-07', 1286), ('2012-06', 1269), ('2012-05', 1299), ('2012-04', 1393), ('2012-03', 1379), ('2012-02', 1383), ('2012-01', 1382), ('2011-12', 1384), ('2011-11', 1379), ('2011-10', 1385), ('2011-09', 1333), ('2011-08', 1262), ('2011-07', 1263), ('2011-06', 1251), ('2011-05', 1284), ('2011-04', 1359), ('2011-03', 1377), ('2011-02', 1373), ('2011-01', 1369), ('2010-12', 1377), ('2010-11', 1381), ('2010-10', 1375), ('2010-09', 1369), ('2010-08', 1249), ('2010-07', 1236), ('2010-06', 1242), ('2010-05', 1247), ('2010-04', 1345), ('2010-03', 1341), ('2010-02', 1347), ('2010-01', 1341), ('2009-12', 1336), ('2009-11', 5), ('2009-10', 3), ('2009-08', 1)]\n",
      "Service End Date : numbers of unique values:  136 , including:  [('2022-03', 1), ('2022-02', 265), ('2022-01', 1135), ('2021-12', 1171), ('2021-11', 1126), ('2021-10', 1105), ('2021-09', 1118), ('2021-08', 1078), ('2021-07', 1076), ('2021-06', 1100), ('2021-05', 1147), ('2021-04', 1164), ('2021-03', 1172), ('2021-02', 2026), ('2021-01', 1979), ('2020-12', 1257), ('2020-11', 1218), ('2020-10', 1229), ('2020-09', 1181), ('2020-08', 1175), ('2020-07', 962), ('2020-06', 2096), ('2020-05', 1574), ('2020-04', 2200), ('2020-03', 2183), ('2020-02', 2123), ('2020-01', 2118), ('2019-12', 1249), ('2019-11', 1233), ('2019-10', 1224), ('2019-09', 1171), ('2019-08', 1125), ('2019-07', 1131), ('2019-06', 1177), ('2019-05', 1220), ('2019-04', 1267), ('2019-03', 1222), ('2019-02', 1215), ('2019-01', 1253), ('2018-12', 1246), ('2018-11', 1348), ('2018-10', 1339), ('2018-09', 1266), ('2018-08', 1248), ('2018-07', 1244), ('2018-06', 1627), ('2018-05', 1337), ('2018-04', 1350), ('2018-03', 1337), ('2018-02', 1329), ('2018-01', 1349), ('2017-12', 1348), ('2017-11', 1363), ('2017-10', 1323), ('2017-09', 1270), ('2017-08', 1265), ('2017-07', 1278), ('2017-06', 1322), ('2017-05', 1368), ('2017-04', 1384), ('2017-03', 1371), ('2017-02', 1380), ('2017-01', 1376), ('2016-12', 1375), ('2016-11', 1371), ('2016-10', 1374), ('2016-09', 1278), ('2016-08', 1281), ('2016-07', 1284), ('2016-06', 1348), ('2016-05', 1383), ('2016-04', 1378), ('2016-03', 1374), ('2016-02', 1367), ('2016-01', 1336), ('2015-12', 1348), ('2015-11', 1368), ('2015-10', 1376), ('2015-09', 1273), ('2015-08', 1256), ('2015-07', 1256), ('2015-06', 1309), ('2015-05', 1372), ('2015-04', 1387), ('2015-03', 1386), ('2015-02', 1384), ('2015-01', 1385), ('2014-12', 1407), ('2014-11', 1423), ('2014-10', 1406), ('2014-09', 1308), ('2014-08', 1284), ('2014-07', 1285), ('2014-06', 1673), ('2014-05', 1388), ('2014-04', 1399), ('2014-03', 1395), ('2014-02', 1380), ('2014-01', 1360), ('2013-01', 21), ('2012-12', 1371), ('2012-11', 1404), ('2012-10', 1405), ('2012-09', 1308), ('2012-08', 1295), ('2012-07', 1254), ('2012-06', 1310), ('2012-05', 1382), ('2012-04', 1390), ('2012-03', 1381), ('2012-02', 1381), ('2012-01', 1374), ('2011-12', 1383), ('2011-11', 1386), ('2011-10', 1334), ('2011-09', 1264), ('2011-08', 1256), ('2011-07', 1255), ('2011-06', 1283), ('2011-05', 1365), ('2011-04', 1371), ('2011-03', 1378), ('2011-02', 1370), ('2011-01', 1375), ('2010-12', 1378), ('2010-11', 1376), ('2010-10', 1374), ('2010-09', 1246), ('2010-08', 1235), ('2010-07', 1231), ('2010-06', 1251), ('2010-05', 1340), ('2010-04', 1347), ('2010-03', 1341), ('2010-02', 1342), ('2010-01', 1347)]\n"
     ]
    },
    {
     "data": {
      "text/html": [
       "<div>\n",
       "<style scoped>\n",
       "    .dataframe tbody tr th:only-of-type {\n",
       "        vertical-align: middle;\n",
       "    }\n",
       "\n",
       "    .dataframe tbody tr th {\n",
       "        vertical-align: top;\n",
       "    }\n",
       "\n",
       "    .dataframe thead th {\n",
       "        text-align: right;\n",
       "    }\n",
       "</style>\n",
       "<table border=\"1\" class=\"dataframe\">\n",
       "  <thead>\n",
       "    <tr style=\"text-align: right;\">\n",
       "      <th></th>\n",
       "      <th>Revenue Month</th>\n",
       "      <th>Service Start Date</th>\n",
       "      <th>Service End Date</th>\n",
       "    </tr>\n",
       "  </thead>\n",
       "  <tbody>\n",
       "    <tr>\n",
       "      <th>num_diff_vals</th>\n",
       "      <td>134</td>\n",
       "      <td>141</td>\n",
       "      <td>136</td>\n",
       "    </tr>\n",
       "    <tr>\n",
       "      <th>distribution</th>\n",
       "      <td>[(2022-02, 238), (2022-01, 1122), (2021-12, 11...</td>\n",
       "      <td>[(2022-02, 1), (2022-01, 266), (2021-12, 1153)...</td>\n",
       "      <td>[(2022-03, 1), (2022-02, 265), (2022-01, 1135)...</td>\n",
       "    </tr>\n",
       "  </tbody>\n",
       "</table>\n",
       "</div>"
      ],
      "text/plain": [
       "                                                   Revenue Month  \\\n",
       "num_diff_vals                                                134   \n",
       "distribution   [(2022-02, 238), (2022-01, 1122), (2021-12, 11...   \n",
       "\n",
       "                                              Service Start Date  \\\n",
       "num_diff_vals                                                141   \n",
       "distribution   [(2022-02, 1), (2022-01, 266), (2021-12, 1153)...   \n",
       "\n",
       "                                                Service End Date  \n",
       "num_diff_vals                                                136  \n",
       "distribution   [(2022-03, 1), (2022-02, 265), (2022-01, 1135)...  "
      ]
     },
     "execution_count": 28,
     "metadata": {},
     "output_type": "execute_result"
    }
   ],
   "source": [
    "date_col_info_gas = gas_df.select_dtypes (include = ['datetime64[ns]'])\n",
    "date_col_info_gas_df = pd.DataFrame(columns= date_col_info_gas.columns)\n",
    "\n",
    "for column in date_col_info_gas.columns:\n",
    "    # Trích xuất tháng và năm\n",
    "    month_year = date_col_info_gas[column].dt.strftime(\"%Y-%m\")\n",
    "    frequencies = collections.Counter(month_year.to_list())\n",
    "    frequencies = sorted(frequencies.items(), key=lambda x: x[0], reverse= True)\n",
    "    print(column, \": numbers of unique values: \", len(frequencies), \", including: \", frequencies)\n",
    "    date_col_info_gas_df[column] = list([len(frequencies), frequencies])\n",
    "\n",
    "date_col_info_gas_df.index = ['num_diff_vals', 'distribution']\n",
    "date_col_info_gas_df"
   ]
  },
  {
   "cell_type": "markdown",
   "metadata": {},
   "source": [
    "## 3. Lưu dữ liệu đã tiền xử lý "
   ]
  },
  {
   "cell_type": "markdown",
   "metadata": {},
   "source": [
    "Vậy là đã hoàn thành các bước tiền xử lý cơ bản, ta nên lưu `gas_df` vào dataframe mới tên `processed_gas_df`"
   ]
  },
  {
   "cell_type": "code",
   "execution_count": 29,
   "metadata": {},
   "outputs": [
    {
     "data": {
      "text/html": [
       "<div>\n",
       "<style scoped>\n",
       "    .dataframe tbody tr th:only-of-type {\n",
       "        vertical-align: middle;\n",
       "    }\n",
       "\n",
       "    .dataframe tbody tr th {\n",
       "        vertical-align: top;\n",
       "    }\n",
       "\n",
       "    .dataframe thead th {\n",
       "        text-align: right;\n",
       "    }\n",
       "</style>\n",
       "<table border=\"1\" class=\"dataframe\">\n",
       "  <thead>\n",
       "    <tr style=\"text-align: right;\">\n",
       "      <th></th>\n",
       "      <th>Development Name</th>\n",
       "      <th>Borough</th>\n",
       "      <th>Location</th>\n",
       "      <th>Funding Source</th>\n",
       "      <th>Vendor Name</th>\n",
       "      <th>Revenue Month</th>\n",
       "      <th>Service Start Date</th>\n",
       "      <th>Service End Date</th>\n",
       "      <th># days</th>\n",
       "      <th>Current Charges</th>\n",
       "      <th>Consumption (Therms)</th>\n",
       "    </tr>\n",
       "  </thead>\n",
       "  <tbody>\n",
       "    <tr>\n",
       "      <th>0</th>\n",
       "      <td>ADAMS</td>\n",
       "      <td>BRONX</td>\n",
       "      <td>BLD 04</td>\n",
       "      <td>FEDERAL</td>\n",
       "      <td>CONSOLIDATED EDISON COMPANY OF NY</td>\n",
       "      <td>2010-01-01</td>\n",
       "      <td>2009-12-24</td>\n",
       "      <td>2010-01-26</td>\n",
       "      <td>33</td>\n",
       "      <td>78292.97</td>\n",
       "      <td>136632.00</td>\n",
       "    </tr>\n",
       "    <tr>\n",
       "      <th>1</th>\n",
       "      <td>ADAMS</td>\n",
       "      <td>BRONX</td>\n",
       "      <td>BLD 04</td>\n",
       "      <td>FEDERAL</td>\n",
       "      <td>HESS CORPORATION (905243) - 2</td>\n",
       "      <td>2010-01-01</td>\n",
       "      <td>2009-12-25</td>\n",
       "      <td>2010-01-26</td>\n",
       "      <td>32</td>\n",
       "      <td>133779.54</td>\n",
       "      <td>136632.00</td>\n",
       "    </tr>\n",
       "    <tr>\n",
       "      <th>2</th>\n",
       "      <td>ALBANY/ALBANY II</td>\n",
       "      <td>BROOKLYN</td>\n",
       "      <td>ALBANY BLD 04</td>\n",
       "      <td>FEDERAL</td>\n",
       "      <td>National Grid NYC</td>\n",
       "      <td>2010-01-01</td>\n",
       "      <td>2009-12-29</td>\n",
       "      <td>2010-01-28</td>\n",
       "      <td>30</td>\n",
       "      <td>44335.21</td>\n",
       "      <td>153899.18</td>\n",
       "    </tr>\n",
       "    <tr>\n",
       "      <th>3</th>\n",
       "      <td>ALBANY/ALBANY II</td>\n",
       "      <td>BROOKLYN</td>\n",
       "      <td>ALBANY BLD 04</td>\n",
       "      <td>FEDERAL</td>\n",
       "      <td>National Grid NYC</td>\n",
       "      <td>2010-01-01</td>\n",
       "      <td>2009-12-29</td>\n",
       "      <td>2010-01-28</td>\n",
       "      <td>30</td>\n",
       "      <td>22034.86</td>\n",
       "      <td>76488.82</td>\n",
       "    </tr>\n",
       "    <tr>\n",
       "      <th>4</th>\n",
       "      <td>AMSTERDAM</td>\n",
       "      <td>MANHATTAN</td>\n",
       "      <td>BLD 02</td>\n",
       "      <td>FEDERAL</td>\n",
       "      <td>CONSOLIDATED EDISON COMPANY OF NY</td>\n",
       "      <td>2010-01-01</td>\n",
       "      <td>2009-12-24</td>\n",
       "      <td>2010-01-26</td>\n",
       "      <td>33</td>\n",
       "      <td>95456.57</td>\n",
       "      <td>169137.00</td>\n",
       "    </tr>\n",
       "    <tr>\n",
       "      <th>...</th>\n",
       "      <td>...</td>\n",
       "      <td>...</td>\n",
       "      <td>...</td>\n",
       "      <td>...</td>\n",
       "      <td>...</td>\n",
       "      <td>...</td>\n",
       "      <td>...</td>\n",
       "      <td>...</td>\n",
       "      <td>...</td>\n",
       "      <td>...</td>\n",
       "      <td>...</td>\n",
       "    </tr>\n",
       "    <tr>\n",
       "      <th>179590</th>\n",
       "      <td>WYCKOFF GARDENS</td>\n",
       "      <td>BROOKLYN</td>\n",
       "      <td>BLD 03</td>\n",
       "      <td>FEDERAL</td>\n",
       "      <td>DIRECT ENERGY BUSINESS (32179)</td>\n",
       "      <td>2021-04-01</td>\n",
       "      <td>2021-03-27</td>\n",
       "      <td>2021-04-27</td>\n",
       "      <td>31</td>\n",
       "      <td>23805.14</td>\n",
       "      <td>56991.00</td>\n",
       "    </tr>\n",
       "    <tr>\n",
       "      <th>179591</th>\n",
       "      <td>WYCKOFF GARDENS</td>\n",
       "      <td>BROOKLYN</td>\n",
       "      <td>BLD 03</td>\n",
       "      <td>FEDERAL</td>\n",
       "      <td>DIRECT ENERGY BUSINESS (32179)</td>\n",
       "      <td>2021-05-01</td>\n",
       "      <td>2021-04-28</td>\n",
       "      <td>2021-05-25</td>\n",
       "      <td>27</td>\n",
       "      <td>20283.93</td>\n",
       "      <td>48561.00</td>\n",
       "    </tr>\n",
       "    <tr>\n",
       "      <th>179592</th>\n",
       "      <td>WYCKOFF GARDENS</td>\n",
       "      <td>BROOKLYN</td>\n",
       "      <td>BLD 03</td>\n",
       "      <td>FEDERAL</td>\n",
       "      <td>DIRECT ENERGY BUSINESS (32179)</td>\n",
       "      <td>2021-06-01</td>\n",
       "      <td>2021-05-26</td>\n",
       "      <td>2021-06-25</td>\n",
       "      <td>30</td>\n",
       "      <td>1509.99</td>\n",
       "      <td>3615.00</td>\n",
       "    </tr>\n",
       "    <tr>\n",
       "      <th>179593</th>\n",
       "      <td>WYCKOFF GARDENS</td>\n",
       "      <td>BROOKLYN</td>\n",
       "      <td>BLD 03</td>\n",
       "      <td>FEDERAL</td>\n",
       "      <td>DIRECT ENERGY BUSINESS (32179)</td>\n",
       "      <td>2021-12-01</td>\n",
       "      <td>2021-07-28</td>\n",
       "      <td>2022-01-06</td>\n",
       "      <td>162</td>\n",
       "      <td>184610.42</td>\n",
       "      <td>435135.10</td>\n",
       "    </tr>\n",
       "    <tr>\n",
       "      <th>179594</th>\n",
       "      <td>WYCKOFF GARDENS</td>\n",
       "      <td>BROOKLYN</td>\n",
       "      <td>BLD 03</td>\n",
       "      <td>FEDERAL</td>\n",
       "      <td>DIRECT ENERGY BUSINESS (32179)</td>\n",
       "      <td>2022-01-01</td>\n",
       "      <td>2022-01-07</td>\n",
       "      <td>2022-02-03</td>\n",
       "      <td>27</td>\n",
       "      <td>43790.60</td>\n",
       "      <td>101077.00</td>\n",
       "    </tr>\n",
       "  </tbody>\n",
       "</table>\n",
       "<p>179595 rows × 11 columns</p>\n",
       "</div>"
      ],
      "text/plain": [
       "        Development Name    Borough       Location Funding Source  \\\n",
       "0                  ADAMS      BRONX         BLD 04        FEDERAL   \n",
       "1                  ADAMS      BRONX         BLD 04        FEDERAL   \n",
       "2       ALBANY/ALBANY II   BROOKLYN  ALBANY BLD 04        FEDERAL   \n",
       "3       ALBANY/ALBANY II   BROOKLYN  ALBANY BLD 04        FEDERAL   \n",
       "4              AMSTERDAM  MANHATTAN         BLD 02        FEDERAL   \n",
       "...                  ...        ...            ...            ...   \n",
       "179590   WYCKOFF GARDENS   BROOKLYN         BLD 03        FEDERAL   \n",
       "179591   WYCKOFF GARDENS   BROOKLYN         BLD 03        FEDERAL   \n",
       "179592   WYCKOFF GARDENS   BROOKLYN         BLD 03        FEDERAL   \n",
       "179593   WYCKOFF GARDENS   BROOKLYN         BLD 03        FEDERAL   \n",
       "179594   WYCKOFF GARDENS   BROOKLYN         BLD 03        FEDERAL   \n",
       "\n",
       "                              Vendor Name Revenue Month Service Start Date  \\\n",
       "0       CONSOLIDATED EDISON COMPANY OF NY    2010-01-01         2009-12-24   \n",
       "1           HESS CORPORATION (905243) - 2    2010-01-01         2009-12-25   \n",
       "2                       National Grid NYC    2010-01-01         2009-12-29   \n",
       "3                       National Grid NYC    2010-01-01         2009-12-29   \n",
       "4       CONSOLIDATED EDISON COMPANY OF NY    2010-01-01         2009-12-24   \n",
       "...                                   ...           ...                ...   \n",
       "179590     DIRECT ENERGY BUSINESS (32179)    2021-04-01         2021-03-27   \n",
       "179591     DIRECT ENERGY BUSINESS (32179)    2021-05-01         2021-04-28   \n",
       "179592     DIRECT ENERGY BUSINESS (32179)    2021-06-01         2021-05-26   \n",
       "179593     DIRECT ENERGY BUSINESS (32179)    2021-12-01         2021-07-28   \n",
       "179594     DIRECT ENERGY BUSINESS (32179)    2022-01-01         2022-01-07   \n",
       "\n",
       "       Service End Date  # days  Current Charges  Consumption (Therms)  \n",
       "0            2010-01-26      33         78292.97             136632.00  \n",
       "1            2010-01-26      32        133779.54             136632.00  \n",
       "2            2010-01-28      30         44335.21             153899.18  \n",
       "3            2010-01-28      30         22034.86              76488.82  \n",
       "4            2010-01-26      33         95456.57             169137.00  \n",
       "...                 ...     ...              ...                   ...  \n",
       "179590       2021-04-27      31         23805.14              56991.00  \n",
       "179591       2021-05-25      27         20283.93              48561.00  \n",
       "179592       2021-06-25      30          1509.99               3615.00  \n",
       "179593       2022-01-06     162        184610.42             435135.10  \n",
       "179594       2022-02-03      27         43790.60             101077.00  \n",
       "\n",
       "[179595 rows x 11 columns]"
      ]
     },
     "execution_count": 29,
     "metadata": {},
     "output_type": "execute_result"
    }
   ],
   "source": [
    "processed_gas_df = gas_df.copy().reset_index(drop=True)\n",
    "processed_gas_df"
   ]
  },
  {
   "cell_type": "markdown",
   "metadata": {},
   "source": [
    "#### Lưu vào folder\\file là `PROCESSED_heating-gas-consumption-and-cost.csv`"
   ]
  },
  {
   "cell_type": "code",
   "execution_count": 30,
   "metadata": {},
   "outputs": [],
   "source": [
    "save_name =  \"PROCESSED_heating-gas-consumption-and-cost.csv\"\n",
    "processed_gas_df.to_csv(\"data/\" + save_name, index=False)"
   ]
  }
 ],
 "metadata": {
  "kernelspec": {
   "display_name": "Python 3 (ipykernel)",
   "language": "python",
   "name": "python3"
  },
  "language_info": {
   "codemirror_mode": {
    "name": "ipython",
    "version": 3
   },
   "file_extension": ".py",
   "mimetype": "text/x-python",
   "name": "python",
   "nbconvert_exporter": "python",
   "pygments_lexer": "ipython3",
   "version": "3.11.5"
  }
 },
 "nbformat": 4,
 "nbformat_minor": 2
}
