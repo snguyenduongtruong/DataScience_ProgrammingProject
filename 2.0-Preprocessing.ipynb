{
 "cells": [
  {
   "cell_type": "markdown",
   "metadata": {},
   "source": [
    "## 1. Import"
   ]
  },
  {
   "cell_type": "code",
   "execution_count": 76,
   "metadata": {},
   "outputs": [],
   "source": [
    "import numpy as np \n",
    "import pandas as pd\n",
    "import matplotlib as plt\n",
    "import datetime as dt\n",
    "import collections"
   ]
  },
  {
   "cell_type": "markdown",
   "metadata": {},
   "source": [
    "## 2. Tiền xử lý dữ liệu"
   ]
  },
  {
   "cell_type": "markdown",
   "metadata": {},
   "source": [
    "### Đọc dữ liệu thô từ file trong folder ./data/"
   ]
  },
  {
   "cell_type": "code",
   "execution_count": 77,
   "metadata": {},
   "outputs": [
    {
     "data": {
      "text/html": [
       "<div>\n",
       "<style scoped>\n",
       "    .dataframe tbody tr th:only-of-type {\n",
       "        vertical-align: middle;\n",
       "    }\n",
       "\n",
       "    .dataframe tbody tr th {\n",
       "        vertical-align: top;\n",
       "    }\n",
       "\n",
       "    .dataframe thead th {\n",
       "        text-align: right;\n",
       "    }\n",
       "</style>\n",
       "<table border=\"1\" class=\"dataframe\">\n",
       "  <thead>\n",
       "    <tr style=\"text-align: right;\">\n",
       "      <th></th>\n",
       "      <th>Development Name</th>\n",
       "      <th>Borough</th>\n",
       "      <th>Account Name</th>\n",
       "      <th>Location</th>\n",
       "      <th>Meter AMR</th>\n",
       "      <th>Meter Scope</th>\n",
       "      <th>TDS #</th>\n",
       "      <th>EDP</th>\n",
       "      <th>RC Code</th>\n",
       "      <th>Funding Source</th>\n",
       "      <th>...</th>\n",
       "      <th>Service End Date</th>\n",
       "      <th># days</th>\n",
       "      <th>Meter Number</th>\n",
       "      <th>Estimated</th>\n",
       "      <th>Current Charges</th>\n",
       "      <th>Rate Class</th>\n",
       "      <th>Bill Analyzed</th>\n",
       "      <th>Consumption (Therms)</th>\n",
       "      <th>ES Commodity</th>\n",
       "      <th>Underlying Utility</th>\n",
       "    </tr>\n",
       "  </thead>\n",
       "  <tbody>\n",
       "    <tr>\n",
       "      <th>0</th>\n",
       "      <td>BETANCES I</td>\n",
       "      <td>BRONX</td>\n",
       "      <td>BETANCES I</td>\n",
       "      <td>NaN</td>\n",
       "      <td>NONE</td>\n",
       "      <td>NaN</td>\n",
       "      <td>211.0</td>\n",
       "      <td>326</td>\n",
       "      <td>B021100</td>\n",
       "      <td>FEDERAL</td>\n",
       "      <td>...</td>\n",
       "      <td>01/31/2010</td>\n",
       "      <td>53.0</td>\n",
       "      <td>2545269</td>\n",
       "      <td>N</td>\n",
       "      <td>0.00</td>\n",
       "      <td>NaN</td>\n",
       "      <td>Yes</td>\n",
       "      <td>0.00</td>\n",
       "      <td>UTILITY GAS</td>\n",
       "      <td>ConEd</td>\n",
       "    </tr>\n",
       "    <tr>\n",
       "      <th>1</th>\n",
       "      <td>ADAMS</td>\n",
       "      <td>BRONX</td>\n",
       "      <td>ADAMS</td>\n",
       "      <td>BLD 04</td>\n",
       "      <td>NONE</td>\n",
       "      <td>BLD 1-7</td>\n",
       "      <td>118.0</td>\n",
       "      <td>248</td>\n",
       "      <td>B011800</td>\n",
       "      <td>FEDERAL</td>\n",
       "      <td>...</td>\n",
       "      <td>01/26/2010</td>\n",
       "      <td>33.0</td>\n",
       "      <td>3299599</td>\n",
       "      <td>N</td>\n",
       "      <td>78292.97</td>\n",
       "      <td>Trans Res MultiDwell Heat Dual</td>\n",
       "      <td>Yes</td>\n",
       "      <td>136632.00</td>\n",
       "      <td>UTILITY GAS</td>\n",
       "      <td>ConEd</td>\n",
       "    </tr>\n",
       "    <tr>\n",
       "      <th>2</th>\n",
       "      <td>ADAMS</td>\n",
       "      <td>BRONX</td>\n",
       "      <td>ADAMS</td>\n",
       "      <td>BLD 04</td>\n",
       "      <td>Not Applicable</td>\n",
       "      <td>NaN</td>\n",
       "      <td>118.0</td>\n",
       "      <td>248</td>\n",
       "      <td>B011800</td>\n",
       "      <td>FEDERAL</td>\n",
       "      <td>...</td>\n",
       "      <td>01/26/2010</td>\n",
       "      <td>32.0</td>\n",
       "      <td>3.95416E+14</td>\n",
       "      <td>N</td>\n",
       "      <td>133779.54</td>\n",
       "      <td>NaN</td>\n",
       "      <td>Yes</td>\n",
       "      <td>136632.00</td>\n",
       "      <td>BROKERED GAS</td>\n",
       "      <td>ConEd</td>\n",
       "    </tr>\n",
       "    <tr>\n",
       "      <th>3</th>\n",
       "      <td>ALBANY/ALBANY II</td>\n",
       "      <td>BROOKLYN</td>\n",
       "      <td>ALBANY/ALBANY II</td>\n",
       "      <td>ALBANY BLD 04</td>\n",
       "      <td>AMR</td>\n",
       "      <td>BLD 1-6</td>\n",
       "      <td>31.0</td>\n",
       "      <td>524</td>\n",
       "      <td>K003100</td>\n",
       "      <td>FEDERAL</td>\n",
       "      <td>...</td>\n",
       "      <td>01/28/2010</td>\n",
       "      <td>30.0</td>\n",
       "      <td>08372362-66.8%</td>\n",
       "      <td>N</td>\n",
       "      <td>44335.21</td>\n",
       "      <td>T3 Tran Mult Fam</td>\n",
       "      <td>Yes</td>\n",
       "      <td>153899.18</td>\n",
       "      <td>UTILITY GAS</td>\n",
       "      <td>NatGrid NYC</td>\n",
       "    </tr>\n",
       "    <tr>\n",
       "      <th>4</th>\n",
       "      <td>ALBANY/ALBANY II</td>\n",
       "      <td>BROOKLYN</td>\n",
       "      <td>ALBANY/ALBANY II</td>\n",
       "      <td>ALBANY BLD 04</td>\n",
       "      <td>AMR</td>\n",
       "      <td>BLD 7-9</td>\n",
       "      <td>85.0</td>\n",
       "      <td>524</td>\n",
       "      <td>K008500</td>\n",
       "      <td>FEDERAL</td>\n",
       "      <td>...</td>\n",
       "      <td>01/28/2010</td>\n",
       "      <td>30.0</td>\n",
       "      <td>08372362-33.2%</td>\n",
       "      <td>N</td>\n",
       "      <td>22034.86</td>\n",
       "      <td>T3 Tran Mult Fam</td>\n",
       "      <td>Yes</td>\n",
       "      <td>76488.82</td>\n",
       "      <td>UTILITY GAS</td>\n",
       "      <td>NatGrid NYC</td>\n",
       "    </tr>\n",
       "    <tr>\n",
       "      <th>...</th>\n",
       "      <td>...</td>\n",
       "      <td>...</td>\n",
       "      <td>...</td>\n",
       "      <td>...</td>\n",
       "      <td>...</td>\n",
       "      <td>...</td>\n",
       "      <td>...</td>\n",
       "      <td>...</td>\n",
       "      <td>...</td>\n",
       "      <td>...</td>\n",
       "      <td>...</td>\n",
       "      <td>...</td>\n",
       "      <td>...</td>\n",
       "      <td>...</td>\n",
       "      <td>...</td>\n",
       "      <td>...</td>\n",
       "      <td>...</td>\n",
       "      <td>...</td>\n",
       "      <td>...</td>\n",
       "      <td>...</td>\n",
       "      <td>...</td>\n",
       "    </tr>\n",
       "    <tr>\n",
       "      <th>214630</th>\n",
       "      <td>WYCKOFF GARDENS</td>\n",
       "      <td>BROOKLYN</td>\n",
       "      <td>WYCKOFF GARDENS</td>\n",
       "      <td>BLD 03</td>\n",
       "      <td>Not Applicable</td>\n",
       "      <td>NaN</td>\n",
       "      <td>163.0</td>\n",
       "      <td>272</td>\n",
       "      <td>K016300</td>\n",
       "      <td>FEDERAL</td>\n",
       "      <td>...</td>\n",
       "      <td>05/25/2021</td>\n",
       "      <td>27.0</td>\n",
       "      <td>178911501</td>\n",
       "      <td>N</td>\n",
       "      <td>20283.93</td>\n",
       "      <td>NaN</td>\n",
       "      <td>Yes</td>\n",
       "      <td>48561.00</td>\n",
       "      <td>BROKERED GAS</td>\n",
       "      <td>NatGrid NYC</td>\n",
       "    </tr>\n",
       "    <tr>\n",
       "      <th>214631</th>\n",
       "      <td>WYCKOFF GARDENS</td>\n",
       "      <td>BROOKLYN</td>\n",
       "      <td>WYCKOFF GARDENS</td>\n",
       "      <td>BLD 03</td>\n",
       "      <td>Not Applicable</td>\n",
       "      <td>NaN</td>\n",
       "      <td>163.0</td>\n",
       "      <td>272</td>\n",
       "      <td>K016300</td>\n",
       "      <td>FEDERAL</td>\n",
       "      <td>...</td>\n",
       "      <td>06/25/2021</td>\n",
       "      <td>30.0</td>\n",
       "      <td>178911501</td>\n",
       "      <td>N</td>\n",
       "      <td>1509.99</td>\n",
       "      <td>NaN</td>\n",
       "      <td>Yes</td>\n",
       "      <td>3615.00</td>\n",
       "      <td>BROKERED GAS</td>\n",
       "      <td>NatGrid NYC</td>\n",
       "    </tr>\n",
       "    <tr>\n",
       "      <th>214632</th>\n",
       "      <td>WYCKOFF GARDENS</td>\n",
       "      <td>BROOKLYN</td>\n",
       "      <td>WYCKOFF GARDENS</td>\n",
       "      <td>BLD 03</td>\n",
       "      <td>Not Applicable</td>\n",
       "      <td>NaN</td>\n",
       "      <td>163.0</td>\n",
       "      <td>272</td>\n",
       "      <td>K016300</td>\n",
       "      <td>FEDERAL</td>\n",
       "      <td>...</td>\n",
       "      <td>07/27/2021</td>\n",
       "      <td>31.0</td>\n",
       "      <td>178911501</td>\n",
       "      <td>NaN</td>\n",
       "      <td>0.00</td>\n",
       "      <td>NaN</td>\n",
       "      <td>Yes</td>\n",
       "      <td>0.00</td>\n",
       "      <td>BROKERED GAS</td>\n",
       "      <td>NatGrid NYC</td>\n",
       "    </tr>\n",
       "    <tr>\n",
       "      <th>214633</th>\n",
       "      <td>WYCKOFF GARDENS</td>\n",
       "      <td>BROOKLYN</td>\n",
       "      <td>WYCKOFF GARDENS</td>\n",
       "      <td>BLD 03</td>\n",
       "      <td>Not Applicable</td>\n",
       "      <td>NaN</td>\n",
       "      <td>163.0</td>\n",
       "      <td>272</td>\n",
       "      <td>K016300</td>\n",
       "      <td>FEDERAL</td>\n",
       "      <td>...</td>\n",
       "      <td>01/06/2022</td>\n",
       "      <td>162.0</td>\n",
       "      <td>178911501</td>\n",
       "      <td>N</td>\n",
       "      <td>184610.42</td>\n",
       "      <td>NaN</td>\n",
       "      <td>Yes</td>\n",
       "      <td>435135.10</td>\n",
       "      <td>BROKERED GAS</td>\n",
       "      <td>NatGrid NYC</td>\n",
       "    </tr>\n",
       "    <tr>\n",
       "      <th>214634</th>\n",
       "      <td>WYCKOFF GARDENS</td>\n",
       "      <td>BROOKLYN</td>\n",
       "      <td>WYCKOFF GARDENS</td>\n",
       "      <td>BLD 03</td>\n",
       "      <td>Not Applicable</td>\n",
       "      <td>NaN</td>\n",
       "      <td>163.0</td>\n",
       "      <td>272</td>\n",
       "      <td>K016300</td>\n",
       "      <td>FEDERAL</td>\n",
       "      <td>...</td>\n",
       "      <td>02/03/2022</td>\n",
       "      <td>27.0</td>\n",
       "      <td>178911501</td>\n",
       "      <td>N</td>\n",
       "      <td>43790.60</td>\n",
       "      <td>NaN</td>\n",
       "      <td>Yes</td>\n",
       "      <td>101077.00</td>\n",
       "      <td>BROKERED GAS</td>\n",
       "      <td>NatGrid NYC</td>\n",
       "    </tr>\n",
       "  </tbody>\n",
       "</table>\n",
       "<p>214635 rows × 25 columns</p>\n",
       "</div>"
      ],
      "text/plain": [
       "        Development Name   Borough      Account Name       Location  \\\n",
       "0             BETANCES I     BRONX        BETANCES I            NaN   \n",
       "1                  ADAMS     BRONX             ADAMS         BLD 04   \n",
       "2                  ADAMS     BRONX             ADAMS         BLD 04   \n",
       "3       ALBANY/ALBANY II  BROOKLYN  ALBANY/ALBANY II  ALBANY BLD 04   \n",
       "4       ALBANY/ALBANY II  BROOKLYN  ALBANY/ALBANY II  ALBANY BLD 04   \n",
       "...                  ...       ...               ...            ...   \n",
       "214630   WYCKOFF GARDENS  BROOKLYN   WYCKOFF GARDENS         BLD 03   \n",
       "214631   WYCKOFF GARDENS  BROOKLYN   WYCKOFF GARDENS         BLD 03   \n",
       "214632   WYCKOFF GARDENS  BROOKLYN   WYCKOFF GARDENS         BLD 03   \n",
       "214633   WYCKOFF GARDENS  BROOKLYN   WYCKOFF GARDENS         BLD 03   \n",
       "214634   WYCKOFF GARDENS  BROOKLYN   WYCKOFF GARDENS         BLD 03   \n",
       "\n",
       "             Meter AMR Meter Scope  TDS #  EDP  RC Code Funding Source  ...  \\\n",
       "0                 NONE         NaN  211.0  326  B021100        FEDERAL  ...   \n",
       "1                 NONE     BLD 1-7  118.0  248  B011800        FEDERAL  ...   \n",
       "2       Not Applicable         NaN  118.0  248  B011800        FEDERAL  ...   \n",
       "3                  AMR     BLD 1-6   31.0  524  K003100        FEDERAL  ...   \n",
       "4                  AMR     BLD 7-9   85.0  524  K008500        FEDERAL  ...   \n",
       "...                ...         ...    ...  ...      ...            ...  ...   \n",
       "214630  Not Applicable         NaN  163.0  272  K016300        FEDERAL  ...   \n",
       "214631  Not Applicable         NaN  163.0  272  K016300        FEDERAL  ...   \n",
       "214632  Not Applicable         NaN  163.0  272  K016300        FEDERAL  ...   \n",
       "214633  Not Applicable         NaN  163.0  272  K016300        FEDERAL  ...   \n",
       "214634  Not Applicable         NaN  163.0  272  K016300        FEDERAL  ...   \n",
       "\n",
       "       Service End Date # days    Meter Number Estimated Current Charges  \\\n",
       "0            01/31/2010   53.0         2545269         N            0.00   \n",
       "1            01/26/2010   33.0         3299599         N        78292.97   \n",
       "2            01/26/2010   32.0     3.95416E+14         N       133779.54   \n",
       "3            01/28/2010   30.0  08372362-66.8%         N        44335.21   \n",
       "4            01/28/2010   30.0  08372362-33.2%         N        22034.86   \n",
       "...                 ...    ...             ...       ...             ...   \n",
       "214630       05/25/2021   27.0       178911501         N        20283.93   \n",
       "214631       06/25/2021   30.0       178911501         N         1509.99   \n",
       "214632       07/27/2021   31.0       178911501       NaN            0.00   \n",
       "214633       01/06/2022  162.0       178911501         N       184610.42   \n",
       "214634       02/03/2022   27.0       178911501         N        43790.60   \n",
       "\n",
       "                            Rate Class  Bill Analyzed Consumption (Therms)  \\\n",
       "0                                  NaN            Yes                 0.00   \n",
       "1       Trans Res MultiDwell Heat Dual            Yes            136632.00   \n",
       "2                                  NaN            Yes            136632.00   \n",
       "3                     T3 Tran Mult Fam            Yes            153899.18   \n",
       "4                     T3 Tran Mult Fam            Yes             76488.82   \n",
       "...                                ...            ...                  ...   \n",
       "214630                             NaN            Yes             48561.00   \n",
       "214631                             NaN            Yes              3615.00   \n",
       "214632                             NaN            Yes                 0.00   \n",
       "214633                             NaN            Yes            435135.10   \n",
       "214634                             NaN            Yes            101077.00   \n",
       "\n",
       "        ES Commodity  Underlying Utility  \n",
       "0        UTILITY GAS               ConEd  \n",
       "1        UTILITY GAS               ConEd  \n",
       "2       BROKERED GAS               ConEd  \n",
       "3        UTILITY GAS         NatGrid NYC  \n",
       "4        UTILITY GAS         NatGrid NYC  \n",
       "...              ...                 ...  \n",
       "214630  BROKERED GAS         NatGrid NYC  \n",
       "214631  BROKERED GAS         NatGrid NYC  \n",
       "214632  BROKERED GAS         NatGrid NYC  \n",
       "214633  BROKERED GAS         NatGrid NYC  \n",
       "214634  BROKERED GAS         NatGrid NYC  \n",
       "\n",
       "[214635 rows x 25 columns]"
      ]
     },
     "execution_count": 77,
     "metadata": {},
     "output_type": "execute_result"
    }
   ],
   "source": [
    "gas_df = pd.read_csv(\"Data/heating-gas-consumption-and-cost-2010-feb-2022-1.csv\")\n",
    "gas_df"
   ]
  },
  {
   "cell_type": "markdown",
   "metadata": {},
   "source": [
    "### Dữ liệu thô có bao nhiêu hàng và bao nhiêu cột?"
   ]
  },
  {
   "cell_type": "code",
   "execution_count": 78,
   "metadata": {},
   "outputs": [
    {
     "name": "stdout",
     "output_type": "stream",
     "text": [
      "Số dòng: 214635\n",
      "Số cột: 25\n",
      "Your data good!.\n"
     ]
    }
   ],
   "source": [
    "shape = gas_df.shape\n",
    "print(\"Số dòng:\", gas_df.shape[0])\n",
    "print(\"Số cột:\", gas_df.shape[1])\n",
    "if shape[0] > 1000:\n",
    "    print(f\"Your data good!.\")\n",
    "else:\n",
    "    print(f\"Your raw data absolutely small. Please choose larger year interval.!\")"
   ]
  },
  {
   "cell_type": "markdown",
   "metadata": {},
   "source": [
    "### Mỗi hàng có ý nghĩa gì? Có vấn đề gì nếu các hàng có ý nghĩa khác nhau?"
   ]
  },
  {
   "cell_type": "markdown",
   "metadata": {},
   "source": [
    "- Mỗi hàng đại diện cho một bản ghi dữ liệu riêng biệt. Các bản ghi này chứa thông tin về một đối tượng hoặc thực thể cụ thể, được xác định bởi các giá trị trong các cột tương ứng: 'Development Name', 'Borough', ...\n",
    "\n",
    "- Có các hàng có ý nghĩa khác nhau trong một dataframe phụ thuộc vào mục đích sử dụng của nó. Ví dụ, trong một khung dữ liệu chứa thông tin về quốc gia, có thể có các hàng đại diện cho các nhà cung cấp, nhà sản xuất khí gas, mức độ tiêu thụ khí gas và tổng tiền phải thanh toán, ... Trong trường hợp này, các hàng sẽ có ý nghĩa khác nhau, vì các thông tin được lưu trữ cho các nhà cung cấp, nhà sản xuất khí gas, mức độ tiêu thụ khí gas và tổng tiền phải thanh toán,... sẽ khác nhau."
   ]
  },
  {
   "cell_type": "markdown",
   "metadata": {},
   "source": [
    "### Dữ liệu thô có hàng trùng lặp không?"
   ]
  },
  {
   "cell_type": "markdown",
   "metadata": {},
   "source": [
    "Tính số hàng có trùng lặp toàn bộ thông tin và lưu nó vào biến `num_duplicate_rows`"
   ]
  },
  {
   "cell_type": "code",
   "execution_count": 79,
   "metadata": {},
   "outputs": [
    {
     "name": "stdout",
     "output_type": "stream",
     "text": [
      "Your raw data have 19674 duplicated lines. Please de-deduplicate your raw data.!\n"
     ]
    }
   ],
   "source": [
    "num_duplicated_rows = gas_df.duplicated().sum()\n",
    "if num_duplicated_rows == 0:\n",
    "    print(f\"Your raw data have no duplicated line.!\")\n",
    "else:\n",
    "    if num_duplicated_rows > 1:\n",
    "        ext = \"lines\"\n",
    "    else:\n",
    "        ext = \"line\"\n",
    "    print(f\"Your raw data have {num_duplicated_rows} duplicated \" + ext + \". Please de-deduplicate your raw data.!\")"
   ]
  },
  {
   "cell_type": "code",
   "execution_count": 80,
   "metadata": {},
   "outputs": [
    {
     "name": "stdout",
     "output_type": "stream",
     "text": [
      "Your raw data have no duplicated line.!\n"
     ]
    }
   ],
   "source": [
    "# De-deduplicate raw data\n",
    "# (Optional)\n",
    "gas_df = gas_df.drop_duplicates()\n",
    "# RETEST\n",
    "num_duplicated_rows = gas_df.duplicated().sum()\n",
    "if num_duplicated_rows == 0:\n",
    "    print(f\"Your raw data have no duplicated line.!\")"
   ]
  },
  {
   "cell_type": "markdown",
   "metadata": {},
   "source": [
    "### Mỗi cột có ý nghĩa gì?"
   ]
  },
  {
   "cell_type": "code",
   "execution_count": 81,
   "metadata": {},
   "outputs": [
    {
     "name": "stdout",
     "output_type": "stream",
     "text": [
      "Index(['Development Name', 'Borough', 'Account Name', 'Location', 'Meter AMR',\n",
      "       'Meter Scope', 'TDS #', 'EDP', 'RC Code', 'Funding Source', 'AMP #',\n",
      "       'Vendor Name', 'UMIS BILL ID', 'Revenue Month', 'Service Start Date',\n",
      "       'Service End Date', '# days', 'Meter Number', 'Estimated',\n",
      "       'Current Charges', 'Rate Class', 'Bill Analyzed',\n",
      "       'Consumption (Therms)', 'ES Commodity', 'Underlying Utility'],\n",
      "      dtype='object')\n"
     ]
    }
   ],
   "source": [
    "print(gas_df.columns)"
   ]
  },
  {
   "cell_type": "markdown",
   "metadata": {},
   "source": [
    "**Ý nghĩa các cột dữ liệu:**\n",
    "- `Development Name`: nhà phát triển gas tiêu dùng\n",
    "- `Borough`: đơn vị hành chính của một thành phố lớn (quận, thị xã, thành phố trực thuộc)\n",
    "- `Account Name`: nhà phát triển gas tiêu dùng\n",
    "- `Location`: vị trí địa lý của người dùng\n",
    "- `Meter AMR`: người dùng có lắp đặt công nghệ cho phép tự động đọc chỉ số đồng hồ đo khí gas từ xa hay không\n",
    "- `Meter Scope`: công cụ được sử dụng để kiểm tra, hiệu chuẩn và sửa chữa đồng hồ đo khí gas\n",
    "- `TDS #`: tổng lượng chất rắn hòa tan trong khí gas\n",
    "- `EDP`: hệ thống phát hiện và ngăn chặn sự cố khí gas\n",
    "- `RC Code`: mã quy định về an toàn sử dụng khí gas.\n",
    "- `Funding Source`: nguồn tài trợ cho các dự án khí gas tiêu dùng\n",
    "- `AMP #`: mã người tiêu dùng có dùng công nghệ cho phép tự động đọc chỉ số đồng hồ đo khí gas từ xa\n",
    "- `Vendor Name`:  đơn vị cung cấp gas cho các hộ gia đình và doanh nghiệp.\n",
    "- `UMIS BILL ID`: mã hóa đơn thanh toán \n",
    "- `Revenue Month`: tháng thanh toán\n",
    "- `Service Start Date`: ngày bắt đầu dùng khí gas tương ứng với 1 hóa đơn\n",
    "- `Service End Date`: ngày kết thúc dùng khí gas tương ứng với 1 hóa đơn\n",
    "- `# days`: số ngày tiêu dùng gas của mỗi hóa đơn\n",
    "- `Meter Number`: tổng số tiêu dùng gas của mỗi hóa đơn\n",
    "- `Estimated`: ước lượng hay không?\n",
    "- `Current Charges`: chi phí gas hiện tại mà khách hàng phải thanh toán\n",
    "- `Rate Class`: phân loại khách hàng dựa trên nhu cầu sử dụng gas\n",
    "- `Bill Analyzed`: được xác nhận đã thanh toán hóa đơn\n",
    "- `Consumption (Therms)`: lượng gas tiêu thụ được tính bằng đơn vị therm\n",
    "- `ES Commodity`: nôm na là NYCHA mua khí đốt môi giới từ thị trường Năng lượng và vẫn được công ty điện lực lập hóa đơn. Mỗi tháng, một tài khoản sẽ có hóa đơn gas môi giới (BROKERED GAS) và hóa đơn gas tiện ích (UTILITY GAS). Mức tiêu thụ được liệt kê trên cả hai hóa đơn, chỉ sử dụng giá trị tiêu thụ tiện ích khi phân tích dữ liệu.\n",
    "- `Underlying Utility`: cơ sở để xác định giá"
   ]
  },
  {
   "cell_type": "markdown",
   "metadata": {},
   "source": [
    "### Mỗi cột hiện có kiểu dữ liệu gì? Có cột nào có kiểu dữ liệu không phù hợp để xử lý tiếp không?"
   ]
  },
  {
   "cell_type": "code",
   "execution_count": 82,
   "metadata": {},
   "outputs": [
    {
     "name": "stdout",
     "output_type": "stream",
     "text": [
      "<class 'pandas.core.frame.DataFrame'>\n",
      "Int64Index: 194961 entries, 0 to 214634\n",
      "Data columns (total 25 columns):\n",
      " #   Column                Non-Null Count   Dtype  \n",
      "---  ------                --------------   -----  \n",
      " 0   Development Name      193553 non-null  object \n",
      " 1   Borough               194961 non-null  object \n",
      " 2   Account Name          194961 non-null  object \n",
      " 3   Location              191585 non-null  object \n",
      " 4   Meter AMR             194503 non-null  object \n",
      " 5   Meter Scope           37643 non-null   object \n",
      " 6   TDS #                 191953 non-null  float64\n",
      " 7   EDP                   194961 non-null  int64  \n",
      " 8   RC Code               194961 non-null  object \n",
      " 9   Funding Source        194961 non-null  object \n",
      " 10  AMP #                 192740 non-null  object \n",
      " 11  Vendor Name           194961 non-null  object \n",
      " 12  UMIS BILL ID          194961 non-null  int64  \n",
      " 13  Revenue Month         194961 non-null  object \n",
      " 14  Service Start Date    194953 non-null  object \n",
      " 15  Service End Date      194953 non-null  object \n",
      " 16  # days                194953 non-null  float64\n",
      " 17  Meter Number          194961 non-null  object \n",
      " 18  Estimated             190123 non-null  object \n",
      " 19  Current Charges       194961 non-null  float64\n",
      " 20  Rate Class            98607 non-null   object \n",
      " 21  Bill Analyzed         194961 non-null  object \n",
      " 22  Consumption (Therms)  194961 non-null  float64\n",
      " 23  ES Commodity          194961 non-null  object \n",
      " 24  Underlying Utility    194779 non-null  object \n",
      "dtypes: float64(4), int64(2), object(19)\n",
      "memory usage: 38.7+ MB\n",
      "None\n"
     ]
    }
   ],
   "source": [
    "print(gas_df.info())"
   ]
  },
  {
   "cell_type": "markdown",
   "metadata": {},
   "source": [
    "- Dựa trên ý nghĩa của các cột dữ liệu, mình thấy 2 cột `Account Name` và `Development Name` có ý nghĩa tương tự nhau (nhà phát triển, sản xuất gas tiêu dùng), và khi quan sát, mình thấy giá trị 2 cột này có các giá trị là như nhau. Do đó, để tinh gọn dataframe, mình nên xóa đi cột `Account Name`."
   ]
  },
  {
   "cell_type": "code",
   "execution_count": 83,
   "metadata": {},
   "outputs": [],
   "source": [
    "if 'Account Name' in gas_df.columns:\n",
    "    del gas_df['Account Name']"
   ]
  },
  {
   "cell_type": "markdown",
   "metadata": {},
   "source": [
    "- Bởi vì mục đích chính của chúng mình là phân tích lương tiêu thụ và chi phí của mỗi hộ khi tiêu dùng khí gas, mình quyết định xóa đi 3 cột về đồng hồ đo khí gas: `Meter AMR`, `Meter Scope`, `AMP #`, trên tinh thần là tinh gọn dữ liệu đến mức tối ưu nhất."
   ]
  },
  {
   "cell_type": "code",
   "execution_count": 84,
   "metadata": {},
   "outputs": [],
   "source": [
    "del gas_df[\"Meter AMR\"]\n",
    "del gas_df['Meter Scope']\n",
    "del gas_df['AMP #']"
   ]
  },
  {
   "cell_type": "markdown",
   "metadata": {},
   "source": [
    "- Các chỉ số liên quan đến an toàn khí gas như: `EDP`, `TDS #`, `RC Code`  cũng không liên quan đến vấn đề mình nên khám phá, do đó nên loại bỏ chúng."
   ]
  },
  {
   "cell_type": "code",
   "execution_count": 85,
   "metadata": {},
   "outputs": [],
   "source": [
    "del gas_df['EDP']\n",
    "del gas_df['TDS #']\n",
    "del gas_df['RC Code']"
   ]
  },
  {
   "cell_type": "markdown",
   "metadata": {},
   "source": [
    "- Đối với các chỉ số ước tính trên đồng hồ đo gas, bởi vì mình đã có 2 cột dữ liệu tin cậy về chi phí và mức tiêu thụ là `Current Charges` và `Consumption (Therms)`, có thể gặp khó khăn khi phân tích 2 cột có độ tương tự về mặt ý nghĩa nhưng lại mâu thuẫn về mặt giá trị. Nên loại bỏ 2 cột là `Meter Number`, `Estimated`."
   ]
  },
  {
   "cell_type": "code",
   "execution_count": 86,
   "metadata": {},
   "outputs": [],
   "source": [
    "del gas_df['Meter Number']\n",
    "del gas_df['Estimated']"
   ]
  },
  {
   "cell_type": "markdown",
   "metadata": {},
   "source": [
    "- `Underlying Utility` liên quan đến cơ sở pháp lý. Cột dữ liệu này nằm ngoài mục tiêu ta cần phân tích. tốt nhất là tinh gọn dữ liệu hơn bằng cách xóa bỏ chúng."
   ]
  },
  {
   "cell_type": "code",
   "execution_count": 87,
   "metadata": {},
   "outputs": [],
   "source": [
    "del gas_df['Underlying Utility']"
   ]
  },
  {
   "cell_type": "markdown",
   "metadata": {},
   "source": [
    "- Các thông số trên hóa đơn như `Bill Analyzed`, `Rate Class`, `UMIS BILL ID` không có giá trị đáng kể cho bài toán phân tích dữ liệu được đề cập, tốt nhất là xóa chúng."
   ]
  },
  {
   "cell_type": "code",
   "execution_count": 88,
   "metadata": {},
   "outputs": [],
   "source": [
    "del gas_df['Bill Analyzed']"
   ]
  },
  {
   "cell_type": "code",
   "execution_count": 89,
   "metadata": {},
   "outputs": [],
   "source": [
    "del gas_df['Rate Class']"
   ]
  },
  {
   "cell_type": "code",
   "execution_count": 90,
   "metadata": {},
   "outputs": [],
   "source": [
    "del gas_df['UMIS BILL ID']"
   ]
  },
  {
   "cell_type": "markdown",
   "metadata": {},
   "source": [
    "- Xa hơn nữa, bởi vì chỉ sử dụng giá trị tiêu thụ tiện ích khi phân tích dữ liệu, nên ta chỉ chọn ra các dòng có `ES Commodity` ==  'UTILITY GAS'"
   ]
  },
  {
   "cell_type": "code",
   "execution_count": 91,
   "metadata": {},
   "outputs": [],
   "source": [
    "gas_df = gas_df[gas_df['ES Commodity'] == 'UTILITY GAS']"
   ]
  },
  {
   "cell_type": "markdown",
   "metadata": {},
   "source": [
    "- Và sau đó, vì cột `ES Commodity` chỉ còn 1 giá trị duy nhất là 'UTILITY GAS', trên tinh thần tinh gọn tối đa dữ liệu, xóa bỏ cột này"
   ]
  },
  {
   "cell_type": "code",
   "execution_count": 92,
   "metadata": {},
   "outputs": [],
   "source": [
    "del gas_df['ES Commodity']"
   ]
  },
  {
   "cell_type": "markdown",
   "metadata": {},
   "source": [
    "### Dữ liệu thu thập được có hợp lý không?"
   ]
  },
  {
   "cell_type": "markdown",
   "metadata": {},
   "source": [
    "Chúng ta có một thắc mắc liệu rằng số liệu thu thập được có hợp lý hay không? Các cột dữ liệu dạng số như `# days`, `Current Charges`, `Consumption (Therms)` có chứa giá trị âm ở trong hay không?"
   ]
  },
  {
   "cell_type": "code",
   "execution_count": 93,
   "metadata": {},
   "outputs": [
    {
     "name": "stdout",
     "output_type": "stream",
     "text": [
      "-335.0\n",
      "-15873.15\n",
      "0.0\n"
     ]
    }
   ],
   "source": [
    "print(gas_df['# days'].min())\n",
    "print(gas_df['Current Charges'].min())\n",
    "print(gas_df['Consumption (Therms)'].min())"
   ]
  },
  {
   "cell_type": "markdown",
   "metadata": {},
   "source": [
    "- Như vậy, các cột dữ liệu dạng số có chứa số âm và số 0, về các ý nghĩa thực tế của `# days`, `Current Charges`, `Consumption (Therms)`, thì các giá trị âm này là vô lý.\n",
    "- Do đó, mình nên xóa các hàng có giá trị âm và số 0 (vì dữ liệu 0 này được xem như là missing value, không có giá trị để phân tích)"
   ]
  },
  {
   "cell_type": "code",
   "execution_count": 94,
   "metadata": {},
   "outputs": [],
   "source": [
    "gas_df = gas_df[gas_df['# days'] > 0]\n",
    "gas_df = gas_df[gas_df['Current Charges'] > 0]\n",
    "gas_df = gas_df[gas_df['Consumption (Therms)'] > 0]\n"
   ]
  },
  {
   "cell_type": "markdown",
   "metadata": {},
   "source": [
    "\n",
    "### Xử lý dữ liệu bị thiếu & Chuyển đổi kiểu dữ liệu"
   ]
  },
  {
   "cell_type": "markdown",
   "metadata": {},
   "source": [
    "##### Mình bắt đầu xử lý dữ liệu bị thiếu. Chạy hàm `isnull()` để bạn có thể tổng quan về dữ liệu của mình có giá trị thiếu hay không, và tính tỷ lệ dữ liệu missing của mỗi cột."
   ]
  },
  {
   "cell_type": "code",
   "execution_count": 95,
   "metadata": {},
   "outputs": [
    {
     "data": {
      "text/plain": [
       "Development Name        0.006388\n",
       "Borough                 0.000000\n",
       "Location                0.002086\n",
       "Funding Source          0.000000\n",
       "Vendor Name             0.000000\n",
       "Revenue Month           0.000000\n",
       "Service Start Date      0.000000\n",
       "Service End Date        0.000000\n",
       "# days                  0.000000\n",
       "Current Charges         0.000000\n",
       "Consumption (Therms)    0.000000\n",
       "dtype: float64"
      ]
     },
     "execution_count": 95,
     "metadata": {},
     "output_type": "execute_result"
    }
   ],
   "source": [
    "missing_ratio = gas_df.isna().sum() / gas_df.shape[0]\n",
    "missing_ratio"
   ]
  },
  {
   "cell_type": "markdown",
   "metadata": {},
   "source": [
    "- Suy ra rằng, một số cột categorical như `Development Name`, `Location` có tỷ lệ nhỏ dữ liệu bị thiếu\n",
    "- Các cột còn lại, bao gồm toàn bộ numeric columns **không** có giá trị bị thiếu"
   ]
  },
  {
   "cell_type": "code",
   "execution_count": 96,
   "metadata": {},
   "outputs": [
    {
     "name": "stdout",
     "output_type": "stream",
     "text": [
      "Development Name         True\n",
      "Borough                 False\n",
      "Location                 True\n",
      "Funding Source          False\n",
      "Vendor Name             False\n",
      "Revenue Month           False\n",
      "Service Start Date      False\n",
      "Service End Date        False\n",
      "# days                  False\n",
      "Current Charges         False\n",
      "Consumption (Therms)    False\n",
      "dtype: bool\n"
     ]
    }
   ],
   "source": [
    "df_isnull = gas_df.isnull()\n",
    "print(df_isnull.any())"
   ]
  },
  {
   "cell_type": "markdown",
   "metadata": {},
   "source": [
    "Dataframe có một tỷ lệ nhỏ missing vale ở 2 cột là `Development Name` và `Location`. Bởi vì tỷ lệ giá trị thiếu nhỏ, và các cột dữ liệu dạng chữ khó có thể fill một cách khách quan, sát thực tế, mình quyết định loại bỏ các hàng chứa giá trị missing value."
   ]
  },
  {
   "cell_type": "code",
   "execution_count": 97,
   "metadata": {},
   "outputs": [
    {
     "name": "stdout",
     "output_type": "stream",
     "text": [
      "Development Name        False\n",
      "Borough                 False\n",
      "Location                False\n",
      "Funding Source          False\n",
      "Vendor Name             False\n",
      "Revenue Month           False\n",
      "Service Start Date      False\n",
      "Service End Date        False\n",
      "# days                  False\n",
      "Current Charges         False\n",
      "Consumption (Therms)    False\n",
      "dtype: bool\n"
     ]
    }
   ],
   "source": [
    "gas_df = gas_df.dropna()\n",
    "df_isnull = gas_df.isnull()\n",
    "print(df_isnull.any())"
   ]
  },
  {
   "cell_type": "markdown",
   "metadata": {},
   "source": [
    "##### Tiếp theo, bắt đầu xử lý kiểu dữ liệu chưa phù hợp. Chạy hàm `info()` để bạn có thể tổng quan về dữ liệu của mình."
   ]
  },
  {
   "cell_type": "code",
   "execution_count": 98,
   "metadata": {},
   "outputs": [
    {
     "name": "stdout",
     "output_type": "stream",
     "text": [
      "<class 'pandas.core.frame.DataFrame'>\n",
      "Int64Index: 92199 entries, 1 to 214625\n",
      "Data columns (total 11 columns):\n",
      " #   Column                Non-Null Count  Dtype  \n",
      "---  ------                --------------  -----  \n",
      " 0   Development Name      92199 non-null  object \n",
      " 1   Borough               92199 non-null  object \n",
      " 2   Location              92199 non-null  object \n",
      " 3   Funding Source        92199 non-null  object \n",
      " 4   Vendor Name           92199 non-null  object \n",
      " 5   Revenue Month         92199 non-null  object \n",
      " 6   Service Start Date    92199 non-null  object \n",
      " 7   Service End Date      92199 non-null  object \n",
      " 8   # days                92199 non-null  float64\n",
      " 9   Current Charges       92199 non-null  float64\n",
      " 10  Consumption (Therms)  92199 non-null  float64\n",
      "dtypes: float64(3), object(8)\n",
      "memory usage: 8.4+ MB\n",
      "None\n"
     ]
    }
   ],
   "source": [
    "print(gas_df.info())"
   ]
  },
  {
   "cell_type": "markdown",
   "metadata": {},
   "source": [
    "Quan sát các cột `Revenue Month`, `Service Start Date`, `Service End Date` đang ở định dạng object. Tuy nhiên, chúng thực ra phải ở dạng ngày-tháng-năm. Do đó, mình phải chuyển chúng về kiểu datetime."
   ]
  },
  {
   "cell_type": "code",
   "execution_count": 99,
   "metadata": {},
   "outputs": [],
   "source": [
    "gas_df['Revenue Month'] = pd.to_datetime(gas_df['Revenue Month'], format=\"%Y-%m\")\n",
    "gas_df['Service Start Date'] = gas_df['Service Start Date'].astype(\"datetime64\")\n",
    "gas_df['Service End Date'] = gas_df['Service End Date'].astype(\"datetime64\")"
   ]
  },
  {
   "cell_type": "markdown",
   "metadata": {},
   "source": [
    "Cột dữ liệu `# days` nên ở dạng số nguyên thay vì số thực."
   ]
  },
  {
   "cell_type": "code",
   "execution_count": 100,
   "metadata": {},
   "outputs": [],
   "source": [
    "gas_df['# days'] = gas_df['# days'].astype(\"int64\")"
   ]
  },
  {
   "cell_type": "markdown",
   "metadata": {},
   "source": [
    "Kiểm tra xem cột `# days` có bằng với hiệu của `Service End Date` và `Service Start Date` không?"
   ]
  },
  {
   "cell_type": "code",
   "execution_count": 101,
   "metadata": {},
   "outputs": [
    {
     "data": {
      "text/plain": [
       "True"
      ]
     },
     "execution_count": 101,
     "metadata": {},
     "output_type": "execute_result"
    }
   ],
   "source": [
    "def check_days_column_equality(df):\n",
    "    mask = df['Service End Date'].notnull() & df['Service Start Date'].notnull()  \n",
    "    check = df.loc[mask, '# days'] == (df.loc[mask, 'Service End Date'] - df.loc[mask, 'Service Start Date']).dt.days\n",
    "    return check.all()\n",
    "         \n",
    "check_days_column_equality(gas_df)"
   ]
  },
  {
   "cell_type": "markdown",
   "metadata": {},
   "source": [
    "Kết quả cho đúng nghĩa là số ngày tiêu dùng gas bằng hiệu thời gian kết thúc hoá đơn và thời gian bắt đầu hoá đơn"
   ]
  },
  {
   "cell_type": "markdown",
   "metadata": {},
   "source": [
    "##### Sau khi chạy lệnh .info(), các kiểu dữ liệu của các cột đã hợp lý hơn."
   ]
  },
  {
   "cell_type": "code",
   "execution_count": 102,
   "metadata": {},
   "outputs": [
    {
     "name": "stdout",
     "output_type": "stream",
     "text": [
      "<class 'pandas.core.frame.DataFrame'>\n",
      "Int64Index: 92199 entries, 1 to 214625\n",
      "Data columns (total 11 columns):\n",
      " #   Column                Non-Null Count  Dtype         \n",
      "---  ------                --------------  -----         \n",
      " 0   Development Name      92199 non-null  object        \n",
      " 1   Borough               92199 non-null  object        \n",
      " 2   Location              92199 non-null  object        \n",
      " 3   Funding Source        92199 non-null  object        \n",
      " 4   Vendor Name           92199 non-null  object        \n",
      " 5   Revenue Month         92199 non-null  datetime64[ns]\n",
      " 6   Service Start Date    92199 non-null  datetime64[ns]\n",
      " 7   Service End Date      92199 non-null  datetime64[ns]\n",
      " 8   # days                92199 non-null  int64         \n",
      " 9   Current Charges       92199 non-null  float64       \n",
      " 10  Consumption (Therms)  92199 non-null  float64       \n",
      "dtypes: datetime64[ns](3), float64(2), int64(1), object(5)\n",
      "memory usage: 8.4+ MB\n",
      "None\n"
     ]
    }
   ],
   "source": [
    "print(gas_df.info())"
   ]
  },
  {
   "cell_type": "markdown",
   "metadata": {},
   "source": [
    "### Với mỗi cột có các kiểu dữ liệu numeric, các giá trị được phân bổ như thế nào?"
   ]
  },
  {
   "cell_type": "markdown",
   "metadata": {},
   "source": [
    "Đối với các cột có các kiểu dữ liệu numeric, tính:\n",
    "- Giá trị nhỏ nhất (min)\n",
    "- Tứ phân vị dưới (phân vị 25)\n",
    "- Trung vị (phân vị 50)\n",
    "- Tứ phân vị trên (phân vị 75)\n",
    "- Giá trị lớn nhất (max)\n",
    "\n",
    "Mình sẽ lưu kết quả vào DataFrame `numeric_col_gas_profile`, trong đó:\n",
    "- Tên các cột là tên các cột số trong `gas_df`\n",
    "- Tên các hàng:  “min”, “low_quartile”, “median”, “upper_quartile”, “max”"
   ]
  },
  {
   "cell_type": "code",
   "execution_count": 103,
   "metadata": {},
   "outputs": [
    {
     "data": {
      "text/html": [
       "<div>\n",
       "<style scoped>\n",
       "    .dataframe tbody tr th:only-of-type {\n",
       "        vertical-align: middle;\n",
       "    }\n",
       "\n",
       "    .dataframe tbody tr th {\n",
       "        vertical-align: top;\n",
       "    }\n",
       "\n",
       "    .dataframe thead th {\n",
       "        text-align: right;\n",
       "    }\n",
       "</style>\n",
       "<table border=\"1\" class=\"dataframe\">\n",
       "  <thead>\n",
       "    <tr style=\"text-align: right;\">\n",
       "      <th></th>\n",
       "      <th># days</th>\n",
       "      <th>Current Charges</th>\n",
       "      <th>Consumption (Therms)</th>\n",
       "    </tr>\n",
       "  </thead>\n",
       "  <tbody>\n",
       "    <tr>\n",
       "      <th>min</th>\n",
       "      <td>1.0</td>\n",
       "      <td>0.27</td>\n",
       "      <td>0.200</td>\n",
       "    </tr>\n",
       "    <tr>\n",
       "      <th>25%</th>\n",
       "      <td>29.0</td>\n",
       "      <td>439.08</td>\n",
       "      <td>795.000</td>\n",
       "    </tr>\n",
       "    <tr>\n",
       "      <th>50%</th>\n",
       "      <td>30.0</td>\n",
       "      <td>1341.85</td>\n",
       "      <td>2405.000</td>\n",
       "    </tr>\n",
       "    <tr>\n",
       "      <th>75%</th>\n",
       "      <td>32.0</td>\n",
       "      <td>6341.27</td>\n",
       "      <td>14441.125</td>\n",
       "    </tr>\n",
       "    <tr>\n",
       "      <th>max</th>\n",
       "      <td>624.0</td>\n",
       "      <td>928530.45</td>\n",
       "      <td>2351667.000</td>\n",
       "    </tr>\n",
       "  </tbody>\n",
       "</table>\n",
       "</div>"
      ],
      "text/plain": [
       "     # days  Current Charges  Consumption (Therms)\n",
       "min     1.0             0.27                 0.200\n",
       "25%    29.0           439.08               795.000\n",
       "50%    30.0          1341.85              2405.000\n",
       "75%    32.0          6341.27             14441.125\n",
       "max   624.0        928530.45           2351667.000"
      ]
     },
     "execution_count": 103,
     "metadata": {},
     "output_type": "execute_result"
    }
   ],
   "source": [
    "numeric_col_df =  gas_df.select_dtypes (include = ['int64', 'float64'])\n",
    "\n",
    "numeric_col_gas_profile = numeric_col_df.quantile([0, 0.25, 0.5, 0.75, 1])\n",
    "numeric_col_gas_profile.index = ['min', '25%', '50%', '75%', 'max']\n",
    "numeric_col_gas_profile"
   ]
  },
  {
   "cell_type": "markdown",
   "metadata": {},
   "source": [
    "### Với mỗi cột có các kiểu dữ liệu non-numeric, các giá trị được phân bổ như thế nào?"
   ]
  },
  {
   "cell_type": "markdown",
   "metadata": {},
   "source": [
    "Ở cột `Funding Source`, có xuất hiện 2 đối tượng khác tên nhau (do lỗi viết thường/ in hoa) nhưng thực ra là một?"
   ]
  },
  {
   "cell_type": "code",
   "execution_count": 104,
   "metadata": {},
   "outputs": [
    {
     "name": "stdout",
     "output_type": "stream",
     "text": [
      "Funding Source : numbers of unique values:  6 , including:  Counter({'FEDERAL': 82779, 'MIXED FINANCE/LLC1': 7781, 'MIXED FINANCE/LLC2': 975, 'NON-DEVELOPMENT': 507, 'FEDERAL-COOP': 84, 'Federal': 73})\n"
     ]
    }
   ],
   "source": [
    "frequencies = collections.Counter(gas_df['Funding Source'].to_list())\n",
    "print('Funding Source', \": numbers of unique values: \", len(frequencies.keys()), \", including: \", frequencies)"
   ]
  },
  {
   "cell_type": "markdown",
   "metadata": {},
   "source": [
    "- 'FEDERAL', 'Federal' là 2 đối tượng khác nhau nhưng thực ra là một.\n",
    "- Như vậy, ta cần phải thống nhất, chuẩn hóa các cột dữ liệu non-numeric về một kiểu chữ duy nhất, chọn chữ in hoa."
   ]
  },
  {
   "cell_type": "code",
   "execution_count": 105,
   "metadata": {},
   "outputs": [],
   "source": [
    "for col in gas_df.columns:\n",
    "    if gas_df[col].dtype in ['object', 'category']:\n",
    "        gas_df[col] = gas_df[col].map(str.upper)"
   ]
  },
  {
   "cell_type": "markdown",
   "metadata": {},
   "source": [
    "Đối với các cột có kiểu dữ liệu object, tính:\n",
    "- Số lượng chuỗi ký tự khác biệt (không xét đến các giá trị bị thiếu)\n",
    "- Số lần xuất hiện của mỗi chuỗi được sắp xếp theo chiều giảm dần :  dùng collection để lưu trữ, key là chuỗi, giá trị là số lần xuất hiện tương ứng. Với cột tương ứng với từng loại, cách thực hiện tương tự như trên.\n",
    "\n",
    "Lưu kết quả vào DataFrame `cat_col_info_gas_df`, trong đó:\n",
    "- Tên các cột có các kiểu 'object', 'category' trong `gas_df`\n",
    "- Tên các dòng là: “num_values”, “distribution”"
   ]
  },
  {
   "cell_type": "code",
   "execution_count": 106,
   "metadata": {},
   "outputs": [
    {
     "name": "stdout",
     "output_type": "stream",
     "text": [
      "Development Name : numbers of unique values:  371 , including:  Counter({'SAMUEL (CITY)': 5371, 'BUSHWICK II (GROUPS B & D)': 3605, 'BUSHWICK II (GROUPS A & C)': 3466, 'FENIMORE-LEFFERTS': 2511, 'TAPSCOTT STREET REHAB': 2108, 'BORINQUEN PLAZA I': 1232, 'CLAREMONT REHAB (GROUP 4)': 1170, 'HOWARD AVENUE-PARK PLACE': 1118, 'EAST NEW YORK CITY LINE': 1116, 'FHA REPOSSESSED HOUSES (GROUP IX)': 1071, 'SACK WERN': 1028, 'BORINQUEN PLAZA II': 978, 'STERLING PLACE REHABS (STERLING-BUFFALO)': 978, 'UNION AVENUE-EAST 166TH STREET': 799, 'LENOX ROAD-ROCKAWAY PARKWAY': 749, 'HOWARD AVENUE': 700, 'REHAB PROGRAM (DOUGLASS REHABS)': 693, 'REHAB PROGRAM (TAFT REHABS)': 686, 'WILLIAMSBURG': 680, 'STERLING PLACE REHABS (SAINT JOHNS-STERLING)': 679, 'BUSHWICK II CDA (GROUP E)': 678, 'HUNTS POINT AVENUE REHAB': 674, 'EAST 165TH STREET-BRYANT AVENUE': 672, 'LOWER EAST SIDE II': 672, 'CLAREMONT REHAB (GROUP 3)': 665, 'CLAREMONT REHAB (GROUP 2)': 657, 'LOWER EAST SIDE I INFILL': 651, 'RUTGERS': 635, 'SAMUEL (MHOP) I': 607, 'RED HOOK EAST': 570, 'PARK ROCK REHAB': 560, 'CROWN HEIGHTS': 553, 'OCEAN HILL-BROWNSVILLE': 550, 'WASHINGTON HEIGHTS REHAB PHASE III': 541, 'EAST 173RD STREET-VYSE AVENUE': 538, 'SOUTH BRONX AREA (SITE 402)': 530, 'BETANCES VI': 525, 'QUEENSBRIDGE NORTH': 511, 'RED HOOK WEST': 507, 'HOPE GARDENS': 490, 'BETANCES V': 481, 'WASHINGTON HEIGHTS REHAB (GROUPS 1&2)': 478, 'UNIVERSITY AVENUE REHAB': 477, 'BETANCES IV': 474, 'BERRY STREET-SOUTH 9TH STREET': 472, 'HARRISON AVENUE REHAB (GROUP B)': 463, 'FIRST HOUSES': 421, 'BEDFORD-STUYVESANT REHAB': 420, 'SUTTER AVENUE-UNION STREET': 420, 'RALPH AVENUE REHAB': 419, 'STUYVESANT GARDENS I': 417, 'BELMONT-SUTTER AREA': 414, 'ARMSTRONG I': 400, 'STEBBINS AVENUE-HEWITT PLACE': 400, 'WEST FARMS ROAD REHAB': 400, 'BOYNTON AVENUE REHAB': 399, 'INGERSOLL': 398, 'CLAREMONT REHAB (GROUP 5)': 395, 'CLASON POINT GARDENS': 390, 'BOSTON ROAD PLAZA': 384, 'CLAREMONT PARKWAY-FRANKLIN AVENUE': 371, 'MANHATTANVILLE REHAB (GROUP 2)': 368, 'TAFT': 356, 'QUEENSBRIDGE SOUTH': 352, 'RANDOLPH': 349, 'FRANKLIN AVENUE II CONVENTIONAL': 291, 'HIGHBRIDGE REHABS (NELSON AVENUE)': 291, 'FRANKLIN AVENUE I CONVENTIONAL': 289, 'DREW-HAMILTON': 284, 'HIGHBRIDGE REHABS (ANDERSON AVENUE)': 283, 'CAREY GARDENS': 282, 'BOULEVARD': 276, 'LINDEN': 276, 'BAY VIEW': 275, 'SHELTON HOUSE': 274, 'CLINTON': 272, 'LATIMER GARDENS': 270, 'LONGFELLOW AVENUE REHAB': 270, 'WEST TREMONT AVENUE-SEDGWICK AVENUE AREA': 270, 'STAPLETON': 269, 'MELROSE': 268, 'UPACA (SITE 5)': 268, 'LOWER EAST SIDE III': 267, 'SURFSIDE GARDENS': 266, 'BETANCES II': 260, 'VANDALIA AVENUE': 248, 'BROWN': 244, 'REID APARTMENTS': 244, 'WASHINGTON HEIGHTS REHAB PHASE IV (D)': 240, 'ARMSTRONG II': 236, 'BRYANT AVENUE-EAST 174TH STREET': 236, 'MARCY AVENUE-GREENE AVENUE SITE A': 236, 'EAGLE AVENUE-EAST 163RD STREET': 234, 'HOE AVENUE-EAST 173RD STREET': 233, 'LEAVITT STREET-34TH AVENUE': 233, 'LONG ISLAND BAPTIST HOUSES': 233, 'COLLEGE AVENUE-EAST 165TH STREET': 231, 'WASHINGTON HEIGHTS REHAB PHASE IV (C)': 229, 'MANHATTANVILLE REHAB (GROUP 3)': 227, 'GLEBE AVENUE-WESTCHESTER AVENUE': 226, 'CONEY ISLAND I (SITE 1B)': 225, 'PUBLIC SCHOOL 139 (CONVERSION)': 219, 'VLADECK': 219, 'MARCY': 218, 'ASTORIA': 217, 'LOW HOUSES': 212, 'KING TOWERS': 211, 'SOTOMAYOR HOUSES': 196, 'REHAB PROGRAM (WISE REHAB)': 193, 'ROBINSON': 189, 'HERNANDEZ': 187, 'LOWER EAST SIDE REHAB (GROUP 5)': 181, 'CORSI HOUSES': 180, 'SMITH': 180, 'HAMMEL': 168, 'OCEAN BAY APARTMENTS (OCEANSIDE)': 168, 'WEST BRIGHTON I': 165, 'WSUR (BROWNSTONES)': 161, 'WEST BRIGHTON II': 159, '104-14 TAPSCOTT STREET': 158, 'CYPRESS HILLS': 154, '45 ALLEN STREET': 151, 'BETANCES II, 18': 149, 'WHITMAN': 146, 'CASSIDY-LAFAYETTE': 145, 'MELTZER TOWER': 144, 'MORRIS I/MORRIS II/MORRISANIA': 144, 'BREUKELEN': 142, \"MARINER'S HARBOR\": 142, 'GOWANUS': 141, 'UNITY PLAZA (ALL)/LI BAPTIST HOUSES (BLD 2-4)': 141, 'ATLANTIC TERMINAL SITE 4B': 140, 'BREVOORT': 140, 'CONLON LIHFE TOWER': 140, 'GLENMORE PLAZA': 140, 'GLENWOOD': 140, 'INTERNATIONAL TOWER': 140, 'LAFAYETTE': 140, 'MARLBORO': 140, 'RICHMOND TERRACE': 140, 'SARATOGA VILLAGE': 140, 'STUYVESANT GARDENS II': 140, 'SUMNER': 140, 'TODT HILL': 140, 'AMSTERDAM': 139, 'BAISLEY PARK': 139, 'BROWNSVILLE': 139, 'HOWARD': 139, 'POLO GROUNDS TOWERS': 139, 'WAGNER': 139, 'JEFFERSON': 138, 'MANHATTANVILLE': 138, 'PALMETTO GARDENS': 138, 'PINK': 138, 'SOUTH BEACH': 138, 'UNION AVENUE-EAST 163RD STREET': 138, 'BAILEY AVENUE-WEST 193RD STREET': 137, 'FIORENTINO PLAZA': 137, 'HUGHES APARTMENTS': 137, 'JOHNSON': 137, 'OCEAN HILL APARTMENTS': 137, 'PARKSIDE': 137, 'EAST RIVER': 137, 'AUDUBON': 136, 'BUTLER': 136, 'CARVER': 136, 'DYCKMAN': 136, 'JACKSON': 136, 'MONROE': 136, 'RAVENSWOOD': 136, 'SAINT NICHOLAS': 136, 'TOMPKINS': 136, 'UPACA (SITE 6)': 136, 'BLAND': 135, 'BOSTON SECOR': 135, 'BRACETTI PLAZA': 135, 'COOPER PARK': 135, 'DOUGLASS ADDITION': 135, 'FOREST': 135, 'FORT INDEPENDENCE STREET-HEATH AVENUE': 135, 'GOMPERS': 135, 'ISAACS': 135, 'MIDDLETOWN PLAZA': 135, 'MITCHEL': 135, 'PELHAM PARKWAY': 135, 'POMONOK': 135, 'TAYLOR STREET-WYTHE AVENUE': 135, 'TILDEN': 135, 'TWIN PARKS EAST (SITE 9)': 135, 'WEBSTER': 135, 'WOODSIDE': 135, 'BERRY': 134, 'BETHUNE GARDENS': 134, 'CASTLE HILL': 134, 'DAVIDSON': 134, 'GRANT': 134, 'LEHMAN VILLAGE': 134, 'MARBLE HILL': 134, 'REHAB PROGRAM (COLLEGE POINT)': 134, 'RUTLAND TOWERS': 134, 'GARVEY (GROUP A)': 133, 'PENNSYLVANIA AVENUE-WORTMAN AVENUE': 133, 'SOUNDVIEW': 133, 'STANTON STREET': 133, 'TELLER AVENUE-EAST 166TH STREET': 133, 'CHELSEA': 132, 'CONEY ISLAND I (SITE 8)': 132, 'HOLMES TOWERS': 132, 'RANGEL': 132, 'WEST FARMS SQUARE CONVENTIONAL': 132, 'WOODSON': 132, 'CONEY ISLAND': 131, 'SEWARD PARK EXTENSION': 131, 'WHITE': 131, 'GRAVESEND': 130, 'PARK AVENUE-EAST 122ND, 123RD STREETS': 130, 'WILSON': 130, 'ADAMS': 129, 'CARLETON MANOR': 129, 'EAST 152ND STREET-COURTLANDT AVENUE': 129, 'GUN HILL': 129, 'FHA REPOSSESSED HOUSES (GROUP I)': 129, 'SEDGWICK': 128, 'EASTCHESTER GARDENS': 127, 'HARRISON AVENUE REHAB (GROUP A)': 126, 'MORRISANIA AIR RIGHTS': 126, 'WASHINGTON': 126, '335 EAST 111TH STREET': 125, 'MURPHY': 124, 'ROOSEVELT II': 124, 'HARBORVIEW TERRACE': 123, 'LINCOLN': 123, 'BEACH 41ST STREET-BEACH CHANNEL DRIVE': 123, 'FORT WASHINGTON AVENUE REHAB': 122, 'MARSHALL PLAZA': 122, 'PATTERSON': 122, 'SAMUEL (MHOP) II': 121, 'TWO BRIDGES URA (SITE 7)': 120, 'SAMUEL (MHOP) III': 119, 'FHA REPOSSESSED HOUSES (GROUP IV)': 119, 'BAYCHESTER': 118, 'MARCY AVENUE-GREENE AVENUE SITE B': 118, 'FHA REPOSSESSED HOUSES (GROUP III)': 118, 'REDFERN': 115, 'LEXINGTON': 114, 'WEEKSVILLE GARDENS': 114, 'GRAMPION': 112, 'BETANCES II, 13': 112, 'EDENWALD': 111, 'WALD': 111, 'FARRAGUT': 109, 'NEW LANE AREA': 109, 'EAST 180TH STREET-MONTEREY AVENUE': 108, 'MCKINLEY': 107, 'MOTT HAVEN': 106, 'WYCKOFF GARDENS': 104, 'FHA REPOSSESSED HOUSES (GROUP VI)': 104, 'HABER': 102, 'WILLIAMS PLAZA': 102, 'HIGHBRIDGE GARDENS': 101, 'THROGGS NECK': 99, 'CONEY ISLAND I (SITES 4 & 5)': 99, 'FRANKLIN AVENUE III CONVENTIONAL': 97, 'BARUCH/BARUCH HOUSES ADDITION': 96, 'BRONX RIVER/BRONX RIVER ADDITION': 96, 'BUSHWICK/HYLAN': 96, 'DOUGLASS I/DOUGLASS II': 96, 'HARLEM RIVER II/HARLEM RIVER': 96, 'LA GUARDIA/LA GUARDIA ADDITION': 96, 'MILL BROOK/MILL BROOK EXTENSION': 96, 'ROOSEVELT I/ROOSEVELT II': 96, 'SHEEPSHEAD BAY/NOSTRAND': 96, 'SOUTH JAMAICA II/SOUTH JAMAICA I': 96, 'VAN DYKE I/VAN DYKE II': 96, 'VLADECK/VLADECK II': 96, 'WEST BRIGHTON I/WEST BRIGHTON II': 96, 'WHITMAN/WHITMAN CHILD CENTER': 96, 'NDF - PSA 6, 2770 F DOUGLASS BLVD': 94, 'RIIS/RIIS II': 94, 'TWIN PARKS WEST (SITES 1 & 2)': 94, 'RANDALL AVENUE-BALCOM AVENUE': 94, \"O'DWYER GARDENS\": 92, 'BARUCH': 91, 'BARUCH HOUSES ADDITION': 91, 'RIIS': 90, 'RIIS II': 90, '303 VERNON AVENUE': 90, 'DOUGLASS I': 89, 'DOUGLASS II': 89, '1010 EAST 178TH STREET': 89, 'VAN DYKE I': 89, 'VAN DYKE II': 89, 'KINGSBOROUGH/KINGSBOROUGH EXTENSION': 88, 'FHA REPOSSESSED HOUSES (GROUP X)': 87, 'BUSHWICK': 87, 'HYLAN': 87, 'LA GUARDIA': 87, 'LA GUARDIA ADDITION': 87, '131 SAINT NICHOLAS AVENUE': 87, 'OCEAN BAY APARTMENTS (BAYSIDE)': 86, 'MORRIS I': 86, 'MORRISANIA': 86, 'MORRIS II': 86, \"SAINT MARY'S PARK\": 86, 'SHEEPSHEAD BAY': 86, 'NOSTRAND': 86, 'SOUTH JAMAICA I': 86, 'SOUTH JAMAICA II': 86, '154 WEST 84TH STREET': 86, 'HARLEM RIVER': 85, 'HARLEM RIVER II': 85, 'ALBANY/ALBANY II': 84, 'FOREST HILLS COOP (108TH STREET-62ND DRIVE)': 84, 'BRONX RIVER': 84, 'BRONX RIVER ADDITION': 84, 'KINGSBOROUGH': 84, 'KINGSBOROUGH EXTENSION': 84, 'UNITY PLAZA (SITES 4-27)': 84, 'UNITY PLAZA (SITES 17,24,25A)': 84, 'ELLIOTT': 83, 'CHELSEA ADDITION': 83, 'VLADECK II': 82, '1162-1176 WASHINGTON AVENUE': 82, 'EAST 111TH STREET': 81, 'BETANCES II (BLD 3)/BETANCES III (BLD 4-5)': 80, 'ROOSEVELT I': 80, 'INDEPENDENCE': 79, 'TAPSCOTT STREET': 79, 'ALBANY': 79, 'ALBANY II': 79, '830 AMSTERDAM AVENUE': 79, 'BETANCES III': 78, 'METRO NORTH PLAZA': 78, 'BETANCES III, 9A': 78, 'NDF - PSA 4, 130 AVENUE C': 77, 'MILL BROOK': 76, 'MILL BROOK EXTENSION': 76, '572 WARREN STREET': 70, 'BETANCES V (BLD 2)/BETANCES IV (BLD 3,5)': 68, 'MORRIS PARK SENIOR CITIZENS HOME': 68, 'MOORE': 66, 'BETANCES II (BLD 2)/BETANCES III (BLD 6)': 62, 'BETANCES II, 9A': 62, 'THROGGS NECK ADDITION': 61, 'ELLIOTT/CHELSEA ADDITION': 52, 'NDF - CENTRAL MAINTENANCE SHOP, 23 ASH ST': 48, 'NDF - PSA 1, 2860 WEST 23 ST': 48, 'NDF - PSA 2, 560 SUTTER AVE': 48, 'NDF - PSA 3, 25 CENTRAL AVE': 48, 'SAINT MARYS PARK': 48, 'VERNON AVENUE': 48, 'WARREN STREET': 48, 'WEST 84TH STREET': 48, 'EAST 178TH STREET': 47, 'AMSTERDAM AVENUE': 45, 'BETANCES III, 13': 44, 'NDF - PSA 7, 737 MELROSE AVE': 43, 'NDF - PSA 5, 221 EAST 123 ST': 40, 'CONEY ISLAND I (SITE 4 & 5)': 39, 'ODWYER GARDENS': 38, 'WEST SIDE URBAN RENEWAL (BROWNSTONES)': 36, 'BETANCES II (BLD 4)': 35, 'WASHINGTON AVENUE': 35, 'NDF - BRONX OFFICE, 1200 WATERS PLACE': 34, 'BETANCES III, 18': 31, 'NDF - SI OFFICE, 140 RICHMOND TERR': 27, 'WATSON AVENUE': 24, 'ALLEN STREET': 12, 'FHA REPOSSESSED HOUSES (GROUP II)': 11, 'WSUR (SITE B) 74 WEST 92ND STREET': 4, '1471 WATSON AVENUE': 1})\n",
      "Borough : numbers of unique values:  7 , including:  Counter({'BROOKLYN': 38437, 'MANHATTAN': 23290, 'BRONX': 22597, 'QUEENS': 4092, 'FHA': 1639, 'STATEN ISLAND': 1637, 'NON DEVELOPMENT FACILITY': 507})\n",
      "Location : numbers of unique values:  123 , including:  Counter({'BLD 01': 20255, 'BLD 02': 10138, 'BLD 04': 7988, 'BLD 03': 7864, 'BLD 05': 5225, 'BLD 06': 3975, 'BLD 07': 2814, 'BLD 08': 2438, 'BLD 09': 1785, 'BLD 13': 1076, 'BLD 11': 986, 'BLD 10': 971, 'BLD 17': 950, 'BLD 20': 930, 'BLD 14': 891, 'BLD 12': 702, 'BLD 29': 639, 'BLD 24': 633, 'BLD 16': 627, 'BLD 15': 607, 'BLD 35': 578, 'BLD 18': 573, 'BLD 21': 552, 'BLD 23': 548, 'BLD 25': 526, 'BLD 22': 495, 'BLD 32': 481, 'BLD 03 - COMMUNITY CENTER': 408, 'MORRIS I BLD 10': 402, 'BLD 19': 397, 'UNITY PLAZA BLD 03': 393, 'BLD 42': 389, 'BLD 07 - COMMUNITY CENTER': 379, 'BLD 36': 376, 'BLD 27': 360, 'BARUCH BLD 07': 278, 'BLD 33': 274, 'DOUGLASS I BLD 11': 274, 'RIIS BLD 13': 274, 'VAN DYKE I BLD 12': 274, 'BLD 34': 273, 'BLD 28': 272, 'BLD 45': 272, 'BLD 38': 272, 'BLD 26': 271, 'BUSHWICK BLD 02': 270, 'LA GUARDIA BLD 04': 270, 'BLD 37': 268, 'NOSTRAND BLD 17': 268, 'SOUTH JAMAICA II BLD 19': 268, 'BLD 30': 266, 'BLD 31': 266, 'HARLEM RIVER II BLD 08': 266, 'BLD 44': 265, 'BRONX RIVER BLD 07': 264, 'WEST BRIGHTON I BLD 06': 264, 'BLD 40': 262, 'BLD 46': 261, 'BLD 39': 261, 'BLD 41': 260, 'VLADECK BLD 02': 260, 'BLD 43': 258, 'BLD 47': 257, 'ROOSEVELT I BLD 03': 256, 'KINGSBOROUGH BLD 11': 256, 'MILL BROOK BLD 05': 248, 'ALBANY BLD 04': 242, 'BLD 02 - COMMUNITY CENTER': 224, 'ELLIOTT BLD 04': 218, 'BLD 10 - COMMUNITY CENTER': 215, 'BLD 09 - COMMUNITY CENTER': 177, 'BETANCES II BLD 03': 168, 'BLD 48 - COMMUNITY CENTER': 168, 'BLD 04 - COMMUNITY CENTER': 162, 'BLD 4': 145, 'BLD 49': 140, 'BLD 50': 140, 'BLD 36 - COMMUNITY CENTER': 140, 'BLD 31 - COMMUNITY CENTER': 136, 'BLD 25 - COMMUNITY CENTER': 135, 'BLD 51 - COMMUNITY CENTER': 133, 'BLD 21 - COMMUNITY CENTER': 133, 'BLD 48': 131, 'BETANCES IV BLD 03': 126, 'BETANCES II BLD 02': 124, 'BLD 2': 112, 'BLD 26 - COMMUNITY CENTER': 108, '116-17 FARMERS BOULEVARD': 104, '341 BERRIMAN STREET': 104, '458 ATKINS AVENUE': 104, '116-31 FARMERS BOULEVARD': 104, '100-38 FRANCIS LEWIS BOULEVARD': 103, '71 WAVERLY AVENUE': 103, '353 BERRIMAN STREET': 103, '178-14 BAISLEY BOULEVARD': 103, '359 BERRIMAN STREET': 101, '75 WAVERLY AVENUE': 100, 'BLD 05 - COMMUNITY CENTER': 99, '182 ADELPHI STREET': 99, '367 DOUGLASS STREET': 98, 'BLD 1': 94, '349 BERRIMAN STREET': 89, '153 BEACH 59TH STREET': 87, 'BLD 06 - COMMUNITY CENTER': 81, '143 GATES AVENUE': 80, 'BLD 11 - COMMUNITY CENTER': 75, 'BLD 08 - COMMUNITY CENTER': 72, '140 EAST 91ST STREET': 68, 'BLD 27 - COMMUNITY CENTER': 62, 'BLD 32 - COMMUNITY CENTER': 61, 'BLD 3': 60, '305 ATKINS AVENUE': 22, 'BLD 5': 20, '1504 BEACH 12TH STREET': 19, '340 WILLIAMS AVENUE': 18, 'GEN': 17, '115-21 135TH STREET': 15, '120-26 178TH STREET': 15, 'BLDG #6- 325 FOUNTAIN AVENUE': 14, '110-16 207TH STREET': 11, '1502 BEACH 12TH STREET': 7, 'BLD 6': 6, 'BLD 7': 5})\n",
      "Funding Source : numbers of unique values:  5 , including:  Counter({'FEDERAL': 82852, 'MIXED FINANCE/LLC1': 7781, 'MIXED FINANCE/LLC2': 975, 'NON-DEVELOPMENT': 507, 'FEDERAL-COOP': 84})\n",
      "Vendor Name : numbers of unique values:  4 , including:  Counter({'CONSOLIDATED EDISON COMPANY OF NY': 48298, 'NATIONAL GRID NYC': 42998, 'NATIONAL GRID LI': 902, 'DIRECT ENERGY BUSINESS (32179)': 1})\n"
     ]
    },
    {
     "data": {
      "text/html": [
       "<div>\n",
       "<style scoped>\n",
       "    .dataframe tbody tr th:only-of-type {\n",
       "        vertical-align: middle;\n",
       "    }\n",
       "\n",
       "    .dataframe tbody tr th {\n",
       "        vertical-align: top;\n",
       "    }\n",
       "\n",
       "    .dataframe thead th {\n",
       "        text-align: right;\n",
       "    }\n",
       "</style>\n",
       "<table border=\"1\" class=\"dataframe\">\n",
       "  <thead>\n",
       "    <tr style=\"text-align: right;\">\n",
       "      <th></th>\n",
       "      <th>Development Name</th>\n",
       "      <th>Borough</th>\n",
       "      <th>Location</th>\n",
       "      <th>Funding Source</th>\n",
       "      <th>Vendor Name</th>\n",
       "    </tr>\n",
       "  </thead>\n",
       "  <tbody>\n",
       "    <tr>\n",
       "      <th>num_diff_vals</th>\n",
       "      <td>371</td>\n",
       "      <td>7</td>\n",
       "      <td>123</td>\n",
       "      <td>5</td>\n",
       "      <td>4</td>\n",
       "    </tr>\n",
       "    <tr>\n",
       "      <th>distribution</th>\n",
       "      <td>{'ADAMS': 129, 'ALBANY/ALBANY II': 84, 'AMSTER...</td>\n",
       "      <td>{'BRONX': 22597, 'BROOKLYN': 38437, 'MANHATTAN...</td>\n",
       "      <td>{'BLD 04': 7988, 'ALBANY BLD 04': 242, 'BLD 02...</td>\n",
       "      <td>{'FEDERAL': 82852, 'MIXED FINANCE/LLC1': 7781,...</td>\n",
       "      <td>{'CONSOLIDATED EDISON COMPANY OF NY': 48298, '...</td>\n",
       "    </tr>\n",
       "  </tbody>\n",
       "</table>\n",
       "</div>"
      ],
      "text/plain": [
       "                                                Development Name  \\\n",
       "num_diff_vals                                                371   \n",
       "distribution   {'ADAMS': 129, 'ALBANY/ALBANY II': 84, 'AMSTER...   \n",
       "\n",
       "                                                         Borough  \\\n",
       "num_diff_vals                                                  7   \n",
       "distribution   {'BRONX': 22597, 'BROOKLYN': 38437, 'MANHATTAN...   \n",
       "\n",
       "                                                        Location  \\\n",
       "num_diff_vals                                                123   \n",
       "distribution   {'BLD 04': 7988, 'ALBANY BLD 04': 242, 'BLD 02...   \n",
       "\n",
       "                                                  Funding Source  \\\n",
       "num_diff_vals                                                  5   \n",
       "distribution   {'FEDERAL': 82852, 'MIXED FINANCE/LLC1': 7781,...   \n",
       "\n",
       "                                                     Vendor Name  \n",
       "num_diff_vals                                                  4  \n",
       "distribution   {'CONSOLIDATED EDISON COMPANY OF NY': 48298, '...  "
      ]
     },
     "execution_count": 106,
     "metadata": {},
     "output_type": "execute_result"
    }
   ],
   "source": [
    "cat_col_info_gas = gas_df.select_dtypes (include = ['object', 'category'])\n",
    "cat_col_info_gas_df = pd.DataFrame(columns= cat_col_info_gas.columns)\n",
    "\n",
    "for column in cat_col_info_gas.columns:\n",
    "    frequencies = collections.Counter(cat_col_info_gas[column].to_list())\n",
    "    print(column, \": numbers of unique values: \", len(frequencies.keys()), \", including: \", frequencies)\n",
    "    cat_col_info_gas_df[column] = list([len(frequencies.keys()), frequencies])\n",
    "\n",
    "cat_col_info_gas_df.index = ['num_diff_vals', 'distribution']\n",
    "cat_col_info_gas_df"
   ]
  },
  {
   "cell_type": "markdown",
   "metadata": {},
   "source": [
    "Đối với các cột có kiểu dữ liệu datetime, tính:\n",
    "- Số lượng tháng-năm khác biệt (không xét đến các giá trị bị thiếu)\n",
    "- Số lần xuất hiện của mỗi tháng-năm được sắp xếp theo chiều giảm dần : dùng collection để lưu trữ, key là tháng-năm, giá trị là số lần xuất hiện tương ứng. Với cột tương ứng với từng loại, cách thực hiện tương tự như trên.\n",
    "\n",
    "Lưu kết quả vào DataFrame `date_col_info_gas_df`, trong đó:\n",
    "- Tên các cột có các kiểu dữ liệu 'datetime64[ns]' trong `gas_df`\n",
    "- Tên các dòng là: “num_values”, “distribution”"
   ]
  },
  {
   "cell_type": "code",
   "execution_count": 107,
   "metadata": {},
   "outputs": [
    {
     "name": "stdout",
     "output_type": "stream",
     "text": [
      "Revenue Month : numbers of unique values:  134 , including:  [('2022-02', 238), ('2022-01', 567), ('2021-12', 591), ('2021-11', 577), ('2021-10', 568), ('2021-09', 560), ('2021-08', 570), ('2021-07', 559), ('2021-06', 563), ('2021-05', 582), ('2021-04', 597), ('2021-03', 590), ('2021-02', 927), ('2021-01', 908), ('2020-12', 609), ('2020-11', 679), ('2020-10', 623), ('2020-09', 628), ('2020-08', 609), ('2020-07', 525), ('2020-06', 899), ('2020-05', 650), ('2020-04', 1025), ('2020-03', 1008), ('2020-02', 967), ('2020-01', 963), ('2019-12', 651), ('2019-11', 644), ('2019-10', 641), ('2019-09', 606), ('2019-08', 599), ('2019-07', 597), ('2019-06', 616), ('2019-05', 636), ('2019-04', 654), ('2019-03', 649), ('2019-02', 643), ('2019-01', 656), ('2018-12', 652), ('2018-11', 683), ('2018-10', 719), ('2018-09', 658), ('2018-08', 650), ('2018-07', 656), ('2018-06', 995), ('2018-05', 695), ('2018-04', 702), ('2018-03', 693), ('2018-02', 694), ('2018-01', 700), ('2017-12', 707), ('2017-11', 708), ('2017-10', 690), ('2017-09', 660), ('2017-08', 658), ('2017-07', 666), ('2017-06', 688), ('2017-05', 707), ('2017-04', 722), ('2017-03', 716), ('2017-02', 713), ('2017-01', 716), ('2016-12', 714), ('2016-11', 710), ('2016-10', 715), ('2016-09', 664), ('2016-08', 666), ('2016-07', 667), ('2016-06', 696), ('2016-05', 720), ('2016-04', 711), ('2016-03', 711), ('2016-02', 707), ('2016-01', 690), ('2015-12', 703), ('2015-11', 710), ('2015-10', 716), ('2015-09', 662), ('2015-08', 651), ('2015-07', 650), ('2015-06', 682), ('2015-05', 707), ('2015-04', 714), ('2015-03', 715), ('2015-02', 711), ('2015-01', 712), ('2014-12', 728), ('2014-11', 728), ('2014-10', 729), ('2014-09', 674), ('2014-08', 664), ('2014-07', 663), ('2014-06', 688), ('2014-05', 718), ('2014-04', 722), ('2014-03', 723), ('2014-02', 715), ('2014-01', 714), ('2012-12', 709), ('2012-11', 728), ('2012-10', 728), ('2012-09', 684), ('2012-08', 675), ('2012-07', 649), ('2012-06', 677), ('2012-05', 716), ('2012-04', 724), ('2012-03', 717), ('2012-02', 719), ('2012-01', 714), ('2011-12', 716), ('2011-11', 718), ('2011-10', 693), ('2011-09', 656), ('2011-08', 653), ('2011-07', 653), ('2011-06', 664), ('2011-05', 706), ('2011-04', 710), ('2011-03', 713), ('2011-02', 711), ('2011-01', 712), ('2010-12', 716), ('2010-11', 714), ('2010-10', 711), ('2010-09', 643), ('2010-08', 640), ('2010-07', 635), ('2010-06', 667), ('2010-05', 706), ('2010-04', 710), ('2010-03', 707), ('2010-02', 707), ('2010-01', 706)]\n",
      "Service Start Date : numbers of unique values:  140 , including:  [('2022-02', 1), ('2022-01', 249), ('2021-12', 579), ('2021-11', 575), ('2021-10', 580), ('2021-09', 579), ('2021-08', 566), ('2021-07', 533), ('2021-06', 559), ('2021-05', 563), ('2021-04', 591), ('2021-03', 587), ('2021-02', 604), ('2021-01', 921), ('2020-12', 939), ('2020-11', 610), ('2020-10', 637), ('2020-09', 627), ('2020-08', 608), ('2020-07', 521), ('2020-06', 910), ('2020-05', 635), ('2020-04', 666), ('2020-03', 1003), ('2020-02', 1009), ('2020-01', 966), ('2019-12', 956), ('2019-11', 643), ('2019-10', 654), ('2019-09', 639), ('2019-08', 604), ('2019-07', 597), ('2019-06', 602), ('2019-05', 613), ('2019-04', 654), ('2019-03', 648), ('2019-02', 635), ('2019-01', 655), ('2018-12', 652), ('2018-11', 671), ('2018-10', 689), ('2018-09', 702), ('2018-08', 659), ('2018-07', 652), ('2018-06', 982), ('2018-05', 657), ('2018-04', 697), ('2018-03', 694), ('2018-02', 696), ('2018-01', 699), ('2017-12', 699), ('2017-11', 709), ('2017-10', 709), ('2017-09', 691), ('2017-08', 663), ('2017-07', 660), ('2017-06', 669), ('2017-05', 684), ('2017-04', 715), ('2017-03', 711), ('2017-02', 716), ('2017-01', 713), ('2016-12', 719), ('2016-11', 713), ('2016-10', 713), ('2016-09', 708), ('2016-08', 667), ('2016-07', 668), ('2016-06', 683), ('2016-05', 682), ('2016-04', 712), ('2016-03', 713), ('2016-02', 707), ('2016-01', 692), ('2015-12', 699), ('2015-11', 712), ('2015-10', 712), ('2015-09', 711), ('2015-08', 667), ('2015-07', 646), ('2015-06', 653), ('2015-05', 686), ('2015-04', 708), ('2015-03', 718), ('2015-02', 714), ('2015-01', 710), ('2014-12', 711), ('2014-11', 730), ('2014-10', 733), ('2014-09', 726), ('2014-08', 675), ('2014-07', 663), ('2014-06', 664), ('2014-05', 688), ('2014-04', 720), ('2014-03', 720), ('2014-02', 716), ('2014-01', 717), ('2013-12', 708), ('2013-11', 1), ('2012-12', 12), ('2012-11', 705), ('2012-10', 730), ('2012-09', 730), ('2012-08', 676), ('2012-07', 648), ('2012-06', 668), ('2012-05', 674), ('2012-04', 723), ('2012-03', 717), ('2012-02', 719), ('2012-01', 716), ('2011-12', 718), ('2011-11', 716), ('2011-10', 718), ('2011-09', 693), ('2011-08', 657), ('2011-07', 653), ('2011-06', 650), ('2011-05', 666), ('2011-04', 703), ('2011-03', 713), ('2011-02', 711), ('2011-01', 710), ('2010-12', 715), ('2010-11', 716), ('2010-10', 714), ('2010-09', 706), ('2010-08', 644), ('2010-07', 640), ('2010-06', 644), ('2010-05', 661), ('2010-04', 709), ('2010-03', 706), ('2010-02', 707), ('2010-01', 706), ('2009-12', 707), ('2009-11', 3), ('2009-10', 2), ('2009-08', 1)]\n",
      "Service End Date : numbers of unique values:  136 , including:  [('2022-03', 1), ('2022-02', 247), ('2022-01', 576), ('2021-12', 593), ('2021-11', 577), ('2021-10', 567), ('2021-09', 573), ('2021-08', 550), ('2021-07', 552), ('2021-06', 567), ('2021-05', 587), ('2021-04', 595), ('2021-03', 597), ('2021-02', 926), ('2021-01', 901), ('2020-12', 639), ('2020-11', 632), ('2020-10', 628), ('2020-09', 610), ('2020-08', 604), ('2020-07', 525), ('2020-06', 931), ('2020-05', 663), ('2020-04', 1020), ('2020-03', 1006), ('2020-02', 964), ('2020-01', 956), ('2019-12', 651), ('2019-11', 645), ('2019-10', 641), ('2019-09', 612), ('2019-08', 597), ('2019-07', 596), ('2019-06', 618), ('2019-05', 639), ('2019-04', 665), ('2019-03', 647), ('2019-02', 635), ('2019-01', 656), ('2018-12', 650), ('2018-11', 708), ('2018-10', 690), ('2018-09', 660), ('2018-08', 651), ('2018-07', 654), ('2018-06', 996), ('2018-05', 694), ('2018-04', 702), ('2018-03', 694), ('2018-02', 696), ('2018-01', 703), ('2017-12', 702), ('2017-11', 708), ('2017-10', 690), ('2017-09', 660), ('2017-08', 660), ('2017-07', 665), ('2017-06', 689), ('2017-05', 708), ('2017-04', 721), ('2017-03', 713), ('2017-02', 716), ('2017-01', 715), ('2016-12', 714), ('2016-11', 712), ('2016-10', 713), ('2016-09', 664), ('2016-08', 666), ('2016-07', 667), ('2016-06', 695), ('2016-05', 717), ('2016-04', 715), ('2016-03', 713), ('2016-02', 708), ('2016-01', 692), ('2015-12', 698), ('2015-11', 710), ('2015-10', 716), ('2015-09', 662), ('2015-08', 651), ('2015-07', 650), ('2015-06', 682), ('2015-05', 705), ('2015-04', 716), ('2015-03', 715), ('2015-02', 713), ('2015-01', 713), ('2014-12', 725), ('2014-11', 732), ('2014-10', 726), ('2014-09', 675), ('2014-08', 664), ('2014-07', 665), ('2014-06', 687), ('2014-05', 717), ('2014-04', 723), ('2014-03', 722), ('2014-02', 713), ('2014-01', 702), ('2013-01', 13), ('2012-12', 708), ('2012-11', 728), ('2012-10', 729), ('2012-09', 682), ('2012-08', 664), ('2012-07', 649), ('2012-06', 677), ('2012-05', 716), ('2012-04', 724), ('2012-03', 718), ('2012-02', 718), ('2012-01', 714), ('2011-12', 716), ('2011-11', 718), ('2011-10', 693), ('2011-09', 656), ('2011-08', 654), ('2011-07', 652), ('2011-06', 664), ('2011-05', 706), ('2011-04', 710), ('2011-03', 713), ('2011-02', 711), ('2011-01', 713), ('2010-12', 715), ('2010-11', 714), ('2010-10', 711), ('2010-09', 643), ('2010-08', 640), ('2010-07', 635), ('2010-06', 667), ('2010-05', 706), ('2010-04', 711), ('2010-03', 706), ('2010-02', 707), ('2010-01', 706)]\n"
     ]
    },
    {
     "data": {
      "text/html": [
       "<div>\n",
       "<style scoped>\n",
       "    .dataframe tbody tr th:only-of-type {\n",
       "        vertical-align: middle;\n",
       "    }\n",
       "\n",
       "    .dataframe tbody tr th {\n",
       "        vertical-align: top;\n",
       "    }\n",
       "\n",
       "    .dataframe thead th {\n",
       "        text-align: right;\n",
       "    }\n",
       "</style>\n",
       "<table border=\"1\" class=\"dataframe\">\n",
       "  <thead>\n",
       "    <tr style=\"text-align: right;\">\n",
       "      <th></th>\n",
       "      <th>Revenue Month</th>\n",
       "      <th>Service Start Date</th>\n",
       "      <th>Service End Date</th>\n",
       "    </tr>\n",
       "  </thead>\n",
       "  <tbody>\n",
       "    <tr>\n",
       "      <th>num_diff_vals</th>\n",
       "      <td>134</td>\n",
       "      <td>140</td>\n",
       "      <td>136</td>\n",
       "    </tr>\n",
       "    <tr>\n",
       "      <th>distribution</th>\n",
       "      <td>[(2022-02, 238), (2022-01, 567), (2021-12, 591...</td>\n",
       "      <td>[(2022-02, 1), (2022-01, 249), (2021-12, 579),...</td>\n",
       "      <td>[(2022-03, 1), (2022-02, 247), (2022-01, 576),...</td>\n",
       "    </tr>\n",
       "  </tbody>\n",
       "</table>\n",
       "</div>"
      ],
      "text/plain": [
       "                                                   Revenue Month  \\\n",
       "num_diff_vals                                                134   \n",
       "distribution   [(2022-02, 238), (2022-01, 567), (2021-12, 591...   \n",
       "\n",
       "                                              Service Start Date  \\\n",
       "num_diff_vals                                                140   \n",
       "distribution   [(2022-02, 1), (2022-01, 249), (2021-12, 579),...   \n",
       "\n",
       "                                                Service End Date  \n",
       "num_diff_vals                                                136  \n",
       "distribution   [(2022-03, 1), (2022-02, 247), (2022-01, 576),...  "
      ]
     },
     "execution_count": 107,
     "metadata": {},
     "output_type": "execute_result"
    }
   ],
   "source": [
    "date_col_info_gas = gas_df.select_dtypes (include = ['datetime64[ns]'])\n",
    "date_col_info_gas_df = pd.DataFrame(columns= date_col_info_gas.columns)\n",
    "\n",
    "for column in date_col_info_gas.columns:\n",
    "    # Trích xuất tháng và năm\n",
    "    month_year = date_col_info_gas[column].dt.strftime(\"%Y-%m\")\n",
    "    frequencies = collections.Counter(month_year.to_list())\n",
    "    frequencies = sorted(frequencies.items(), key=lambda x: x[0], reverse= True)\n",
    "    print(column, \": numbers of unique values: \", len(frequencies), \", including: \", frequencies)\n",
    "    date_col_info_gas_df[column] = list([len(frequencies), frequencies])\n",
    "\n",
    "date_col_info_gas_df.index = ['num_diff_vals', 'distribution']\n",
    "date_col_info_gas_df"
   ]
  },
  {
   "cell_type": "markdown",
   "metadata": {},
   "source": [
    "## 3. Lưu dữ liệu đã tiền xử lý "
   ]
  },
  {
   "cell_type": "markdown",
   "metadata": {},
   "source": [
    "Vậy là đã hoàn thành các bước tiền xử lý cơ bản, ta nên lưu `gas_df` vào dataframe mới tên `processed_gas_df`"
   ]
  },
  {
   "cell_type": "code",
   "execution_count": 108,
   "metadata": {},
   "outputs": [
    {
     "data": {
      "text/html": [
       "<div>\n",
       "<style scoped>\n",
       "    .dataframe tbody tr th:only-of-type {\n",
       "        vertical-align: middle;\n",
       "    }\n",
       "\n",
       "    .dataframe tbody tr th {\n",
       "        vertical-align: top;\n",
       "    }\n",
       "\n",
       "    .dataframe thead th {\n",
       "        text-align: right;\n",
       "    }\n",
       "</style>\n",
       "<table border=\"1\" class=\"dataframe\">\n",
       "  <thead>\n",
       "    <tr style=\"text-align: right;\">\n",
       "      <th></th>\n",
       "      <th>Development Name</th>\n",
       "      <th>Borough</th>\n",
       "      <th>Location</th>\n",
       "      <th>Funding Source</th>\n",
       "      <th>Vendor Name</th>\n",
       "      <th>Revenue Month</th>\n",
       "      <th>Service Start Date</th>\n",
       "      <th>Service End Date</th>\n",
       "      <th># days</th>\n",
       "      <th>Current Charges</th>\n",
       "      <th>Consumption (Therms)</th>\n",
       "    </tr>\n",
       "  </thead>\n",
       "  <tbody>\n",
       "    <tr>\n",
       "      <th>0</th>\n",
       "      <td>ADAMS</td>\n",
       "      <td>BRONX</td>\n",
       "      <td>BLD 04</td>\n",
       "      <td>FEDERAL</td>\n",
       "      <td>CONSOLIDATED EDISON COMPANY OF NY</td>\n",
       "      <td>2010-01-01</td>\n",
       "      <td>2009-12-24</td>\n",
       "      <td>2010-01-26</td>\n",
       "      <td>33</td>\n",
       "      <td>78292.97</td>\n",
       "      <td>136632.00</td>\n",
       "    </tr>\n",
       "    <tr>\n",
       "      <th>1</th>\n",
       "      <td>ALBANY/ALBANY II</td>\n",
       "      <td>BROOKLYN</td>\n",
       "      <td>ALBANY BLD 04</td>\n",
       "      <td>FEDERAL</td>\n",
       "      <td>NATIONAL GRID NYC</td>\n",
       "      <td>2010-01-01</td>\n",
       "      <td>2009-12-29</td>\n",
       "      <td>2010-01-28</td>\n",
       "      <td>30</td>\n",
       "      <td>44335.21</td>\n",
       "      <td>153899.18</td>\n",
       "    </tr>\n",
       "    <tr>\n",
       "      <th>2</th>\n",
       "      <td>ALBANY/ALBANY II</td>\n",
       "      <td>BROOKLYN</td>\n",
       "      <td>ALBANY BLD 04</td>\n",
       "      <td>FEDERAL</td>\n",
       "      <td>NATIONAL GRID NYC</td>\n",
       "      <td>2010-01-01</td>\n",
       "      <td>2009-12-29</td>\n",
       "      <td>2010-01-28</td>\n",
       "      <td>30</td>\n",
       "      <td>22034.86</td>\n",
       "      <td>76488.82</td>\n",
       "    </tr>\n",
       "    <tr>\n",
       "      <th>3</th>\n",
       "      <td>AMSTERDAM</td>\n",
       "      <td>MANHATTAN</td>\n",
       "      <td>BLD 02</td>\n",
       "      <td>FEDERAL</td>\n",
       "      <td>CONSOLIDATED EDISON COMPANY OF NY</td>\n",
       "      <td>2010-01-01</td>\n",
       "      <td>2009-12-24</td>\n",
       "      <td>2010-01-26</td>\n",
       "      <td>33</td>\n",
       "      <td>95456.57</td>\n",
       "      <td>169137.00</td>\n",
       "    </tr>\n",
       "    <tr>\n",
       "      <th>4</th>\n",
       "      <td>AMSTERDAM AVENUE</td>\n",
       "      <td>MANHATTAN</td>\n",
       "      <td>BLD 01</td>\n",
       "      <td>FEDERAL</td>\n",
       "      <td>CONSOLIDATED EDISON COMPANY OF NY</td>\n",
       "      <td>2010-01-01</td>\n",
       "      <td>2009-12-24</td>\n",
       "      <td>2010-01-26</td>\n",
       "      <td>33</td>\n",
       "      <td>14607.73</td>\n",
       "      <td>26301.00</td>\n",
       "    </tr>\n",
       "    <tr>\n",
       "      <th>...</th>\n",
       "      <td>...</td>\n",
       "      <td>...</td>\n",
       "      <td>...</td>\n",
       "      <td>...</td>\n",
       "      <td>...</td>\n",
       "      <td>...</td>\n",
       "      <td>...</td>\n",
       "      <td>...</td>\n",
       "      <td>...</td>\n",
       "      <td>...</td>\n",
       "      <td>...</td>\n",
       "    </tr>\n",
       "    <tr>\n",
       "      <th>92194</th>\n",
       "      <td>WYCKOFF GARDENS</td>\n",
       "      <td>BROOKLYN</td>\n",
       "      <td>BLD 03</td>\n",
       "      <td>FEDERAL</td>\n",
       "      <td>NATIONAL GRID NYC</td>\n",
       "      <td>2021-06-01</td>\n",
       "      <td>2021-05-25</td>\n",
       "      <td>2021-06-25</td>\n",
       "      <td>31</td>\n",
       "      <td>1419.26</td>\n",
       "      <td>3615.00</td>\n",
       "    </tr>\n",
       "    <tr>\n",
       "      <th>92195</th>\n",
       "      <td>WYCKOFF GARDENS</td>\n",
       "      <td>BROOKLYN</td>\n",
       "      <td>BLD 03</td>\n",
       "      <td>FEDERAL</td>\n",
       "      <td>NATIONAL GRID NYC</td>\n",
       "      <td>2021-10-01</td>\n",
       "      <td>2021-09-24</td>\n",
       "      <td>2021-10-29</td>\n",
       "      <td>35</td>\n",
       "      <td>1036.26</td>\n",
       "      <td>1619.00</td>\n",
       "    </tr>\n",
       "    <tr>\n",
       "      <th>92196</th>\n",
       "      <td>WYCKOFF GARDENS</td>\n",
       "      <td>BROOKLYN</td>\n",
       "      <td>BLD 03</td>\n",
       "      <td>FEDERAL</td>\n",
       "      <td>NATIONAL GRID NYC</td>\n",
       "      <td>2021-11-01</td>\n",
       "      <td>2021-10-29</td>\n",
       "      <td>2021-12-01</td>\n",
       "      <td>33</td>\n",
       "      <td>2505.80</td>\n",
       "      <td>6768.00</td>\n",
       "    </tr>\n",
       "    <tr>\n",
       "      <th>92197</th>\n",
       "      <td>WYCKOFF GARDENS</td>\n",
       "      <td>BROOKLYN</td>\n",
       "      <td>BLD 03</td>\n",
       "      <td>FEDERAL</td>\n",
       "      <td>NATIONAL GRID NYC</td>\n",
       "      <td>2021-12-01</td>\n",
       "      <td>2021-12-21</td>\n",
       "      <td>2022-01-06</td>\n",
       "      <td>16</td>\n",
       "      <td>20992.58</td>\n",
       "      <td>50105.00</td>\n",
       "    </tr>\n",
       "    <tr>\n",
       "      <th>92198</th>\n",
       "      <td>WYCKOFF GARDENS</td>\n",
       "      <td>BROOKLYN</td>\n",
       "      <td>BLD 03</td>\n",
       "      <td>FEDERAL</td>\n",
       "      <td>NATIONAL GRID NYC</td>\n",
       "      <td>2022-01-01</td>\n",
       "      <td>2022-01-25</td>\n",
       "      <td>2022-02-03</td>\n",
       "      <td>9</td>\n",
       "      <td>21399.56</td>\n",
       "      <td>66923.00</td>\n",
       "    </tr>\n",
       "  </tbody>\n",
       "</table>\n",
       "<p>92199 rows × 11 columns</p>\n",
       "</div>"
      ],
      "text/plain": [
       "       Development Name    Borough       Location Funding Source  \\\n",
       "0                 ADAMS      BRONX         BLD 04        FEDERAL   \n",
       "1      ALBANY/ALBANY II   BROOKLYN  ALBANY BLD 04        FEDERAL   \n",
       "2      ALBANY/ALBANY II   BROOKLYN  ALBANY BLD 04        FEDERAL   \n",
       "3             AMSTERDAM  MANHATTAN         BLD 02        FEDERAL   \n",
       "4      AMSTERDAM AVENUE  MANHATTAN         BLD 01        FEDERAL   \n",
       "...                 ...        ...            ...            ...   \n",
       "92194   WYCKOFF GARDENS   BROOKLYN         BLD 03        FEDERAL   \n",
       "92195   WYCKOFF GARDENS   BROOKLYN         BLD 03        FEDERAL   \n",
       "92196   WYCKOFF GARDENS   BROOKLYN         BLD 03        FEDERAL   \n",
       "92197   WYCKOFF GARDENS   BROOKLYN         BLD 03        FEDERAL   \n",
       "92198   WYCKOFF GARDENS   BROOKLYN         BLD 03        FEDERAL   \n",
       "\n",
       "                             Vendor Name Revenue Month Service Start Date  \\\n",
       "0      CONSOLIDATED EDISON COMPANY OF NY    2010-01-01         2009-12-24   \n",
       "1                      NATIONAL GRID NYC    2010-01-01         2009-12-29   \n",
       "2                      NATIONAL GRID NYC    2010-01-01         2009-12-29   \n",
       "3      CONSOLIDATED EDISON COMPANY OF NY    2010-01-01         2009-12-24   \n",
       "4      CONSOLIDATED EDISON COMPANY OF NY    2010-01-01         2009-12-24   \n",
       "...                                  ...           ...                ...   \n",
       "92194                  NATIONAL GRID NYC    2021-06-01         2021-05-25   \n",
       "92195                  NATIONAL GRID NYC    2021-10-01         2021-09-24   \n",
       "92196                  NATIONAL GRID NYC    2021-11-01         2021-10-29   \n",
       "92197                  NATIONAL GRID NYC    2021-12-01         2021-12-21   \n",
       "92198                  NATIONAL GRID NYC    2022-01-01         2022-01-25   \n",
       "\n",
       "      Service End Date  # days  Current Charges  Consumption (Therms)  \n",
       "0           2010-01-26      33         78292.97             136632.00  \n",
       "1           2010-01-28      30         44335.21             153899.18  \n",
       "2           2010-01-28      30         22034.86              76488.82  \n",
       "3           2010-01-26      33         95456.57             169137.00  \n",
       "4           2010-01-26      33         14607.73              26301.00  \n",
       "...                ...     ...              ...                   ...  \n",
       "92194       2021-06-25      31          1419.26               3615.00  \n",
       "92195       2021-10-29      35          1036.26               1619.00  \n",
       "92196       2021-12-01      33          2505.80               6768.00  \n",
       "92197       2022-01-06      16         20992.58              50105.00  \n",
       "92198       2022-02-03       9         21399.56              66923.00  \n",
       "\n",
       "[92199 rows x 11 columns]"
      ]
     },
     "execution_count": 108,
     "metadata": {},
     "output_type": "execute_result"
    }
   ],
   "source": [
    "processed_gas_df = gas_df.copy().reset_index(drop=True)\n",
    "processed_gas_df"
   ]
  },
  {
   "cell_type": "markdown",
   "metadata": {},
   "source": [
    "#### Lưu vào folder\\file là `PROCESSED_heating-gas-consumption-and-cost.csv`"
   ]
  },
  {
   "cell_type": "code",
   "execution_count": 109,
   "metadata": {},
   "outputs": [],
   "source": [
    "save_name =  \"PROCESSED_heating-gas-consumption-and-cost.csv\"\n",
    "processed_gas_df.to_csv(\"Data/\" + save_name, index=False)"
   ]
  }
 ],
 "metadata": {
  "kernelspec": {
   "display_name": "Python 3 (ipykernel)",
   "language": "python",
   "name": "python3"
  },
  "language_info": {
   "codemirror_mode": {
    "name": "ipython",
    "version": 3
   },
   "file_extension": ".py",
   "mimetype": "text/x-python",
   "name": "python",
   "nbconvert_exporter": "python",
   "pygments_lexer": "ipython3",
   "version": "3.11.5"
  }
 },
 "nbformat": 4,
 "nbformat_minor": 2
}
